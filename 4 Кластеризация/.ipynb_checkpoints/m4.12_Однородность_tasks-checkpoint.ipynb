{
 "cells": [
  {
   "cell_type": "code",
   "execution_count": 1,
   "id": "51d6125f-00e5-4bd2-9941-9cbb3b85aff5",
   "metadata": {},
   "outputs": [],
   "source": [
    "#создадим датасет\n",
    "import numpy as np\n",
    "import matplotlib.pyplot as plt\n",
    "from sklearn import datasets\n",
    "\n",
    "n_samples = 1500\n",
    "dataset = datasets.make_blobs(n_samples=n_samples, centers=2, center_box=(-7.0, 7.5),\n",
    "                              cluster_std=[1.4, 1.7],\n",
    "                              random_state=42)\n",
    "X_2, _ = datasets.make_blobs(n_samples=n_samples, random_state=170, centers=[[-4, -3]], cluster_std=[1.9])\n",
    "transformation = [[1.2, -0.8], [-0.4, 1.7]]\n",
    "X_2 = np.dot(X_2, transformation)\n",
    "X, y = np.concatenate((dataset[0], X_2)), np.concatenate((dataset[1], np.array([2] * len(X_2))))"
   ]
  },
  {
   "cell_type": "code",
   "execution_count": 36,
   "id": "79e7366f-7048-4d0d-8a03-c48853b06003",
   "metadata": {},
   "outputs": [
    {
     "data": {
      "text/plain": [
       "0.8025180661661425"
      ]
     },
     "execution_count": 36,
     "metadata": {},
     "output_type": "execute_result"
    }
   ],
   "source": [
    "#Однородность можно посчитать при помощи реализации из библиотеки sklearn:\n",
    "\n",
    "from sklearn.cluster import KMeans\n",
    "from sklearn.metrics.cluster import homogeneity_score\n",
    "from sklearn.preprocessing import StandardScaler\n",
    "\n",
    "\n",
    "# сначала получим предсказанные кластеры при помощи метода кластеризации\n",
    "kmeans = KMeans(n_clusters=3, random_state=42)\n",
    "X = StandardScaler().fit_transform(X)\n",
    "kmeans.fit(X)\n",
    "kmeans_pred = kmeans.labels_ \n",
    "# теперь посчитаем однородность\n",
    "homogeneity_score(labels_true=y, labels_pred=kmeans_pred)"
   ]
  },
  {
   "cell_type": "markdown",
   "id": "f2e13a94-c379-40c2-a1a1-0acf846dd2b3",
   "metadata": {},
   "source": [
    "Полное описание функции можно прочитать в документации (англ.). https://scikit-learn.org/stable/modules/generated/sklearn.metrics.homogeneity_score.html"
   ]
  },
  {
   "cell_type": "markdown",
   "id": "61821146-af1a-4bbb-9b90-0ebfec0a0ba6",
   "metadata": {},
   "source": [
    "#### Задание 4.12.1\n",
    "\n",
    "Сравните результаты кластеризации алгоритмов k-means, GaussianMixture, AgglomerativeClustering и DBSCAN на исходном датасете при помощи однородности, инициализируйте алгоритмы со следующими параметрами:\n",
    "\n",
    "                k-means — n_clusters=3, random_state=42\n",
    "                GaussianMixture — n_components=3, random_state=42\n",
    "                AgglomerativeClustering — n_clusters=3\n",
    "                DBSCAN — eps=0.9, min_samples=35\n",
    "\n",
    "В качестве ответа укажите __максимальное значение однородности__, полученное при помощи данных моделей. Ответ округлите до сотых и запишите с точкой.\n",
    "\n",
    "При решении задания стандартизация должна быть включена."
   ]
  },
  {
   "cell_type": "code",
   "execution_count": null,
   "id": "8425ee47-e3eb-426c-ab3b-44281300fb6b",
   "metadata": {},
   "outputs": [],
   "source": []
  },
  {
   "cell_type": "code",
   "execution_count": 53,
   "id": "8b6552a9-9b51-426e-9d3b-2c1875fd517b",
   "metadata": {},
   "outputs": [],
   "source": [
    "import numpy as np\n",
    "uniformity = []#однородность"
   ]
  },
  {
   "cell_type": "code",
   "execution_count": 54,
   "id": "3a58062f-12fc-4014-ab99-c1d455f1f691",
   "metadata": {},
   "outputs": [],
   "source": [
    "from sklearn.cluster import KMeans\n",
    "# сначала получим предсказанные кластеры при помощи метода кластеризации\n",
    "kmeans = KMeans(n_clusters=3, random_state=42)\n",
    "X = StandardScaler().fit_transform(X)\n",
    "kmeans.fit(X)\n",
    "kmeans_pred = kmeans.labels_ \n",
    "# теперь посчитаем однородность\n",
    "u = homogeneity_score(labels_true=y, labels_pred=kmeans_pred)\n",
    "\n",
    "uniformity.append(u)"
   ]
  },
  {
   "cell_type": "code",
   "execution_count": 55,
   "id": "e080b145-08d8-4f61-8d90-90d5cfc7f890",
   "metadata": {},
   "outputs": [],
   "source": [
    "from sklearn.mixture import GaussianMixture\n",
    "em_gm = GaussianMixture(n_components=3,max_iter=42)\n",
    "X = StandardScaler().fit_transform(X)\n",
    "y_pred = em_gm.fit_predict(X)\n",
    "# means = em_gm.means_\n",
    "\n",
    "# теперь посчитаем однородность\n",
    "u = homogeneity_score(labels_true=y, labels_pred=y_pred)\n",
    "\n",
    "uniformity.append(u)"
   ]
  },
  {
   "cell_type": "code",
   "execution_count": 56,
   "id": "7420a940-ffc7-4c1e-b35b-b094f996fc2c",
   "metadata": {},
   "outputs": [],
   "source": [
    "from sklearn.cluster import AgglomerativeClustering\n",
    "ac = AgglomerativeClustering(n_clusters=3)\n",
    "X = StandardScaler().fit_transform(X)\n",
    "ac.fit(X)\n",
    "ac_pred = ac.labels_\n",
    "\n",
    "# теперь посчитаем однородность\n",
    "u = homogeneity_score(labels_true=y, labels_pred=ac_pred)\n",
    "\n",
    "uniformity.append(u)"
   ]
  },
  {
   "cell_type": "code",
   "execution_count": 57,
   "id": "0c887412-1c0e-4cb4-a474-4e8ffbe3efd2",
   "metadata": {},
   "outputs": [],
   "source": [
    "from sklearn.cluster import DBSCAN\n",
    "dbscan = DBSCAN(eps=0.9, min_samples=35)\n",
    "X = StandardScaler().fit_transform(X)\n",
    "dbscan.fit(X)\n",
    "db_pred = dbscan.labels_\n",
    "\n",
    "# теперь посчитаем однородность\n",
    "u = homogeneity_score(labels_true=y, labels_pred=db_pred)\n",
    "\n",
    "uniformity.append(u)"
   ]
  },
  {
   "cell_type": "code",
   "execution_count": 58,
   "id": "2cc0bb53-c5f3-4e99-a730-c8e9ce6d0c68",
   "metadata": {},
   "outputs": [
    {
     "data": {
      "text/plain": [
       "[0.8025180661661425,\n",
       " 0.9339791347507893,\n",
       " 0.9099781767383747,\n",
       " 0.00044465831964150197]"
      ]
     },
     "execution_count": 58,
     "metadata": {},
     "output_type": "execute_result"
    }
   ],
   "source": [
    "uniformity"
   ]
  },
  {
   "cell_type": "code",
   "execution_count": 59,
   "id": "c4bc379d-1b6f-4348-9a6a-60745e2e6965",
   "metadata": {},
   "outputs": [
    {
     "data": {
      "text/plain": [
       "0.93"
      ]
     },
     "execution_count": 59,
     "metadata": {},
     "output_type": "execute_result"
    }
   ],
   "source": [
    "round(max(uniformity), 2)\n",
    "#0.93 is correct"
   ]
  }
 ],
 "metadata": {
  "kernelspec": {
   "display_name": "Python 3 (ipykernel)",
   "language": "python",
   "name": "python3"
  },
  "language_info": {
   "codemirror_mode": {
    "name": "ipython",
    "version": 3
   },
   "file_extension": ".py",
   "mimetype": "text/x-python",
   "name": "python",
   "nbconvert_exporter": "python",
   "pygments_lexer": "ipython3",
   "version": "3.8.10"
  }
 },
 "nbformat": 4,
 "nbformat_minor": 5
}
