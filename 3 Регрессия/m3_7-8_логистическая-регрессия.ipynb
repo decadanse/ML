{
 "cells": [
  {
   "cell_type": "markdown",
   "id": "1a76f0e9-0346-4600-b102-e549a0a0df9a",
   "metadata": {},
   "source": [
    "Линейная регрессия может предсказать значения меньше 0 или больше 1 --> плохо подходит для предсказания вероятности."
   ]
  },
  {
   "cell_type": "markdown",
   "id": "6ea40666-2aac-412b-ac84-7b788f1a6ef2",
   "metadata": {},
   "source": [
    "Отступ (margin) объекта - мера, которая показывает, насколько она точно приблежает конкретный объект\n",
    "Mi(w)"
   ]
  },
  {
   "cell_type": "markdown",
   "id": "cc957db1-0e6f-489a-8ee5-56c260b79161",
   "metadata": {},
   "source": [
    "Зачем вводится понятие margin?\n",
    " -  Чтобы свести классификацию к регрессии \n",
    " -  Чтобы сделать функцию потерь непрерывной \n",
    " -  Чтобы точнее оценивать качество модели  "
   ]
  },
  {
   "cell_type": "markdown",
   "id": "3bbb1e59-4fa2-497f-b803-6e1da77aa975",
   "metadata": {},
   "source": [
    "Логистическая функция хорошо приближает значения (0;1): \n",
    "- logistic(z)\n",
    "\n",
    "P - максимальное значение;\n",
    "k - наклон"
   ]
  },
  {
   "cell_type": "markdown",
   "id": "788aeec7-f04a-4933-ad90-71e0357de530",
   "metadata": {},
   "source": [
    "Logloss учитывает уверенность классификатора в ответе --> logloss больше подходит для оценки качества логистической регрессии, чем accuracy."
   ]
  },
  {
   "cell_type": "markdown",
   "id": "92fa883d-b857-4417-b326-f26f3c1b953b",
   "metadata": {},
   "source": [
    "#### Задание 3.8.3 \n",
    "Посчитайте logloss для данных в таблице (без нормализации). "
   ]
  },
  {
   "cell_type": "code",
   "execution_count": 117,
   "id": "2057130f-0bde-422e-8155-5fe79f679f1e",
   "metadata": {},
   "outputs": [],
   "source": [
    "import numpy as np"
   ]
  },
  {
   "cell_type": "code",
   "execution_count": 118,
   "id": "55a5bdd6-c322-4f77-b17e-dbc4315b16e8",
   "metadata": {},
   "outputs": [],
   "source": [
    "def logloss(y_true, y_pred):\n",
    "    loss = -y_true*np.log(y_pred) - (1 - y_true)*np.log(1 - y_pred)\n",
    "    return loss"
   ]
  },
  {
   "cell_type": "code",
   "execution_count": 119,
   "id": "6801643a-edb3-4545-86a7-252bdb0340cc",
   "metadata": {},
   "outputs": [],
   "source": [
    "predicted_val = np.array([0.2,0.8,1,0.6])\n",
    "thrue_val = np.array([0,0,1,1])"
   ]
  },
  {
   "cell_type": "code",
   "execution_count": 120,
   "id": "5f3391a6-33d9-429c-a5c7-995c85683083",
   "metadata": {},
   "outputs": [],
   "source": [
    "#\"логарифм в гуде не определён, в реальной жизни в коде ln(0) будет NaN, в нашем случае можно считать, что ln(0) =0\" - comment from teacher about task\n",
    "\n",
    "# loss = 0\n",
    "# for i in range(len(predicted_val)):\n",
    "#     print(thrue_val[i])\n",
    "#     print(predicted_val[i])\n",
    "#     loss += logloss(thrue_val[i],predicted_val[i])"
   ]
  },
  {
   "cell_type": "code",
   "execution_count": 121,
   "id": "3f40bb3f-c41d-4c54-b60f-10adc46c75ff",
   "metadata": {},
   "outputs": [],
   "source": [
    "# loss"
   ]
  },
  {
   "cell_type": "code",
   "execution_count": 122,
   "id": "e251e3e1-3802-4411-ad1c-d7ea32563b2d",
   "metadata": {},
   "outputs": [
    {
     "name": "stderr",
     "output_type": "stream",
     "text": [
      "/tmp/ipykernel_23750/1797118776.py:2: RuntimeWarning: divide by zero encountered in log\n",
      "  loss = -y_true*np.log(y_pred) - (1 - y_true)*np.log(1 - y_pred)\n",
      "/tmp/ipykernel_23750/1797118776.py:2: RuntimeWarning: invalid value encountered in double_scalars\n",
      "  loss = -y_true*np.log(y_pred) - (1 - y_true)*np.log(1 - y_pred)\n"
     ]
    },
    {
     "data": {
      "text/plain": [
       "2.3434070875143007"
      ]
     },
     "execution_count": 122,
     "metadata": {},
     "output_type": "execute_result"
    }
   ],
   "source": [
    "np.nansum([logloss(0, 0.2), logloss(0, 0.8), logloss(1, 1), logloss(1, 0.6)]) # 2.34 is correct answer"
   ]
  },
  {
   "cell_type": "markdown",
   "id": "48ce5b20-9a50-403d-913b-9d371971e196",
   "metadata": {},
   "source": [
    "задание было именно в том, чтобы самостоятельно перекодить logloss, а не использовать его из sklearn."
   ]
  },
  {
   "cell_type": "code",
   "execution_count": 102,
   "id": "f438f6d5-dd7d-458d-b430-44191f1411a5",
   "metadata": {},
   "outputs": [],
   "source": [
    "from sklearn.metrics import log_loss"
   ]
  },
  {
   "cell_type": "code",
   "execution_count": 103,
   "id": "c4c9e5ba-c168-49a2-a1d0-440b68c0a31f",
   "metadata": {},
   "outputs": [
    {
     "data": {
      "text/plain": [
       "0.5858517718785755"
      ]
     },
     "execution_count": 103,
     "metadata": {},
     "output_type": "execute_result"
    }
   ],
   "source": [
    "log_loss(thrue_val, predicted_val)"
   ]
  },
  {
   "cell_type": "markdown",
   "id": "2dbd56b3-f4f5-4f5b-9b53-3a13389c0e2f",
   "metadata": {},
   "source": [
    "#### Задание 3.8.4\n",
    "Посчитайте logloss для данных в таблице. Необходимо найти среднюю ошибку. "
   ]
  },
  {
   "attachments": {
    "5617d5a8-0363-466d-a6a0-701841b7c5c5.png": {
     "image/png": "[encoded data removed]"
    }
   },
   "cell_type": "markdown",
   "id": "36da68c4-a1e4-41ad-8fc3-4f4ad4e50333",
   "metadata": {},
   "source": [
    "![изображение.png](attachment:5617d5a8-0363-466d-a6a0-701841b7c5c5.png)"
   ]
  },
  {
   "cell_type": "code",
   "execution_count": 113,
   "id": "f0076232-ec0a-44a9-ad86-7c93788c8585",
   "metadata": {},
   "outputs": [],
   "source": [
    "y_pred = np.array([[0.2, 0.3, 0.5], [0, 0, 1], [0.1, 0, 0.9]])\n",
    "y_true = np.array([[0, 0, 1], [0, 0, 1], [1, 0, 0]])"
   ]
  },
  {
   "cell_type": "code",
   "execution_count": 114,
   "id": "725068c2-d34a-4ec9-a6db-da5e59a34c21",
   "metadata": {},
   "outputs": [],
   "source": [
    "def mult_logloss(y_true, y_pred):\n",
    "    n, m = y_true.shape[0], y_true.shape[1] #shape[0] will give the number of rows in an array. shape[1] will print out the number of columns\n",
    "    sum_ = []\n",
    "    for i in range(n):\n",
    "        for j in range(m):\n",
    "            if y_true[i][j] != 0 and y_pred[i][j] != 0:\n",
    "                sum_.append(y_true[i][j] * np.log(y_pred[i][j]))\n",
    "    sum_ = np.nansum(sum_)\n",
    "    loss = -(sum_ / n)\n",
    "    return loss"
   ]
  },
  {
   "cell_type": "code",
   "execution_count": 115,
   "id": "96ffb136-7c3b-4a32-8305-f8b57e7b8c0b",
   "metadata": {},
   "outputs": [
    {
     "data": {
      "text/plain": [
       "0.9985774245179969"
      ]
     },
     "execution_count": 115,
     "metadata": {},
     "output_type": "execute_result"
    }
   ],
   "source": [
    "mult_logloss(y_true, y_pred) #correct"
   ]
  },
  {
   "cell_type": "code",
   "execution_count": 125,
   "id": "68f10f97-72d6-456e-9dd8-a25f0450fe1c",
   "metadata": {},
   "outputs": [
    {
     "data": {
      "text/plain": [
       "0.998577424517998"
      ]
     },
     "execution_count": 125,
     "metadata": {},
     "output_type": "execute_result"
    }
   ],
   "source": [
    "log_loss(y_true,y_pred,normalize=True) #also correct"
   ]
  },
  {
   "cell_type": "code",
   "execution_count": null,
   "id": "5b2c20be-da84-4410-a904-8fb869bef8ff",
   "metadata": {},
   "outputs": [],
   "source": []
  }
 ],
 "metadata": {
  "kernelspec": {
   "display_name": "Python 3 (ipykernel)",
   "language": "python",
   "name": "python3"
  },
  "language_info": {
   "codemirror_mode": {
    "name": "ipython",
    "version": 3
   },
   "file_extension": ".py",
   "mimetype": "text/x-python",
   "name": "python",
   "nbconvert_exporter": "python",
   "pygments_lexer": "ipython3",
   "version": "3.8.10"
  }
 },
 "nbformat": 4,
 "nbformat_minor": 5
}
