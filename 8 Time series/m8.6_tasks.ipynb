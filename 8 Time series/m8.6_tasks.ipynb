{
 "cells": [
  {
   "cell_type": "code",
   "execution_count": 1,
   "id": "23a3c69f-1ca0-40ff-accc-93bba536708c",
   "metadata": {},
   "outputs": [],
   "source": [
    "import numpy as np, pandas as pd\n",
    "import matplotlib.pyplot as plt\n",
    "\n",
    "data = pd.read_csv('m8.6_srt_data.csv')"
   ]
  },
  {
   "cell_type": "code",
   "execution_count": 32,
   "id": "708bbc09-46af-4cd6-8303-c053973823dd",
   "metadata": {},
   "outputs": [
    {
     "name": "stdout",
     "output_type": "stream",
     "text": [
      "df.shape = (4824, 6)\n"
     ]
    },
    {
     "data": {
      "text/html": [
       "<div>\n",
       "<style scoped>\n",
       "    .dataframe tbody tr th:only-of-type {\n",
       "        vertical-align: middle;\n",
       "    }\n",
       "\n",
       "    .dataframe tbody tr th {\n",
       "        vertical-align: top;\n",
       "    }\n",
       "\n",
       "    .dataframe thead th {\n",
       "        text-align: right;\n",
       "    }\n",
       "</style>\n",
       "<table border=\"1\" class=\"dataframe\">\n",
       "  <thead>\n",
       "    <tr style=\"text-align: right;\">\n",
       "      <th></th>\n",
       "      <th>ts</th>\n",
       "      <th>serialNo</th>\n",
       "      <th>home</th>\n",
       "      <th>batteryVoltageMilliV</th>\n",
       "      <th>insideTemperatureCentiC</th>\n",
       "      <th>humidityMilliPerc</th>\n",
       "    </tr>\n",
       "  </thead>\n",
       "  <tbody>\n",
       "    <tr>\n",
       "      <th>0</th>\n",
       "      <td>2018-10-01</td>\n",
       "      <td>VA4202760704</td>\n",
       "      <td>165132</td>\n",
       "      <td>2787.1310</td>\n",
       "      <td>1953.0737</td>\n",
       "      <td>575.49180</td>\n",
       "    </tr>\n",
       "    <tr>\n",
       "      <th>1</th>\n",
       "      <td>2018-10-02</td>\n",
       "      <td>VA4202760704</td>\n",
       "      <td>165132</td>\n",
       "      <td>2786.1047</td>\n",
       "      <td>1901.0000</td>\n",
       "      <td>550.63710</td>\n",
       "    </tr>\n",
       "    <tr>\n",
       "      <th>2</th>\n",
       "      <td>2018-10-03</td>\n",
       "      <td>VA4202760704</td>\n",
       "      <td>165132</td>\n",
       "      <td>2784.6934</td>\n",
       "      <td>1878.0369</td>\n",
       "      <td>550.09204</td>\n",
       "    </tr>\n",
       "    <tr>\n",
       "      <th>3</th>\n",
       "      <td>2018-10-04</td>\n",
       "      <td>VA4202760704</td>\n",
       "      <td>165132</td>\n",
       "      <td>2773.3500</td>\n",
       "      <td>1976.9114</td>\n",
       "      <td>583.65820</td>\n",
       "    </tr>\n",
       "    <tr>\n",
       "      <th>4</th>\n",
       "      <td>2018-10-05</td>\n",
       "      <td>VA4202760704</td>\n",
       "      <td>165132</td>\n",
       "      <td>2776.4314</td>\n",
       "      <td>2041.4010</td>\n",
       "      <td>589.74110</td>\n",
       "    </tr>\n",
       "  </tbody>\n",
       "</table>\n",
       "</div>"
      ],
      "text/plain": [
       "           ts      serialNo    home  batteryVoltageMilliV  \\\n",
       "0  2018-10-01  VA4202760704  165132             2787.1310   \n",
       "1  2018-10-02  VA4202760704  165132             2786.1047   \n",
       "2  2018-10-03  VA4202760704  165132             2784.6934   \n",
       "3  2018-10-04  VA4202760704  165132             2773.3500   \n",
       "4  2018-10-05  VA4202760704  165132             2776.4314   \n",
       "\n",
       "   insideTemperatureCentiC  humidityMilliPerc  \n",
       "0                1953.0737          575.49180  \n",
       "1                1901.0000          550.63710  \n",
       "2                1878.0369          550.09204  \n",
       "3                1976.9114          583.65820  \n",
       "4                2041.4010          589.74110  "
      ]
     },
     "execution_count": 32,
     "metadata": {},
     "output_type": "execute_result"
    }
   ],
   "source": [
    "df = data.copy()\n",
    "print(f'df.shape = {df.shape}')\n",
    "df.head()"
   ]
  },
  {
   "cell_type": "markdown",
   "id": "f5bee5f5-53e9-4105-a12c-e31148753f23",
   "metadata": {
    "tags": []
   },
   "source": [
    "#### Задание 8.6.1-2-3\n",
    "\n",
    "Выберите данные с датчика с серийным номером VA2170620672.\n",
    "\n",
    "Укажите максимальное значение напряжения на батарее (batteryVoltageMilliV).\n",
    "\n",
    "Для того же датчика укажите значение напряжения на батарее, соответствующее 75% квантиля распределения\n",
    "\n",
    "Для того же датчика выберите данные за ноябрь 2018 и укажите медианное значение на влажности (humidityMilliPerc) "
   ]
  },
  {
   "cell_type": "code",
   "execution_count": 4,
   "id": "154f5bd8-64dd-496f-8d14-70ad9599f951",
   "metadata": {},
   "outputs": [
    {
     "data": {
      "text/plain": [
       "ts                         0\n",
       "serialNo                   0\n",
       "home                       0\n",
       "batteryVoltageMilliV       3\n",
       "insideTemperatureCentiC    2\n",
       "humidityMilliPerc          0\n",
       "dtype: int64"
      ]
     },
     "execution_count": 4,
     "metadata": {},
     "output_type": "execute_result"
    }
   ],
   "source": [
    "df.isna().sum()"
   ]
  },
  {
   "cell_type": "code",
   "execution_count": 6,
   "id": "64a20e40-13fd-4443-82dd-446d1897b129",
   "metadata": {
    "ExecuteTime": {
     "end_time": "2019-08-11T16:40:49.799134Z",
     "start_time": "2019-08-11T16:40:49.793149Z"
    }
   },
   "outputs": [
    {
     "data": {
      "text/plain": [
       "array(['VA4202760704', 'VA2048854528', 'VA1193214976', 'VA1716324096',\n",
       "       'VA2836597248', 'VA1274217216', 'VA1650526976', 'VA2204175104',\n",
       "       'VA2254506752', 'VA2220952320', 'VA1403717888', 'VA3182037248',\n",
       "       'VA4112452096', 'VA2170620672', 'VA2594769152', 'VA1813907968',\n",
       "       'VA2509703424', 'VA3013019904', 'VA3105819136', 'VA2412775168',\n",
       "       'VA1730087424', 'VA3536849408', 'VA0346098176', 'VA1617037568',\n",
       "       'VA2297627392'], dtype=object)"
      ]
     },
     "execution_count": 6,
     "metadata": {},
     "output_type": "execute_result"
    }
   ],
   "source": [
    "df.serialNo.unique()"
   ]
  },
  {
   "cell_type": "code",
   "execution_count": 24,
   "id": "9bb3f247-2fc1-421a-9f70-cb1b09352dbc",
   "metadata": {},
   "outputs": [
    {
     "name": "stdout",
     "output_type": "stream",
     "text": [
      "3219.567\n"
     ]
    }
   ],
   "source": [
    "#Укажите максимальное значение напряжения на батарее (batteryVoltageMilliV).\n",
    "df = data[data.serialNo == 'VA2170620672']\n",
    "bvm = df.batteryVoltageMilliV.max()\n",
    "print(bvm)"
   ]
  },
  {
   "cell_type": "code",
   "execution_count": 25,
   "id": "084ce4fd-10f8-4b40-86f7-85d32b812ada",
   "metadata": {},
   "outputs": [
    {
     "name": "stdout",
     "output_type": "stream",
     "text": [
      "2951.2801\n"
     ]
    }
   ],
   "source": [
    "#Для того же датчика укажите значение напряжения на батарее, соответствующее 75% квантиля распределения\n",
    "serNo1 = 'VA2170620672'\n",
    "\n",
    "data_sensor_1 = data[data.serialNo == serNo1]\n",
    "print(data_sensor_1.batteryVoltageMilliV.quantile(.75))"
   ]
  },
  {
   "cell_type": "code",
   "execution_count": 29,
   "id": "d9a4bd1d-d173-4b77-bff5-530e796814e8",
   "metadata": {},
   "outputs": [
    {
     "name": "stdout",
     "output_type": "stream",
     "text": [
      "566.3562\n"
     ]
    },
    {
     "name": "stderr",
     "output_type": "stream",
     "text": [
      "/tmp/ipykernel_14010/2446904265.py:3: UserWarning: Boolean Series key will be reindexed to match DataFrame index.\n",
      "  df1 = df[data.ts < '2018-12-01']\n",
      "/tmp/ipykernel_14010/2446904265.py:5: UserWarning: Boolean Series key will be reindexed to match DataFrame index.\n",
      "  df2 = df1[data.ts >= '2018-11-01']\n"
     ]
    }
   ],
   "source": [
    "#Для того же датчика выберите данные за ноябрь 2018 и укажите медианное значение на влажности (humidityMilliPerc) \n",
    "df = data[data.serialNo == 'VA2170620672']\n",
    "df1 = df[data.ts < '2018-12-01']\n",
    "df2 = df1[data.ts >= '2018-11-01']\n",
    "# print(df2.ts)\n",
    "humipe = df2.humidityMilliPerc.median()\n",
    "print(humipe)"
   ]
  },
  {
   "cell_type": "markdown",
   "id": "9e565c1b-3dbd-4bac-86e3-cf5fa8ce2555",
   "metadata": {},
   "source": [
    "#### Задание 8.6.4\n",
    "\n",
    "Выберите данные с датчика с серийным номером VA2048854528.\n",
    "\n",
    "Постройте график напряжения на батарее (batteryVoltageMilliV).\n",
    "\n",
    "Укажите, сколько раз батарея была заменена (количество пиков со значением выше 3200 mV). (answer is 1)"
   ]
  },
  {
   "cell_type": "code",
   "execution_count": 31,
   "id": "fda82254-40f1-4405-b9e0-11f8a63896fe",
   "metadata": {},
   "outputs": [
    {
     "data": {
      "text/plain": [
       "<AxesSubplot:xlabel='ts'>"
      ]
     },
     "execution_count": 31,
     "metadata": {},
     "output_type": "execute_result"
    },
    {
     "data": {
      "image/png": "[encoded data removed]",
      "text/plain": [
       "<Figure size 432x288 with 1 Axes>"
      ]
     },
     "metadata": {
      "needs_background": "light"
     },
     "output_type": "display_data"
    }
   ],
   "source": [
    "df = data[data.serialNo == 'VA2048854528']\n",
    "df.plot('ts', 'batteryVoltageMilliV')"
   ]
  },
  {
   "cell_type": "markdown",
   "id": "948730d7-f7f3-42af-b00b-ec4f31e7b074",
   "metadata": {
    "tags": []
   },
   "source": [
    "#### Задание 8.6.5\n",
    "Укажите, сколько значений температуры (среди всех данных) лежат строго ниже 1200сС (12 градусов Цельсия)"
   ]
  },
  {
   "cell_type": "code",
   "execution_count": 35,
   "id": "bf0b234b-3172-4b2b-a8b0-4603bf850cef",
   "metadata": {},
   "outputs": [
    {
     "name": "stdout",
     "output_type": "stream",
     "text": [
      "92\n"
     ]
    }
   ],
   "source": [
    "df = data[data.insideTemperatureCentiC < 1200]\n",
    "print(len(df))"
   ]
  },
  {
   "cell_type": "markdown",
   "id": "477bf640-f2ce-4ab9-b6e7-a2c3cfc97265",
   "metadata": {},
   "source": [
    "#### Задание 8.6.6\n",
    "Укажите, сколько значений температуры (среди всех данных) лежат нестрого выше 75%-квантиля, вычисленного по всем датчикам"
   ]
  },
  {
   "cell_type": "code",
   "execution_count": 36,
   "id": "d9281e2d-b4e4-4e61-b412-efe55629ef94",
   "metadata": {},
   "outputs": [
    {
     "name": "stdout",
     "output_type": "stream",
     "text": [
      "1206\n"
     ]
    }
   ],
   "source": [
    "#8.6.6\n",
    "quan_75 = data.insideTemperatureCentiC.quantile(.75)\n",
    "print(data[data.insideTemperatureCentiC >= quan_75].shape[0])"
   ]
  },
  {
   "cell_type": "code",
   "execution_count": null,
   "id": "d302e717-0546-4b8f-a105-763f53e3be10",
   "metadata": {},
   "outputs": [],
   "source": []
  }
 ],
 "metadata": {
  "kernelspec": {
   "display_name": "Python 3 (ipykernel)",
   "language": "python",
   "name": "python3"
  },
  "language_info": {
   "codemirror_mode": {
    "name": "ipython",
    "version": 3
   },
   "file_extension": ".py",
   "mimetype": "text/x-python",
   "name": "python",
   "nbconvert_exporter": "python",
   "pygments_lexer": "ipython3",
   "version": "3.8.10"
  }
 },
 "nbformat": 4,
 "nbformat_minor": 5
}
