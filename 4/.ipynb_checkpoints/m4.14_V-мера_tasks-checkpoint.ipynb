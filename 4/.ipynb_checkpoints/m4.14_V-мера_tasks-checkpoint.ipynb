{
 "cells": [
  {
   "cell_type": "code",
   "execution_count": 2,
   "id": "013a7902-d526-48ab-a448-8bce6c63f385",
   "metadata": {},
   "outputs": [],
   "source": [
    "#создадим датасет\n",
    "import numpy as np\n",
    "import matplotlib.pyplot as plt\n",
    "from sklearn import datasets\n",
    "\n",
    "n_samples = 1500\n",
    "dataset = datasets.make_blobs(n_samples=n_samples, centers=2, center_box=(-7.0, 7.5),\n",
    "                              cluster_std=[1.4, 1.7],\n",
    "                              random_state=42)\n",
    "X_2, _ = datasets.make_blobs(n_samples=n_samples, random_state=170, centers=[[-4, -3]], cluster_std=[1.9])\n",
    "transformation = [[1.2, -0.8], [-0.4, 1.7]]\n",
    "X_2 = np.dot(X_2, transformation)\n",
    "X, y = np.concatenate((dataset[0], X_2)), np.concatenate((dataset[1], np.array([2] * len(X_2))))"
   ]
  },
  {
   "cell_type": "code",
   "execution_count": 6,
   "id": "79e7366f-7048-4d0d-8a03-c48853b06003",
   "metadata": {},
   "outputs": [
    {
     "data": {
      "text/plain": [
       "0.791546668267586"
      ]
     },
     "execution_count": 6,
     "metadata": {},
     "output_type": "execute_result"
    }
   ],
   "source": [
    "#V-меру можно посчитать при помощи реализации из библиотеки sklearn:\n",
    "from sklearn.cluster import KMeans\n",
    "from sklearn.metrics.cluster import v_measure_score\n",
    "\n",
    "# сначала получим предсказанные кластеры при помощи метода кластеризации\n",
    "kmeans = KMeans(n_clusters=3, random_state=42)\n",
    "kmeans.fit(X)\n",
    "kmeans_pred = kmeans.labels_\n",
    "\n",
    "# теперь посчитаем v-меру\n",
    "v_measure_score(labels_true=y, labels_pred=kmeans_pred)"
   ]
  },
  {
   "cell_type": "markdown",
   "id": "f2e13a94-c379-40c2-a1a1-0acf846dd2b3",
   "metadata": {},
   "source": [
    "Полное описание функции можно прочитать в документации (англ.). https://scikit-learn.org/stable/modules/generated/sklearn.metrics.v_measure_score.html"
   ]
  },
  {
   "cell_type": "code",
   "execution_count": null,
   "id": "034fa205-338d-4bbb-a668-06d43df5c795",
   "metadata": {},
   "outputs": [],
   "source": []
  },
  {
   "cell_type": "code",
   "execution_count": null,
   "id": "9d407cb1-9e70-48b8-9fcd-04f9f3b5af72",
   "metadata": {},
   "outputs": [],
   "source": []
  },
  {
   "cell_type": "markdown",
   "id": "61821146-af1a-4bbb-9b90-0ebfec0a0ba6",
   "metadata": {
    "tags": []
   },
   "source": [
    "#### Задание 4.14.1\n",
    "Обучите модель GaussianMixture с параметрами n_components=3 и random_state=42 на признаках исходного датасета. Посчитайте v-меру для получившейся кластеризации.\n",
    "\n",
    "Подсказка: При решении задания стандартизация должна быть включена. Ответ округлите до сотых и запишите с точкой."
   ]
  },
  {
   "cell_type": "code",
   "execution_count": 7,
   "id": "1bbcffeb-972b-4675-881b-cba22cd4349f",
   "metadata": {},
   "outputs": [
    {
     "data": {
      "text/plain": [
       "0.93"
      ]
     },
     "execution_count": 7,
     "metadata": {},
     "output_type": "execute_result"
    }
   ],
   "source": [
    "from sklearn.mixture import GaussianMixture\n",
    "from sklearn.metrics.cluster import v_measure_score\n",
    "from sklearn.preprocessing import StandardScaler\n",
    "em_gm = GaussianMixture(n_components=3,max_iter=42)\n",
    "X = StandardScaler().fit_transform(X)\n",
    "y_pred = em_gm.fit_predict(X)\n",
    "# means = em_gm.means_\n",
    "\n",
    "# теперь посчитаем v-меру\n",
    "f = v_measure_score(labels_true=y, labels_pred=y_pred)\n",
    "\n",
    "round(f, 2)\n",
    "#0.93 is correct"
   ]
  },
  {
   "cell_type": "code",
   "execution_count": null,
   "id": "d0e12ca6-9e6b-4bfd-8e92-bf3e11b20102",
   "metadata": {},
   "outputs": [],
   "source": []
  },
  {
   "cell_type": "markdown",
   "id": "d8b02c8d-cf85-43fb-8761-de973f0f76ee",
   "metadata": {
    "tags": []
   },
   "source": [
    "#### Задание 4.14.2\n",
    "\n",
    "Сравните результаты кластеризации алгоритмов K-means, GaussianMixture, AgglomerativeClustering и DBSCAN на исходном датасете при помощи полноты, инициализируйте алгоритмы со следующими параметрами:\n",
    "\n",
    "                K-means – n_clusters=3, random_state=42\n",
    "                GaussianMixture – n_components=3, random_state=42\n",
    "                AgglomerativeClustering – n_clusters=3\n",
    "                DBSCAN – eps=0.9, min_samples=35\n",
    "\n",
    "В качестве ответа укажите __максимальное значение v-меры__, полученное при помощи данных моделей.\n",
    "\n",
    "Подсказка: При решении задания стандартизация должна быть включена. Ответ округлите до сотых и запишите с точкой."
   ]
  },
  {
   "cell_type": "code",
   "execution_count": 8,
   "id": "06f4ca42-6d9a-48b7-a1dc-2fde2e185f37",
   "metadata": {
    "tags": []
   },
   "outputs": [],
   "source": [
    "import numpy as np\n",
    "fullness = []#v-меры"
   ]
  },
  {
   "cell_type": "code",
   "execution_count": 9,
   "id": "94109053-d9b3-4d40-9047-8431f4280cae",
   "metadata": {},
   "outputs": [],
   "source": [
    "from sklearn.cluster import KMeans\n",
    "# сначала получим предсказанные кластеры при помощи метода кластеризации\n",
    "kmeans = KMeans(n_clusters=3, random_state=42)\n",
    "X = StandardScaler().fit_transform(X)\n",
    "kmeans.fit(X)\n",
    "kmeans_pred = kmeans.labels_ \n",
    "# теперь посчитаем v-меру\n",
    "f = v_measure_score(labels_true=y, labels_pred=kmeans_pred)\n",
    "\n",
    "fullness.append(f)"
   ]
  },
  {
   "cell_type": "code",
   "execution_count": 10,
   "id": "f6f843f8-0848-434e-a583-9f27f8003c4a",
   "metadata": {},
   "outputs": [],
   "source": [
    "from sklearn.mixture import GaussianMixture\n",
    "em_gm = GaussianMixture(n_components=3,max_iter=42)\n",
    "X = StandardScaler().fit_transform(X)\n",
    "y_pred = em_gm.fit_predict(X)\n",
    "# means = em_gm.means_\n",
    "\n",
    "# теперь посчитаем v-меру\n",
    "f = v_measure_score(labels_true=y, labels_pred=y_pred)\n",
    "\n",
    "fullness.append(f)"
   ]
  },
  {
   "cell_type": "code",
   "execution_count": 11,
   "id": "73f1c388-825a-4748-b753-4852bc7032be",
   "metadata": {
    "tags": []
   },
   "outputs": [],
   "source": [
    "from sklearn.cluster import AgglomerativeClustering\n",
    "ac = AgglomerativeClustering(n_clusters=3)\n",
    "X = StandardScaler().fit_transform(X)\n",
    "ac.fit(X)\n",
    "ac_pred = ac.labels_\n",
    "\n",
    "# теперь посчитаем v-меру\n",
    "f = v_measure_score(labels_true=y, labels_pred=ac_pred)\n",
    "\n",
    "fullness.append(f)"
   ]
  },
  {
   "cell_type": "code",
   "execution_count": 12,
   "id": "85b547b6-e0b8-4ac0-97ce-df6a34947e00",
   "metadata": {},
   "outputs": [],
   "source": [
    "from sklearn.cluster import DBSCAN\n",
    "dbscan = DBSCAN(eps=0.9, min_samples=35)\n",
    "X = StandardScaler().fit_transform(X)\n",
    "dbscan.fit(X)\n",
    "db_pred = dbscan.labels_\n",
    "\n",
    "# теперь посчитаем v-меру\n",
    "f = v_measure_score(labels_true=y, labels_pred=db_pred)\n",
    "\n",
    "fullness.append(f)"
   ]
  },
  {
   "cell_type": "code",
   "execution_count": 13,
   "id": "69847211-91c7-4009-a6c4-2e1004adcf2b",
   "metadata": {},
   "outputs": [
    {
     "data": {
      "text/plain": [
       "[0.791546668267586,\n",
       " 0.9332760595996924,\n",
       " 0.9079037199053294,\n",
       " 0.000884601531943088]"
      ]
     },
     "execution_count": 13,
     "metadata": {},
     "output_type": "execute_result"
    }
   ],
   "source": [
    "fullness"
   ]
  },
  {
   "cell_type": "code",
   "execution_count": 14,
   "id": "b362dae8-c540-4f27-998a-09e79a59e480",
   "metadata": {},
   "outputs": [
    {
     "data": {
      "text/plain": [
       "0.93"
      ]
     },
     "execution_count": 14,
     "metadata": {},
     "output_type": "execute_result"
    }
   ],
   "source": [
    "round(max(fullness), 2)\n",
    "#0.93 is correct"
   ]
  },
  {
   "cell_type": "markdown",
   "id": "5e000f7e-b91a-4365-ada4-4be35e5679e9",
   "metadata": {},
   "source": [
    "#### Задание 4.14.3\n",
    "\n",
    "Сравним модификации K-means с использованием случайной инициализации центроидов и с использованием алгоритма K-means++ для инициализации центроидов.\n",
    "\n",
    "Для этого обучим на исходном датасете 2 модели K-means со следующими параметрами:\n",
    "\n",
    "                n_clusters=3, init='k-means++', n_init=1, random_state=42\n",
    "                n_clusters=3, init='random', n_init=1, random_state=42\n",
    "\n",
    "В качестве ответа укажите максимальное значение v-меры, полученное при помощи данных моделей.\n",
    "\n",
    "Подсказка: При решении задания стандартизация должна быть включена. Ответ округлите до сотых и запишите с точкой."
   ]
  },
  {
   "cell_type": "code",
   "execution_count": 15,
   "id": "400fd21a-9706-459d-9c56-4ff1fe53c68d",
   "metadata": {},
   "outputs": [],
   "source": [
    "fullness = []#v-меры"
   ]
  },
  {
   "cell_type": "code",
   "execution_count": 16,
   "id": "a827df5b-fb82-44be-bf05-c61505985e81",
   "metadata": {},
   "outputs": [],
   "source": [
    "from sklearn.cluster import KMeans\n",
    "# сначала получим предсказанные кластеры при помощи метода кластеризации\n",
    "kmeans = KMeans(n_clusters=3, init='k-means++', n_init=1, random_state=42)\n",
    "X = StandardScaler().fit_transform(X)\n",
    "kmeans.fit(X)\n",
    "kmeans_pred = kmeans.labels_ \n",
    "# теперь посчитаем v-меру\n",
    "f = v_measure_score(labels_true=y, labels_pred=kmeans_pred)\n",
    "fullness.append(f)"
   ]
  },
  {
   "cell_type": "code",
   "execution_count": 17,
   "id": "5e1a0e99-f279-4fab-afc8-3192da83de7f",
   "metadata": {},
   "outputs": [],
   "source": [
    "kmeans2 = KMeans(n_clusters=3, init='random', n_init=1, random_state=42)\n",
    "X = StandardScaler().fit_transform(X)\n",
    "kmeans2.fit(X)\n",
    "kmeans_pred2 = kmeans2.labels_ \n",
    "# теперь посчитаем v-меру\n",
    "f = v_measure_score(labels_true=y, labels_pred=kmeans_pred2)\n",
    "fullness.append(f)"
   ]
  },
  {
   "cell_type": "code",
   "execution_count": 18,
   "id": "f20617c4-4a9b-457c-82a2-d29852ddb602",
   "metadata": {},
   "outputs": [
    {
     "data": {
      "text/plain": [
       "0.79"
      ]
     },
     "execution_count": 18,
     "metadata": {},
     "output_type": "execute_result"
    }
   ],
   "source": [
    "round(max(fullness), 2)\n",
    "#0.79 is correct"
   ]
  },
  {
   "cell_type": "markdown",
   "id": "a0446b0b-cc33-4140-bdb0-a3c21101b231",
   "metadata": {
    "tags": []
   },
   "source": [
    "#### Задание 4.14.4\n",
    "\n",
    "\n",
    "Теперь сравним K-means с ещё одной модификацией — K-means mini batch. Воспользоваться реализацией K-means mini batch в библиотеке sklearn можно следующим образом:\n",
    "\n",
    "        from sklearn.cluster import MiniBatchKMeans\n",
    "\n",
    "        kmeans_mini_batch = MiniBatchKMeans(n_clusters=3, random_state=42)\n",
    "        kmeans_mini_batch.fit(X)\n",
    "        kmeans_mini_batch_pred = kmeans_mini_batch.labels_\n",
    "\n",
    "Механизм кластеризации версии K-means mini batch схож с оригинальной версией алгоритма. Обучите на исходном датасете две модели:\n",
    "\n",
    "                k-means с параметрами n_clusters=3, n_init=1, random_state=42\n",
    "                MiniBatchKMeans с параметрами n_clusters=3, n_init=1, random_state=42\n",
    "\n",
    "В качестве ответа введите максимальное значение v-меры, полученное при помощи данных моделей. В задании может понадобиться или не понадобиться нормализация — это нужно проверить во время решения задания. Ответ округлите до десятых и запишите с точкой."
   ]
  },
  {
   "cell_type": "code",
   "execution_count": 22,
   "id": "a758f6bc-57b6-46f9-93ef-cbe298a36228",
   "metadata": {},
   "outputs": [],
   "source": [
    "vm = []#v-меры"
   ]
  },
  {
   "cell_type": "code",
   "execution_count": 23,
   "id": "0e521235-8b30-413c-8fa7-471ab51ebb13",
   "metadata": {},
   "outputs": [],
   "source": [
    "from sklearn.cluster import KMeans\n",
    "# сначала получим предсказанные кластеры при помощи метода кластеризации\n",
    "kmeans = KMeans(n_clusters=3, n_init=1, random_state=42)\n",
    "X = StandardScaler().fit_transform(X)\n",
    "kmeans.fit(X)\n",
    "kmeans_pred = kmeans.labels_ \n",
    "# теперь посчитаем v-меру\n",
    "f = v_measure_score(labels_true=y, labels_pred=kmeans_pred)\n",
    "vm.append(f)"
   ]
  },
  {
   "cell_type": "code",
   "execution_count": 24,
   "id": "90cd739a-c514-405f-a339-a43b0ba68ccf",
   "metadata": {},
   "outputs": [],
   "source": [
    "from sklearn.cluster import MiniBatchKMeans\n",
    "\n",
    "kmeans_mini_batch = MiniBatchKMeans(n_clusters=3, n_init=1, random_state=42)\n",
    "kmeans_mini_batch.fit(X)\n",
    "kmeans_mini_batch_pred = kmeans_mini_batch.labels_\n",
    "\n",
    "f = v_measure_score(labels_true=y, labels_pred=kmeans_mini_batch_pred)\n",
    "vm.append(f)"
   ]
  },
  {
   "cell_type": "code",
   "execution_count": 25,
   "id": "2018385a-ed88-4636-bcc1-c51686be18d1",
   "metadata": {},
   "outputs": [
    {
     "data": {
      "text/plain": [
       "0.8"
      ]
     },
     "execution_count": 25,
     "metadata": {},
     "output_type": "execute_result"
    }
   ],
   "source": [
    "round(max(vm), 2)\n",
    "#0.8 is correct"
   ]
  },
  {
   "cell_type": "markdown",
   "id": "abf9b605-f59b-4404-ad75-cfde29a82e39",
   "metadata": {},
   "source": [
    "#### Задание 4.14.5\n",
    "\n",
    "Рассмотрим агломеративную кластеризацию. Сравним, как влияет на качество кластеризации разный тип расстояния между кластерами.\n",
    "\n",
    "Обучите на исходном датасете четыре модели AgglomerativeClustering с параметром n_clusters=3, меняя параметр linkage.\n",
    "\n",
    "В качестве ответа укажите максимальное значение v-меры, полученное при помощи данных моделей. В задании может понадобиться или не понадобиться нормализация — это нужно проверить во время решения задания. Ответ округлите до десятых и запишите с точкой.\n",
    "\n",
    "    linkage{‘ward’, ‘complete’, ‘average’, ‘single’}, default=’ward’\n",
    "\n",
    "Which linkage criterion to use. The linkage criterion determines which distance to use between sets of observation. The algorithm will merge the pairs of cluster that minimize this criterion."
   ]
  },
  {
   "cell_type": "code",
   "execution_count": 27,
   "id": "fe2b24c8-41c2-4519-a7a2-7aa756c8d29a",
   "metadata": {
    "tags": []
   },
   "outputs": [
    {
     "data": {
      "text/plain": [
       "0.9"
      ]
     },
     "execution_count": 27,
     "metadata": {},
     "output_type": "execute_result"
    }
   ],
   "source": [
    "fullness = []#v-меры\n",
    "\n",
    "from sklearn.cluster import AgglomerativeClustering\n",
    "ac = AgglomerativeClustering(n_clusters=3, linkage='ward')\n",
    "X = StandardScaler().fit_transform(X)\n",
    "ac.fit(X)\n",
    "ac_pred = ac.labels_\n",
    "# теперь посчитаем v-меру\n",
    "f = v_measure_score(labels_true=y, labels_pred=ac_pred)\n",
    "\n",
    "fullness.append(f)\n",
    "\n",
    "ac = AgglomerativeClustering(n_clusters=3, linkage='complete')\n",
    "X = StandardScaler().fit_transform(X)\n",
    "ac.fit(X)\n",
    "ac_pred = ac.labels_\n",
    "# теперь посчитаем v-меру\n",
    "f = v_measure_score(labels_true=y, labels_pred=ac_pred)\n",
    "\n",
    "fullness.append(f)\n",
    "\n",
    "ac = AgglomerativeClustering(n_clusters=3, linkage='average')\n",
    "X = StandardScaler().fit_transform(X)\n",
    "ac.fit(X)\n",
    "ac_pred = ac.labels_\n",
    "# теперь посчитаем v-меру\n",
    "f = v_measure_score(labels_true=y, labels_pred=ac_pred)\n",
    "\n",
    "fullness.append(f)\n",
    "\n",
    "ac = AgglomerativeClustering(n_clusters=3, linkage='single')\n",
    "X = StandardScaler().fit_transform(X)\n",
    "ac.fit(X)\n",
    "ac_pred = ac.labels_\n",
    "# теперь посчитаем v-меру\n",
    "f = v_measure_score(labels_true=y, labels_pred=ac_pred)\n",
    "\n",
    "fullness.append(f)\n",
    "\n",
    "round(max(fullness), 1)\n",
    "#0.9 is correct"
   ]
  },
  {
   "cell_type": "markdown",
   "id": "d9c66f86-a4a5-4488-a3ee-f8a7f44c3d59",
   "metadata": {},
   "source": [
    "#### Задание 4.14.6\n",
    "\n",
    "Сравним, как влияет предварительный расчёт матрицы смежности на качество агломеративной кластеризации.\n",
    "\n",
    "Обучите на исходном датасете две модели AgglomerativeClustering:\n",
    "\n",
    "                с параметром n_clusters=3\n",
    "                с параметром n_clusters=3 и предварительно посчитанной матрицей смежности для объектов датасета\n",
    "\n",
    "Построить матрицу смежности можно с помощью кода:\n",
    "\n",
    "    from sklearn.neighbors import kneighbors_graph\n",
    "\n",
    "    connectivity = kneighbors_graph(X, n_neighbors=6, include_self=False)\n",
    "    connectivity = 0.5 * (connectivity + connectivity.T)\n",
    "\n",
    "В качестве ответа введите максимальное значение v-меры, полученное при помощи данных моделей. В задании может понадобиться или не понадобиться нормализация — это нужно проверить во время решения задания. Ответ округлите до десятых и запишите с точкой."
   ]
  },
  {
   "cell_type": "code",
   "execution_count": 40,
   "id": "5f30c1ea-fa87-40ae-b4dd-9611437ae525",
   "metadata": {},
   "outputs": [],
   "source": [
    "vm = []#v-меры"
   ]
  },
  {
   "cell_type": "code",
   "execution_count": 41,
   "id": "a82c223c-502e-4ed0-98be-dd0dc61d8d45",
   "metadata": {},
   "outputs": [],
   "source": [
    "#матрица смежности\n",
    "from sklearn.neighbors import kneighbors_graph\n",
    "\n",
    "connectivity = kneighbors_graph(X, n_neighbors=6, include_self=False)\n",
    "connectivity = 0.5 * (connectivity + connectivity.T)"
   ]
  },
  {
   "cell_type": "code",
   "execution_count": 42,
   "id": "0a3514eb-71c0-45e7-b95c-0019d06198b4",
   "metadata": {
    "tags": []
   },
   "outputs": [],
   "source": [
    "from sklearn.cluster import AgglomerativeClustering\n",
    "ac = AgglomerativeClustering(n_clusters=3, connectivity=connectivity)\n",
    "X = StandardScaler().fit_transform(X)\n",
    "ac.fit(X)\n",
    "ac_pred = ac.labels_\n",
    "\n",
    "# теперь посчитаем v-меру\n",
    "v = v_measure_score(labels_true=y, labels_pred=ac_pred)\n",
    "vm.append(v)"
   ]
  },
  {
   "cell_type": "code",
   "execution_count": 43,
   "id": "1b48b9be-d061-466d-b0c0-8c663ae75b41",
   "metadata": {},
   "outputs": [],
   "source": [
    "from sklearn.cluster import AgglomerativeClustering\n",
    "ac = AgglomerativeClustering(n_clusters=3)\n",
    "X = StandardScaler().fit_transform(X)\n",
    "ac.fit(X)\n",
    "ac_pred = ac.labels_\n",
    "\n",
    "# теперь посчитаем v-меру\n",
    "v = v_measure_score(labels_true=y, labels_pred=ac_pred)\n",
    "\n",
    "vm.append(v)"
   ]
  },
  {
   "cell_type": "code",
   "execution_count": 44,
   "id": "12babf2d-4412-43ef-a997-5112caade5ec",
   "metadata": {},
   "outputs": [
    {
     "data": {
      "text/plain": [
       "0.9"
      ]
     },
     "execution_count": 44,
     "metadata": {},
     "output_type": "execute_result"
    }
   ],
   "source": [
    "round(max(vm), 1)\n",
    "#0.9 is correct"
   ]
  },
  {
   "cell_type": "markdown",
   "id": "aa3db83d-5595-415d-b19e-5e673690808b",
   "metadata": {
    "tags": []
   },
   "source": [
    "#### Задание 4.14.7\n",
    "\n",
    "Алгоритм DBSCAN очень требователен к параметрам: небольшое изменение в параметре eps или min_samples может изменить результат и качество кластеризации.\n",
    "\n",
    "Обучите на исходном датасете две модели DBSCAN:\n",
    "\n",
    "                с параметрами eps=0.9, min_samples=35;\n",
    "                с параметрами eps=0.8, min_samples=35.\n",
    "\n",
    "В качестве ответа укажите максимальное значение v-меры, полученное при помощи данных моделей. В задании может понадобиться или не понадобиться нормализация — это нужно проверить во время решения задания. Ответ округлите до сотых и запишите с точкой."
   ]
  },
  {
   "cell_type": "code",
   "execution_count": 3,
   "id": "4c5f17bc-6810-4f1c-9e89-f0a9a1d9b794",
   "metadata": {},
   "outputs": [
    {
     "data": {
      "text/plain": [
       "[0.7732549110297919, 0.7063100442576922]"
      ]
     },
     "execution_count": 3,
     "metadata": {},
     "output_type": "execute_result"
    }
   ],
   "source": [
    "vm = []#v-меры\n",
    "\n",
    "from sklearn.metrics.cluster import v_measure_score\n",
    "from sklearn.cluster import DBSCAN\n",
    "\n",
    "dbscan = DBSCAN(eps=0.9, min_samples=35)\n",
    "db_pred = dbscan.fit_predict(X)\n",
    "\n",
    "v = v_measure_score(labels_true=y, labels_pred=db_pred)\n",
    "vm.append(v)\n",
    "\n",
    "dbscan2 = DBSCAN(eps=0.8, min_samples=35)\n",
    "db_pred2 = dbscan2.fit_predict(X)\n",
    "\n",
    "v2 = v_measure_score(labels_true=y, labels_pred=db_pred2)\n",
    "vm.append(v2)\n",
    "\n",
    "vm"
   ]
  },
  {
   "cell_type": "code",
   "execution_count": 4,
   "id": "432d3875-2eb7-4966-82f0-cf853903d033",
   "metadata": {},
   "outputs": [
    {
     "data": {
      "text/plain": [
       "0.77"
      ]
     },
     "execution_count": 4,
     "metadata": {},
     "output_type": "execute_result"
    }
   ],
   "source": [
    "round(max(vm), 2)\n",
    "#0.77 is correct"
   ]
  },
  {
   "cell_type": "markdown",
   "id": "4e65c10c-6da2-45a9-9c37-9d5c552ce159",
   "metadata": {},
   "source": [
    "#### Задание 4.14.8\n",
    "\n",
    "Особенностью алгоритма DBSCAN является то, что, помимо кластеризации, этот алгоритм определяет __выбросы в выборке__. Посмотрим на качество кластеризации без учёта таких объектов.\n",
    "\n",
    "Обучите на исходном датасете модель DBSCAN с параметрами eps=0.9, min_samples=35. Посчитайте __значение v-меры__ только для основных и граничных объектов выборки, то есть для объектов, которые не являются выбросами. Ответ округлите до сотых и запишите с точкой."
   ]
  },
  {
   "cell_type": "code",
   "execution_count": 7,
   "id": "575e4bbf-eb2f-4d5f-9106-fd36540a905f",
   "metadata": {},
   "outputs": [
    {
     "name": "stdout",
     "output_type": "stream",
     "text": [
      "V-measure: 0.97\n"
     ]
    }
   ],
   "source": [
    "from sklearn.metrics.cluster import v_measure_score\n",
    "from sklearn.preprocessing import StandardScaler\n",
    "from sklearn.cluster import DBSCAN\n",
    "\n",
    "dbscan = DBSCAN(eps=0.9, min_samples=35)\n",
    "\n",
    "labels = dbscan.fit_predict(X)\n",
    "not_noise_ind = np.where(labels != -1)\n",
    "v_measure = v_measure_score(y[not_noise_ind], labels[not_noise_ind])\n",
    "np.round(v_measure, 2)\n",
    "\n",
    "print(\"V-measure: %0.2f\" % v_measure)\n",
    "#0.97 ic correct"
   ]
  },
  {
   "cell_type": "markdown",
   "id": "b56a82d4-5495-4eab-96d8-b8f5c8f9447f",
   "metadata": {},
   "source": [
    "#### Задание 4.14.9\n",
    "\n",
    "\n",
    "В курсе мы рассмотрели две метода нормализации данных:\n",
    "\n",
    "                MinMax-нормализация — приведение данных к масштабу между 0 и 1.\n",
    "                Стандартная нормализация — данные имеют среднее 0 и стандартное отклонение 1.\n",
    "\n",
    "Проверим, влияет ли предобработка данных на результат кластеризации. Обучите две модели AgglomerativeClustering с параметрами n_clusters=3:\n",
    "\n",
    "                на признаках исходного датасета,\n",
    "                предварительно трансформируйте признаки при помощи стандартной нормализации.\n",
    "\n",
    "Посчитайте v-меру для получившихся результатов, в качестве ответа введите наибольшее значение. Ответ округлите до сотых и запишите с точкой."
   ]
  },
  {
   "cell_type": "code",
   "execution_count": 20,
   "id": "86a4a0c9-b60c-4142-858e-145d4c021462",
   "metadata": {},
   "outputs": [
    {
     "data": {
      "text/plain": [
       "[0.9079037199053294, 0.7732549110297919]"
      ]
     },
     "execution_count": 20,
     "metadata": {},
     "output_type": "execute_result"
    }
   ],
   "source": [
    "vm = []#v-меры\n",
    "\n",
    "from sklearn.cluster import AgglomerativeClustering\n",
    "from sklearn.preprocessing import MinMaxScaler\n",
    "\n",
    "ac = AgglomerativeClustering(n_clusters=3)\n",
    "X = StandardScaler().fit_transform(X)\n",
    "ac.fit(X)\n",
    "ac_pred = ac.labels_\n",
    "\n",
    "# теперь посчитаем v-меру\n",
    "v = v_measure_score(labels_true=y, labels_pred=ac_pred)\n",
    "vm.append(v)\n",
    "\n",
    "\n",
    "ac = AgglomerativeClustering(n_clusters=3)\n",
    "# X = MinMaxScaler().fit_transform(X)\n",
    "ac.fit(X)\n",
    "ac_pred = ac.labels_\n",
    "\n",
    "v = v_measure_score(labels_true=y, labels_pred=db_pred)\n",
    "vm.append(v)\n",
    "\n",
    "vm"
   ]
  },
  {
   "cell_type": "code",
   "execution_count": 21,
   "id": "70dc563a-77bd-4377-bf72-ee421dacff62",
   "metadata": {},
   "outputs": [
    {
     "data": {
      "text/plain": [
       "0.91"
      ]
     },
     "execution_count": 21,
     "metadata": {},
     "output_type": "execute_result"
    }
   ],
   "source": [
    "round(max(vm), 2)\n",
    "#0.91 is correct"
   ]
  },
  {
   "cell_type": "markdown",
   "id": "eb9535c6-de71-490e-a8fc-0986dd5c37e5",
   "metadata": {},
   "source": [
    "#### Задание 4.14.10\n",
    "\n",
    "\n",
    "Обучите две модели AgglomerativeClustering с параметрами n_clusters=3:\n",
    "\n",
    "                на признаках исходного датасета,\n",
    "                предварительно трансформируйте признаки при помощи MinMax-нормализации.\n",
    "\n",
    "Посчитайте v-меру для получившихся результатов, в качестве ответа введите наибольшее значение. Ответ округлите до сотых и запишите с точкой."
   ]
  },
  {
   "cell_type": "code",
   "execution_count": 16,
   "id": "c0f1cfd9-54c1-4bd8-b3a0-305e814cd3cd",
   "metadata": {},
   "outputs": [
    {
     "data": {
      "text/plain": [
       "[0.8929241488344335, 0.7732549110297919]"
      ]
     },
     "execution_count": 18,
     "metadata": {},
     "output_type": "execute_result"
    }
   ],
   "source": [
    "vm = []#v-меры\n",
    "\n",
    "from sklearn.cluster import AgglomerativeClustering\n",
    "from sklearn.preprocessing import MinMaxScaler\n",
    "\n",
    "ac = AgglomerativeClustering(n_clusters=3)\n",
    "# X = StandardScaler().fit_transform(X)\n",
    "ac.fit(X)\n",
    "ac_pred = ac.labels_\n",
    "\n",
    "# теперь посчитаем v-меру\n",
    "v = v_measure_score(labels_true=y, labels_pred=ac_pred)\n",
    "vm.append(v)\n",
    "\n",
    "\n",
    "ac = AgglomerativeClustering(n_clusters=3)\n",
    "X = MinMaxScaler().fit_transform(X)\n",
    "ac.fit(X)\n",
    "ac_pred = ac.labels_\n",
    "\n",
    "v = v_measure_score(labels_true=y, labels_pred=db_pred)\n",
    "vm.append(v)\n",
    "\n",
    "vm"
   ]
  },
  {
   "cell_type": "code",
   "execution_count": 17,
   "id": "264ee4a8-0530-4db2-95b9-5c030b85c345",
   "metadata": {},
   "outputs": [
    {
     "data": {
      "text/plain": [
       "0.89"
      ]
     },
     "execution_count": 19,
     "metadata": {},
     "output_type": "execute_result"
    }
   ],
   "source": [
    "round(max(vm), 2)\n",
    "#0.89 is correct"
   ]
  }
 ],
 "metadata": {
  "kernelspec": {
   "display_name": "Python 3 (ipykernel)",
   "language": "python",
   "name": "python3"
  },
  "language_info": {
   "codemirror_mode": {
    "name": "ipython",
    "version": 3
   },
   "file_extension": ".py",
   "mimetype": "text/x-python",
   "name": "python",
   "nbconvert_exporter": "python",
   "pygments_lexer": "ipython3",
   "version": "3.8.10"
  }
 },
 "nbformat": 4,
 "nbformat_minor": 5
}
