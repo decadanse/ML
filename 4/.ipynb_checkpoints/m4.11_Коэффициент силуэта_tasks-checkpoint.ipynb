{
 "cells": [
  {
   "cell_type": "code",
   "execution_count": 1,
   "id": "e5b9c1b4-243b-4d4c-be70-7234ac26156f",
   "metadata": {},
   "outputs": [],
   "source": [
    "#создадим датасет\n",
    "import numpy as np\n",
    "import matplotlib.pyplot as plt\n",
    "from sklearn import datasets\n",
    "\n",
    "n_samples = 1500\n",
    "dataset = datasets.make_blobs(n_samples=n_samples, centers=2, center_box=(-7.0, 7.5),\n",
    "                              cluster_std=[1.4, 1.7],\n",
    "                              random_state=42)\n",
    "X_2, _ = datasets.make_blobs(n_samples=n_samples, random_state=170, centers=[[-4, -3]], cluster_std=[1.9])\n",
    "transformation = [[1.2, -0.8], [-0.4, 1.7]]\n",
    "X_2 = np.dot(X_2, transformation)\n",
    "X, y = np.concatenate((dataset[0], X_2)), np.concatenate((dataset[1], np.array([2] * len(X_2))))"
   ]
  },
  {
   "cell_type": "code",
   "execution_count": 2,
   "id": "04319e29-63ee-4724-ac48-ca2994f8aa32",
   "metadata": {},
   "outputs": [
    {
     "data": {
      "text/plain": [
       "0.5131209788437305"
      ]
     },
     "execution_count": 2,
     "metadata": {},
     "output_type": "execute_result"
    }
   ],
   "source": [
    "#Коэффициент силуэта можно посчитать при помощи реализации из библиотеки sklearn:\n",
    "from sklearn.cluster import KMeans\n",
    "from sklearn.metrics import silhouette_score\n",
    "\n",
    "# сначала получим предсказанные кластеры при помощи метода кластеризации\n",
    "kmeans = KMeans(n_clusters=3, random_state=42)\n",
    "kmeans.fit(X)\n",
    "kmeans_pred = kmeans.labels_\n",
    "\n",
    "# теперь посчитаем коэффициент силуэта\n",
    "silhouette_score(X=X, labels=kmeans_pred, metric='euclidean')"
   ]
  },
  {
   "cell_type": "markdown",
   "id": "3236c553-6118-44fb-af6d-67f9ba8a44f6",
   "metadata": {},
   "source": [
    "В качестве параметров в функции silhouette_score используются:\n",
    "\n",
    "        X — массив признаков объектов выборки или массив попарных расстояний между объектами;\n",
    "        Y — массив предсказанных кластеров для объектов выборки;\n",
    "        metric — метрика, используемая для вычисления расстояния между объектами. Мы будем использовать euclidean (Евклидово расстояние). Полный список названий метрик можно увидеть здесь.\n",
    "\n",
    "Полное описание функции можно прочитать в документации (англ.).\n",
    "\n",
    "При решении заданий модуля стандартизация должна быть выключена."
   ]
  },
  {
   "cell_type": "markdown",
   "id": "d3bd8598-764b-4361-837a-24860b94b518",
   "metadata": {},
   "source": [
    "#### Задание 4.11.1 \n",
    "Обучите модель GaussianMixture с параметрами n_components=3 и random_state=42 на признаках исходного датасета. Посчитайте коэффициент силуэта для получившейся кластеризации. Ответ округлите до десятых и запишите с точкой."
   ]
  },
  {
   "cell_type": "code",
   "execution_count": 3,
   "id": "2c5af52c-da20-4ec0-8339-7b95c79699d2",
   "metadata": {},
   "outputs": [
    {
     "data": {
      "text/plain": [
       "0.5"
      ]
     },
     "execution_count": 3,
     "metadata": {},
     "output_type": "execute_result"
    }
   ],
   "source": [
    "from sklearn.mixture import GaussianMixture\n",
    "em_gm = GaussianMixture(n_components=3,max_iter=42)\n",
    "y_pred = em_gm.fit_predict(X)\n",
    "means = em_gm.means_\n",
    "\n",
    "# теперь посчитаем коэффициент силуэта\n",
    "ss = silhouette_score(X=X, labels=y_pred, metric='euclidean')\n",
    "round(ss, 1)\n",
    "#0.5 is correct"
   ]
  },
  {
   "cell_type": "markdown",
   "id": "10da8fe4-e48e-4ca3-a405-50219748c081",
   "metadata": {},
   "source": [
    "#### Задание 4.11.2\n",
    "Сравните результаты кластеризации четырёх рассмотренных алгоритмов на исходном датасете при помощи коэффициента силуэта, инициализируйте алгоритмы со следующими параметрами:\n",
    "\n",
    "                K-means — n_clusters=3, random_state=42\n",
    "                EM-алгоритм (GaussianMixture) — n_components=3, random_state=42\n",
    "                Агломеративная кластеризация – n_clusters=3\n",
    "                DBSCAN – eps=0.9, min_samples=35\n",
    "\n",
    "Укажите максимальное значение коэффициента силуэта, полученное при помощи данных моделей. Ответ округлите до сотых и запишите с точкой.\n",
    "https://scikit-learn.org/stable/modules/generated/sklearn.metrics.silhouette_score.html"
   ]
  },
  {
   "cell_type": "code",
   "execution_count": 12,
   "id": "8b154141-5bac-4aa6-8ed2-8fc8cf51d5bb",
   "metadata": {},
   "outputs": [],
   "source": [
    "silhouettes = []\n",
    "# silhouettes.append(ss)"
   ]
  },
  {
   "cell_type": "code",
   "execution_count": 13,
   "id": "2338cfb3-48fc-4a1b-92cc-720c53ee537d",
   "metadata": {},
   "outputs": [],
   "source": [
    "from sklearn.cluster import KMeans\n",
    "k_means = KMeans(n_clusters=3, random_state=42)\n",
    "k_means.fit(X)\n",
    "km_pred = k_means.labels_\n",
    "\n",
    "ss = silhouette_score(X=X, labels=km_pred, metric='euclidean')\n",
    "silhouettes.append(ss)"
   ]
  },
  {
   "cell_type": "code",
   "execution_count": 14,
   "id": "a2ac2dfd-a8a7-4e36-98f8-44e4c6d9faa1",
   "metadata": {},
   "outputs": [],
   "source": [
    "from sklearn.mixture import GaussianMixture\n",
    "em_gm = GaussianMixture(n_components=3,max_iter=42)\n",
    "y_pred = em_gm.fit_predict(X)\n",
    "means = em_gm.means_\n",
    "\n",
    "# теперь посчитаем коэффициент силуэта\n",
    "ss = silhouette_score(X=X, labels=y_pred, metric='euclidean')\n",
    "silhouettes.append(ss)"
   ]
  },
  {
   "cell_type": "code",
   "execution_count": 15,
   "id": "79c17139-93f6-4b47-9b06-ddf5a9ceaf83",
   "metadata": {},
   "outputs": [],
   "source": [
    "from sklearn.cluster import AgglomerativeClustering\n",
    "ac = AgglomerativeClustering(n_clusters=3)\n",
    "ac.fit(X)\n",
    "ac_pred = ac.labels_\n",
    "\n",
    "ss = silhouette_score(X=X, labels=ac_pred, metric='euclidean')\n",
    "silhouettes.append(ss)"
   ]
  },
  {
   "cell_type": "code",
   "execution_count": 16,
   "id": "e49ce917-2467-4688-9b66-8a6dd95a0d36",
   "metadata": {},
   "outputs": [],
   "source": [
    "from sklearn.cluster import DBSCAN\n",
    "dbscan = DBSCAN(eps=0.9, min_samples=35)\n",
    "dbscan.fit(X)\n",
    "db_pred = dbscan.labels_\n",
    "\n",
    "ss = silhouette_score(X=X, labels=db_pred, metric='euclidean')\n",
    "silhouettes.append(ss)"
   ]
  },
  {
   "cell_type": "markdown",
   "id": "12ee0a10-8670-4243-9425-d06f17a7a8f3",
   "metadata": {},
   "source": [
    "silhouettes"
   ]
  },
  {
   "cell_type": "code",
   "execution_count": 17,
   "id": "1e50491c-f627-46df-bcfe-15588fe139d3",
   "metadata": {},
   "outputs": [
    {
     "data": {
      "text/plain": [
       "0.51"
      ]
     },
     "execution_count": 17,
     "metadata": {},
     "output_type": "execute_result"
    }
   ],
   "source": [
    "round(max(silhouettes),2)\n",
    "#0.51 is correct"
   ]
  },
  {
   "cell_type": "markdown",
   "id": "6d08b786-e936-45d3-8d92-6c35664f6709",
   "metadata": {
    "tags": []
   },
   "source": [
    "#### Задание 4.11.3\n",
    "Подберите оптимальное количество кластеров с помощью коэффициента силуэта. Для этого найдите такое число кластеров, при котором значение коэффициента будет максимальным.\n",
    "\n",
    "В трёх из рассмотренных нами алгоритмов необходимо задать число кластеров при инициализации: K-means, EM-алгоритм и агломеративная кластеризация.\n",
    "\n",
    "Найдите значение коэффициента силуэта для данных алгоритмов при числе кластеров от 2 до 10 включительно. Для K-means и EM-алгоритма установите значение random_state=42.\n",
    "\n",
    "В качестве ответа через пробел введите число кластеров, при котором значение коэффициента силуэта для результатов кластеризации было наибольшим для каждого из алгоритмов. Вводите в следующем порядке: K-means, EM-алгоритм, агломеративная кластеризация."
   ]
  },
  {
   "cell_type": "code",
   "execution_count": 30,
   "id": "445c0431-4791-415e-a315-01cf4b5af1b7",
   "metadata": {},
   "outputs": [],
   "source": [
    "optimum_clasters = []"
   ]
  },
  {
   "cell_type": "code",
   "execution_count": 31,
   "id": "ce443e6a-f3a4-4444-9b39-7415f8e693d3",
   "metadata": {},
   "outputs": [
    {
     "name": "stdout",
     "output_type": "stream",
     "text": [
      "0.4553109501667062\n",
      "0.5131209788437305\n"
     ]
    }
   ],
   "source": [
    "from sklearn.cluster import KMeans\n",
    "\n",
    "ss_s = []\n",
    "for i in range(2,10+1):\n",
    "    \n",
    "    k_means = KMeans(n_clusters=i, random_state=42)\n",
    "    k_means.fit(X)\n",
    "    km_pred = k_means.labels_\n",
    "\n",
    "    ss = silhouette_score(X=X, labels=km_pred, metric='euclidean')\n",
    "    ss_s.append(ss)\n",
    "    \n",
    "    if(max(ss_s)==ss):\n",
    "        print(ss)\n",
    "        number = i\n",
    "        \n",
    "optimum_clasters.append(number)"
   ]
  },
  {
   "cell_type": "code",
   "execution_count": 32,
   "id": "64e958c1-1352-47b2-b396-12846ab6bda0",
   "metadata": {},
   "outputs": [
    {
     "name": "stdout",
     "output_type": "stream",
     "text": [
      "0.45506572865005773\n",
      "0.5106817069448076\n"
     ]
    }
   ],
   "source": [
    "from sklearn.mixture import GaussianMixture\n",
    "\n",
    "ss_s = []\n",
    "for i in range(2,10+1):\n",
    "    \n",
    "    em_gm = GaussianMixture(n_components=i,max_iter=42)\n",
    "    y_pred = em_gm.fit_predict(X)\n",
    "    means = em_gm.means_\n",
    "\n",
    "    # теперь посчитаем коэффициент силуэта\n",
    "    ss = silhouette_score(X=X, labels=y_pred, metric='euclidean')\n",
    "    ss_s.append(ss)\n",
    "    \n",
    "    if(max(ss_s)==ss):\n",
    "        print(ss)\n",
    "        number = i\n",
    "\n",
    "\n",
    "optimum_clasters.append(number)"
   ]
  },
  {
   "cell_type": "code",
   "execution_count": 33,
   "id": "feaeedd5-7b75-4ce4-a8cc-2de1e0227f96",
   "metadata": {},
   "outputs": [
    {
     "name": "stdout",
     "output_type": "stream",
     "text": [
      "0.40560374862968174\n",
      "0.4811992210663849\n",
      "0.48470679039805054\n"
     ]
    }
   ],
   "source": [
    "from sklearn.cluster import AgglomerativeClustering\n",
    "\n",
    "ss_s = []\n",
    "for i in range(2,10+1):\n",
    "    \n",
    "    ac = AgglomerativeClustering(n_clusters=i)\n",
    "    ac.fit(X)\n",
    "    ac_pred = ac.labels_\n",
    "\n",
    "    ss = silhouette_score(X=X, labels=ac_pred, metric='euclidean')\n",
    "    ss_s.append(ss)\n",
    "    \n",
    "    if(max(ss_s)==ss):\n",
    "        print(ss)\n",
    "        number = i\n",
    "        \n",
    "        \n",
    "optimum_clasters.append(number)"
   ]
  },
  {
   "cell_type": "code",
   "execution_count": 34,
   "id": "9096af77-9677-45e5-b2e0-254113c393c2",
   "metadata": {},
   "outputs": [
    {
     "data": {
      "text/plain": [
       "[3, 4, 4]"
      ]
     },
     "execution_count": 34,
     "metadata": {},
     "output_type": "execute_result"
    }
   ],
   "source": [
    "optimum_clasters #число кластеров\n",
    "#3 4 4 is the correct answer"
   ]
  }
 ],
 "metadata": {
  "kernelspec": {
   "display_name": "Python 3 (ipykernel)",
   "language": "python",
   "name": "python3"
  },
  "language_info": {
   "codemirror_mode": {
    "name": "ipython",
    "version": 3
   },
   "file_extension": ".py",
   "mimetype": "text/x-python",
   "name": "python",
   "nbconvert_exporter": "python",
   "pygments_lexer": "ipython3",
   "version": "3.8.10"
  }
 },
 "nbformat": 4,
 "nbformat_minor": 5
}
