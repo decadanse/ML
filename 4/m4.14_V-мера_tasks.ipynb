{
 "cells": [
  {
   "cell_type": "code",
   "execution_count": 10,
   "id": "013a7902-d526-48ab-a448-8bce6c63f385",
   "metadata": {},
   "outputs": [],
   "source": [
    "#создадим датасет\n",
    "import numpy as np\n",
    "import matplotlib.pyplot as plt\n",
    "from sklearn import datasets\n",
    "\n",
    "n_samples = 1500\n",
    "dataset = datasets.make_blobs(n_samples=n_samples, centers=2, center_box=(-7.0, 7.5),\n",
    "                              cluster_std=[1.4, 1.7],\n",
    "                              random_state=42)\n",
    "X_2, _ = datasets.make_blobs(n_samples=n_samples, random_state=170, centers=[[-4, -3]], cluster_std=[1.9])\n",
    "transformation = [[1.2, -0.8], [-0.4, 1.7]]\n",
    "X_2 = np.dot(X_2, transformation)\n",
    "X, y = np.concatenate((dataset[0], X_2)), np.concatenate((dataset[1], np.array([2] * len(X_2))))"
   ]
  },
  {
   "cell_type": "code",
   "execution_count": 11,
   "id": "79e7366f-7048-4d0d-8a03-c48853b06003",
   "metadata": {},
   "outputs": [
    {
     "data": {
      "text/plain": [
       "0.795592702456356"
      ]
     },
     "execution_count": 11,
     "metadata": {},
     "output_type": "execute_result"
    }
   ],
   "source": [
    "#V-меру можно посчитать при помощи реализации из библиотеки sklearn:\n",
    "from sklearn.cluster import KMeans\n",
    "from sklearn.metrics.cluster import v_measure_score\n",
    "\n",
    "# сначала получим предсказанные кластеры при помощи метода кластеризации\n",
    "kmeans = KMeans(n_clusters=3, random_state=42)\n",
    "kmeans.fit(X)\n",
    "kmeans_pred = kmeans.labels_\n",
    "\n",
    "# теперь посчитаем полноту\n",
    "v_measure_score(labels_true=y, labels_pred=kmeans_pred)"
   ]
  },
  {
   "cell_type": "markdown",
   "id": "f2e13a94-c379-40c2-a1a1-0acf846dd2b3",
   "metadata": {},
   "source": [
    "Полное описание функции можно прочитать в документации (англ.). https://scikit-learn.org/stable/modules/generated/sklearn.metrics.v_measure_score.html"
   ]
  },
  {
   "cell_type": "code",
   "execution_count": null,
   "id": "034fa205-338d-4bbb-a668-06d43df5c795",
   "metadata": {},
   "outputs": [],
   "source": []
  },
  {
   "cell_type": "code",
   "execution_count": null,
   "id": "9d407cb1-9e70-48b8-9fcd-04f9f3b5af72",
   "metadata": {},
   "outputs": [],
   "source": []
  },
  {
   "cell_type": "markdown",
   "id": "61821146-af1a-4bbb-9b90-0ebfec0a0ba6",
   "metadata": {
    "tags": []
   },
   "source": [
    "#### Задание 4.14.1\n",
    "Обучите модель GaussianMixture с параметрами n_components=3 и random_state=42 на признаках исходного датасета. Посчитайте v-меру для получившейся кластеризации.\n",
    "\n",
    "Подсказка: При решении задания стандартизация должна быть включена. Ответ округлите до сотых и запишите с точкой."
   ]
  },
  {
   "cell_type": "code",
   "execution_count": null,
   "id": "8425ee47-e3eb-426c-ab3b-44281300fb6b",
   "metadata": {},
   "outputs": [],
   "source": []
  },
  {
   "cell_type": "code",
   "execution_count": null,
   "id": "f0d2af33-0564-48c1-b2e8-c8fe4ed2fa16",
   "metadata": {},
   "outputs": [],
   "source": []
  },
  {
   "cell_type": "markdown",
   "id": "1e0784fa-b34f-4793-9c9f-bac26e25beec",
   "metadata": {},
   "source": [
    "9 tasks in this block"
   ]
  },
  {
   "cell_type": "code",
   "execution_count": null,
   "id": "8b6552a9-9b51-426e-9d3b-2c1875fd517b",
   "metadata": {},
   "outputs": [],
   "source": [
    "import numpy as np\n",
    "uniformity = []#однородность"
   ]
  },
  {
   "cell_type": "code",
   "execution_count": null,
   "id": "3a58062f-12fc-4014-ab99-c1d455f1f691",
   "metadata": {},
   "outputs": [],
   "source": [
    "from sklearn.cluster import KMeans\n",
    "# сначала получим предсказанные кластеры при помощи метода кластеризации\n",
    "kmeans = KMeans(n_clusters=3, random_state=42)\n",
    "X = StandardScaler().fit_transform(X)\n",
    "kmeans.fit(X)\n",
    "kmeans_pred = kmeans.labels_ \n",
    "# теперь посчитаем однородность\n",
    "u = homogeneity_score(labels_true=y, labels_pred=kmeans_pred)\n",
    "\n",
    "uniformity.append(u)"
   ]
  },
  {
   "cell_type": "code",
   "execution_count": null,
   "id": "e080b145-08d8-4f61-8d90-90d5cfc7f890",
   "metadata": {},
   "outputs": [],
   "source": [
    "from sklearn.mixture import GaussianMixture\n",
    "em_gm = GaussianMixture(n_components=3,max_iter=42)\n",
    "X = StandardScaler().fit_transform(X)\n",
    "y_pred = em_gm.fit_predict(X)\n",
    "# means = em_gm.means_\n",
    "\n",
    "# теперь посчитаем однородность\n",
    "u = homogeneity_score(labels_true=y, labels_pred=y_pred)\n",
    "\n",
    "uniformity.append(u)"
   ]
  },
  {
   "cell_type": "code",
   "execution_count": null,
   "id": "7420a940-ffc7-4c1e-b35b-b094f996fc2c",
   "metadata": {},
   "outputs": [],
   "source": [
    "from sklearn.cluster import AgglomerativeClustering\n",
    "ac = AgglomerativeClustering(n_clusters=3)\n",
    "X = StandardScaler().fit_transform(X)\n",
    "ac.fit(X)\n",
    "ac_pred = ac.labels_\n",
    "\n",
    "# теперь посчитаем однородность\n",
    "u = homogeneity_score(labels_true=y, labels_pred=ac_pred)\n",
    "\n",
    "uniformity.append(u)"
   ]
  },
  {
   "cell_type": "code",
   "execution_count": null,
   "id": "0c887412-1c0e-4cb4-a474-4e8ffbe3efd2",
   "metadata": {},
   "outputs": [],
   "source": [
    "from sklearn.cluster import DBSCAN\n",
    "dbscan = DBSCAN(eps=0.9, min_samples=35)\n",
    "X = StandardScaler().fit_transform(X)\n",
    "dbscan.fit(X)\n",
    "db_pred = dbscan.labels_\n",
    "\n",
    "# теперь посчитаем однородность\n",
    "u = homogeneity_score(labels_true=y, labels_pred=db_pred)\n",
    "\n",
    "uniformity.append(u)"
   ]
  },
  {
   "cell_type": "code",
   "execution_count": null,
   "id": "2cc0bb53-c5f3-4e99-a730-c8e9ce6d0c68",
   "metadata": {},
   "outputs": [],
   "source": [
    "uniformity"
   ]
  },
  {
   "cell_type": "code",
   "execution_count": null,
   "id": "c4bc379d-1b6f-4348-9a6a-60745e2e6965",
   "metadata": {},
   "outputs": [],
   "source": [
    "round(max(uniformity), 2)\n",
    "#0.93 is correct"
   ]
  }
 ],
 "metadata": {
  "kernelspec": {
   "display_name": "Python 3 (ipykernel)",
   "language": "python",
   "name": "python3"
  },
  "language_info": {
   "codemirror_mode": {
    "name": "ipython",
    "version": 3
   },
   "file_extension": ".py",
   "mimetype": "text/x-python",
   "name": "python",
   "nbconvert_exporter": "python",
   "pygments_lexer": "ipython3",
   "version": "3.8.10"
  }
 },
 "nbformat": 4,
 "nbformat_minor": 5
}
