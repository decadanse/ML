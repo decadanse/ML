{
 "cells": [
  {
   "cell_type": "code",
   "execution_count": 16,
   "id": "1485a0cf-2ab3-4f53-8a3a-0434b7715a76",
   "metadata": {},
   "outputs": [],
   "source": [
    "#Для решения заданий будут необходимы следующие пакеты:\n",
    "\n",
    "import pandas as pd\n",
    "import numpy as np\n",
    "import surprise\n",
    "import apyori"
   ]
  },
  {
   "cell_type": "code",
   "execution_count": null,
   "id": "d3bf5466-572d-4532-b152-4a53688e302e",
   "metadata": {},
   "outputs": [],
   "source": [
    "#Если библиотеки surprise и apyori не установлены, воспользуйтесь менеджером пакетов pip:\n",
    "\n",
    "! pip install surprise\n",
    "! pip install apyori"
   ]
  },
  {
   "cell_type": "code",
   "execution_count": 26,
   "id": "76713975-9a56-41cf-bae8-6fee29ef480f",
   "metadata": {},
   "outputs": [],
   "source": [
    "#И датасет из библиотеки surprise:\n",
    "\n",
    "data = surprise.Dataset.load_builtin(\"ml-100k\")\n",
    "\n",
    "trainingSet = data.build_full_trainset()\n",
    "testSet = trainingSet.build_testset()"
   ]
  },
  {
   "cell_type": "markdown",
   "id": "741df0c2-12f9-4800-a55e-832bde5b784b",
   "metadata": {},
   "source": [
    "#### Задание 9.10.1\n",
    "\n",
    "Найдите количество пользователей в trainingSet "
   ]
  },
  {
   "cell_type": "code",
   "execution_count": 27,
   "id": "727b6c9b-157c-476b-a5cb-09da5685097c",
   "metadata": {},
   "outputs": [
    {
     "data": {
      "text/plain": [
       "943"
      ]
     },
     "execution_count": 27,
     "metadata": {},
     "output_type": "execute_result"
    }
   ],
   "source": [
    "df = pd.DataFrame(data.raw_ratings)\n",
    "df.columns = ['user_id', 'movie_id', 'rating', 3]\n",
    "df.user_id.nunique()\n",
    "#943 is correct"
   ]
  },
  {
   "cell_type": "markdown",
   "id": "effcf6c3-b428-4175-921b-8d6b240cba7d",
   "metadata": {},
   "source": [
    "#### Задание 9.10.2\n",
    "Найдите количество items в trainingSet"
   ]
  },
  {
   "cell_type": "code",
   "execution_count": 25,
   "id": "dbd33d27-f484-459e-9e7c-c85cb0706d4b",
   "metadata": {},
   "outputs": [
    {
     "data": {
      "text/plain": [
       "1682"
      ]
     },
     "execution_count": 25,
     "metadata": {},
     "output_type": "execute_result"
    }
   ],
   "source": [
    "df.movie_id.nunique()\n",
    "#1682 is correct"
   ]
  },
  {
   "cell_type": "markdown",
   "id": "c125b128-8c6e-4024-b78d-d9d29b5ba1e2",
   "metadata": {},
   "source": [
    "#### Задание 9.10.3\n",
    "Проведите тренировку алгоритма user-based коллаборативной фильтрации KNNBasic и алгоритма SVD.\n",
    "\n",
    "Постройте рекомендации testset c использованием двух алгоритмов, натренированных выше. Выведите предсказание под 8-ым индексом. В качестве ответ укажите id рекомендованного фильма."
   ]
  },
  {
   "cell_type": "code",
   "execution_count": 38,
   "id": "f72e4774-7fd0-4186-bcce-46164d82c346",
   "metadata": {},
   "outputs": [
    {
     "name": "stdout",
     "output_type": "stream",
     "text": [
      "Computing the cosine similarity matrix...\n",
      "Done computing similarity matrix.\n"
     ]
    },
    {
     "data": {
      "text/plain": [
       "Prediction(uid='196', iid='663', r_ui=5.0, est=4.475491686108841, details={'actual_k': 40, 'was_impossible': False})"
      ]
     },
     "execution_count": 38,
     "metadata": {},
     "output_type": "execute_result"
    }
   ],
   "source": [
    "#https://surprise.readthedocs.io/en/stable/knn_inspired.html\n",
    "from surprise import KNNBasic\n",
    "\n",
    "# 'name' : The name of the similarity to use, as defined in the similarities module.\n",
    "sim_options = {'name': 'cosine','user_based': True} #Compute the cosine similarity between all pairs of users (or items).\n",
    "\n",
    "knn = KNNBasic(sim_options=sim_options)\n",
    "\n",
    "knn.fit(trainingSet)\n",
    "knn_predictions = knn.test(testSet)\n",
    "knn_predictions[8]  "
   ]
  },
  {
   "cell_type": "code",
   "execution_count": 39,
   "id": "1ebc7889-ca30-4b9d-ab58-bd0f75aaf93e",
   "metadata": {},
   "outputs": [
    {
     "data": {
      "text/plain": [
       "Prediction(uid='196', iid='663', r_ui=5.0, est=4.329099810705593, details={'was_impossible': False})"
      ]
     },
     "execution_count": 39,
     "metadata": {},
     "output_type": "execute_result"
    }
   ],
   "source": [
    "from surprise import SVD\n",
    "\n",
    "#Задаём наш алгоритм и формируем обучающую выборку:\n",
    "svd=SVD()\n",
    "trainingSet=data.build_full_trainset()\n",
    "\n",
    "#Тренируем наш алгоритм:\n",
    "svd.fit(trainingSet)\n",
    "\n",
    "#Далее мы уже можем получить предсказание:\n",
    "testSet=trainingSet.build_testset()\n",
    "svd_predictions=svd.test(testSet)\n",
    "svd_predictions[8]"
   ]
  },
  {
   "cell_type": "code",
   "execution_count": 40,
   "id": "24e19e7a-c3e0-4983-84d9-083a599938bd",
   "metadata": {},
   "outputs": [],
   "source": [
    "#663 is correct\n",
    "#iid - film id"
   ]
  },
  {
   "cell_type": "markdown",
   "id": "2b5a0215-3b9f-4d5a-807c-8f646aa5e45c",
   "metadata": {},
   "source": [
    "#### Задание 9.10.4\n",
    "Рассчитайте метрику качества RMSE для предсказаний через функцию surprise.accuracy.rmse() для обоих обученных ранее алгоритмов. В качестве ответа укажите значение RMSE для того алгоритма, который дал лучший результат. Округлите ответ до двух знаков после точки-разделителя."
   ]
  },
  {
   "cell_type": "code",
   "execution_count": 46,
   "id": "bac2efd2-a315-4cd8-8df6-1f298d9cbbee",
   "metadata": {},
   "outputs": [
    {
     "name": "stdout",
     "output_type": "stream",
     "text": [
      "knn_predictions = 0.9012175824620821\n",
      "svd_predictions = 0.6750535440409582\n",
      "RMSE for better predictions = 0.68\n"
     ]
    }
   ],
   "source": [
    "sar_knn = surprise.accuracy.rmse(knn_predictions, verbose=False)\n",
    "sar_svd = surprise.accuracy.rmse(svd_predictions, verbose=False)\n",
    "\n",
    "print(f'knn_predictions = {sar_knn}') \n",
    "print(f'svd_predictions = {sar_svd}')\n",
    "print(f'RMSE for better predictions = {np.round(min(sar_knn, sar_svd), 2)}') #Lower values of RMSE indicate better fit.\n",
    "#0.68 is correct"
   ]
  },
  {
   "cell_type": "code",
   "execution_count": null,
   "id": "3425eaa2-8dd9-426f-8246-b8f4d531f580",
   "metadata": {},
   "outputs": [],
   "source": []
  },
  {
   "cell_type": "code",
   "execution_count": 103,
   "id": "c8709ca8-b5c0-4b19-99b9-a00005be2479",
   "metadata": {},
   "outputs": [
    {
     "data": {
      "text/html": [
       "<div>\n",
       "<style scoped>\n",
       "    .dataframe tbody tr th:only-of-type {\n",
       "        vertical-align: middle;\n",
       "    }\n",
       "\n",
       "    .dataframe tbody tr th {\n",
       "        vertical-align: top;\n",
       "    }\n",
       "\n",
       "    .dataframe thead th {\n",
       "        text-align: right;\n",
       "    }\n",
       "</style>\n",
       "<table border=\"1\" class=\"dataframe\">\n",
       "  <thead>\n",
       "    <tr style=\"text-align: right;\">\n",
       "      <th></th>\n",
       "      <th>user_id</th>\n",
       "      <th>movie_id</th>\n",
       "      <th>rating</th>\n",
       "      <th>3</th>\n",
       "    </tr>\n",
       "  </thead>\n",
       "  <tbody>\n",
       "    <tr>\n",
       "      <th>0</th>\n",
       "      <td>196</td>\n",
       "      <td>242</td>\n",
       "      <td>3.0</td>\n",
       "      <td>881250949</td>\n",
       "    </tr>\n",
       "    <tr>\n",
       "      <th>1</th>\n",
       "      <td>186</td>\n",
       "      <td>302</td>\n",
       "      <td>3.0</td>\n",
       "      <td>891717742</td>\n",
       "    </tr>\n",
       "    <tr>\n",
       "      <th>2</th>\n",
       "      <td>22</td>\n",
       "      <td>377</td>\n",
       "      <td>1.0</td>\n",
       "      <td>878887116</td>\n",
       "    </tr>\n",
       "    <tr>\n",
       "      <th>3</th>\n",
       "      <td>244</td>\n",
       "      <td>51</td>\n",
       "      <td>2.0</td>\n",
       "      <td>880606923</td>\n",
       "    </tr>\n",
       "    <tr>\n",
       "      <th>4</th>\n",
       "      <td>166</td>\n",
       "      <td>346</td>\n",
       "      <td>1.0</td>\n",
       "      <td>886397596</td>\n",
       "    </tr>\n",
       "  </tbody>\n",
       "</table>\n",
       "</div>"
      ],
      "text/plain": [
       "  user_id movie_id  rating          3\n",
       "0     196      242     3.0  881250949\n",
       "1     186      302     3.0  891717742\n",
       "2      22      377     1.0  878887116\n",
       "3     244       51     2.0  880606923\n",
       "4     166      346     1.0  886397596"
      ]
     },
     "execution_count": 103,
     "metadata": {},
     "output_type": "execute_result"
    }
   ],
   "source": [
    "#Cформируем привычный DataFrame из нашего датасета\n",
    "\n",
    "df = pd.DataFrame(data.raw_ratings)\n",
    "df.columns = ['user_id', 'movie_id', 'rating', 3]\n",
    "df.head()"
   ]
  },
  {
   "cell_type": "markdown",
   "id": "dd2f53bd-e8f4-4cc8-8c55-ddbaeaedc844",
   "metadata": {},
   "source": [
    "#### Задание 9.10.5\n",
    "Сформируйте для каждого user_id текстовую строку, содержащую набор movie_id, получивших оценку 4 и выше. Используйте пробел (\" \") в качестве разделителя.\n",
    "\n",
    "Для проверки результата введите строку для user_id 100 (имелась ввиду 100 строка, если попробовать как-то так ваша_табличка['100'] ). Укажите параметр random_state=829.\n",
    "\n",
    "Пример ответа: 61 33 160 20 202 171 265 47 222 253 113 227 90..."
   ]
  },
  {
   "cell_type": "code",
   "execution_count": 104,
   "id": "cac479b6-bd5c-4212-a240-4e9f1454dc77",
   "metadata": {},
   "outputs": [
    {
     "data": {
      "text/html": [
       "<div>\n",
       "<style scoped>\n",
       "    .dataframe tbody tr th:only-of-type {\n",
       "        vertical-align: middle;\n",
       "    }\n",
       "\n",
       "    .dataframe tbody tr th {\n",
       "        vertical-align: top;\n",
       "    }\n",
       "\n",
       "    .dataframe thead th {\n",
       "        text-align: right;\n",
       "    }\n",
       "</style>\n",
       "<table border=\"1\" class=\"dataframe\">\n",
       "  <thead>\n",
       "    <tr style=\"text-align: right;\">\n",
       "      <th></th>\n",
       "      <th>movie_id</th>\n",
       "    </tr>\n",
       "    <tr>\n",
       "      <th>user_id</th>\n",
       "      <th></th>\n",
       "    </tr>\n",
       "  </thead>\n",
       "  <tbody>\n",
       "    <tr>\n",
       "      <th>1</th>\n",
       "      <td>202 171 253 113 64 228 114 221 60 177 174 82 2...</td>\n",
       "    </tr>\n",
       "    <tr>\n",
       "      <th>10</th>\n",
       "      <td>611 100 488 285 504 655 124 22 656 200 223 135...</td>\n",
       "    </tr>\n",
       "    <tr>\n",
       "      <th>100</th>\n",
       "      <td>316 313 315</td>\n",
       "    </tr>\n",
       "    <tr>\n",
       "      <th>101</th>\n",
       "      <td>237</td>\n",
       "    </tr>\n",
       "    <tr>\n",
       "      <th>103</th>\n",
       "      <td>126 527 50 255 56</td>\n",
       "    </tr>\n",
       "  </tbody>\n",
       "</table>\n",
       "</div>"
      ],
      "text/plain": [
       "                                                  movie_id\n",
       "user_id                                                   \n",
       "1        202 171 253 113 64 228 114 221 60 177 174 82 2...\n",
       "10       611 100 488 285 504 655 124 22 656 200 223 135...\n",
       "100                                            316 313 315\n",
       "101                                                    237\n",
       "103                                      126 527 50 255 56"
      ]
     },
     "execution_count": 104,
     "metadata": {},
     "output_type": "execute_result"
    }
   ],
   "source": [
    "#v1\n",
    "df_movies = pd.DataFrame(df[df['rating'] > 4].groupby(['user_id'])['movie_id'].apply(lambda x: ' '.join(list(x))))\n",
    "df_movies.head()"
   ]
  },
  {
   "cell_type": "code",
   "execution_count": 105,
   "id": "b73f6de7-be3c-46ff-8dec-8adef27ceea5",
   "metadata": {
    "tags": []
   },
   "outputs": [
    {
     "data": {
      "text/plain": [
       "'302 471 313 272 237 288'"
      ]
     },
     "execution_count": 105,
     "metadata": {},
     "output_type": "execute_result"
    }
   ],
   "source": [
    "#v2\n",
    "#Из полученного датасета возьмём только те записи, у которых наивысший рейтинг > 4 и объединим их по \"user_id\". \n",
    "#Фильмы сгруппируем в строчку с разделителем \"пробел\" так, чтобы для каждого пользователя была строка с ID тех фильмов, которые ему понравились:\n",
    "good = df[df['rating'] > 4].groupby('user_id')['movie_id'].apply(lambda r: ' '.join([str(A) for A in r]))\n",
    "good[100]"
   ]
  },
  {
   "cell_type": "code",
   "execution_count": 102,
   "id": "6c08eb36-460c-4e0d-b218-661b27ceb415",
   "metadata": {},
   "outputs": [
    {
     "data": {
      "text/html": [
       "<div>\n",
       "<style scoped>\n",
       "    .dataframe tbody tr th:only-of-type {\n",
       "        vertical-align: middle;\n",
       "    }\n",
       "\n",
       "    .dataframe tbody tr th {\n",
       "        vertical-align: top;\n",
       "    }\n",
       "\n",
       "    .dataframe thead th {\n",
       "        text-align: right;\n",
       "    }\n",
       "</style>\n",
       "<table border=\"1\" class=\"dataframe\">\n",
       "  <thead>\n",
       "    <tr style=\"text-align: right;\">\n",
       "      <th></th>\n",
       "      <th>movie_id</th>\n",
       "    </tr>\n",
       "    <tr>\n",
       "      <th>user_id</th>\n",
       "      <th></th>\n",
       "    </tr>\n",
       "  </thead>\n",
       "  <tbody>\n",
       "    <tr>\n",
       "      <th>1</th>\n",
       "      <td>202 171 253 113 64 228 114 221 60 177 174 82 2...</td>\n",
       "    </tr>\n",
       "    <tr>\n",
       "      <th>10</th>\n",
       "      <td>611 100 488 285 504 655 124 22 656 200 223 135...</td>\n",
       "    </tr>\n",
       "    <tr>\n",
       "      <th>100</th>\n",
       "      <td>316 313 315</td>\n",
       "    </tr>\n",
       "    <tr>\n",
       "      <th>101</th>\n",
       "      <td>237</td>\n",
       "    </tr>\n",
       "    <tr>\n",
       "      <th>103</th>\n",
       "      <td>126 527 50 255 56</td>\n",
       "    </tr>\n",
       "    <tr>\n",
       "      <th>...</th>\n",
       "      <td>...</td>\n",
       "    </tr>\n",
       "    <tr>\n",
       "      <th>95</th>\n",
       "      <td>1 174 173 471 14 83 204 660 64 404 657 747 7 6...</td>\n",
       "    </tr>\n",
       "    <tr>\n",
       "      <th>96</th>\n",
       "      <td>91 8 484 645 64 100 170 483 1 1232 50 23 1154 ...</td>\n",
       "    </tr>\n",
       "    <tr>\n",
       "      <th>97</th>\n",
       "      <td>228 222 670 89 482 50 115 7 28 655 97 79 430 3...</td>\n",
       "    </tr>\n",
       "    <tr>\n",
       "      <th>98</th>\n",
       "      <td>517 116 629 523 514 25 428 435 659 194</td>\n",
       "    </tr>\n",
       "    <tr>\n",
       "      <th>99</th>\n",
       "      <td>4 1016 50 742 181 410 168 258 11 56 237 100 12...</td>\n",
       "    </tr>\n",
       "  </tbody>\n",
       "</table>\n",
       "<p>928 rows × 1 columns</p>\n",
       "</div>"
      ],
      "text/plain": [
       "                                                  movie_id\n",
       "user_id                                                   \n",
       "1        202 171 253 113 64 228 114 221 60 177 174 82 2...\n",
       "10       611 100 488 285 504 655 124 22 656 200 223 135...\n",
       "100                                            316 313 315\n",
       "101                                                    237\n",
       "103                                      126 527 50 255 56\n",
       "...                                                    ...\n",
       "95       1 174 173 471 14 83 204 660 64 404 657 747 7 6...\n",
       "96       91 8 484 645 64 100 170 483 1 1232 50 23 1154 ...\n",
       "97       228 222 670 89 482 50 115 7 28 655 97 79 430 3...\n",
       "98                  517 116 629 523 514 25 428 435 659 194\n",
       "99       4 1016 50 742 181 410 168 258 11 56 237 100 12...\n",
       "\n",
       "[928 rows x 1 columns]"
      ]
     },
     "execution_count": 102,
     "metadata": {},
     "output_type": "execute_result"
    }
   ],
   "source": [
    "df_movies"
   ]
  },
  {
   "cell_type": "code",
   "execution_count": null,
   "id": "4eb79f86-6567-4110-9a08-c05b92ec49af",
   "metadata": {},
   "outputs": [],
   "source": [
    "data = surprise.Dataset.load_builtin(\"ml-100k\")\n",
    "df = pd.DataFrame(data.raw_ratings)\n",
    "df.columns = ['user_id', 'movie_id', 'rating', 3]\n",
    "df_movies = pd.DataFrame(df[df['rating'] > 3].groupby(['user_id'])['movie_id'].apply(lambda x: ' '.join(list(x))))\n",
    "association_rules = apyori.apriori(df_movies, \n",
    "                                   min_support=0.2, \n",
    "                                   min_confidence=0.3, min_lift=2, \n",
    "                                   min_length=2)"
   ]
  },
  {
   "cell_type": "markdown",
   "id": "88a96dbc-843b-4f2d-9247-bb90b53622c4",
   "metadata": {
    "tags": []
   },
   "source": [
    "#### Задание 9.10.6\n",
    "Используя алгоритм apyori из модуля apyori, рассчитайте ассоциативные правила для полученного набора фильмов с положительными оценками. Будем считать, что хороший рейтинг — это когда оценка >= 4. Используйте следующие ограничения:\n",
    "\n",
    "    минимальный Support 0.2;\n",
    "    минимальное значение Confidence 0.3;\n",
    "    минимальное значение Lift 2;\n",
    "    минимальная длина 2.\n",
    "\n",
    "Сколько правил получилось? "
   ]
  },
  {
   "cell_type": "code",
   "execution_count": null,
   "id": "aed51655-8d4c-4c5a-8c3c-adbdfa3d7026",
   "metadata": {},
   "outputs": [],
   "source": []
  },
  {
   "cell_type": "markdown",
   "id": "322f67b2-058a-4756-a99b-28db33e8c4c6",
   "metadata": {},
   "source": [
    "#### Задание 9.10.7\n",
    "Какой фильм чаще всего встречается в ассоциативных правилах? Укажите id фильма."
   ]
  },
  {
   "cell_type": "code",
   "execution_count": null,
   "id": "0b0d011f-1bbe-44b7-bc30-c0056313944b",
   "metadata": {},
   "outputs": [],
   "source": []
  }
 ],
 "metadata": {
  "kernelspec": {
   "display_name": "Python 3 (ipykernel)",
   "language": "python",
   "name": "python3"
  },
  "language_info": {
   "codemirror_mode": {
    "name": "ipython",
    "version": 3
   },
   "file_extension": ".py",
   "mimetype": "text/x-python",
   "name": "python",
   "nbconvert_exporter": "python",
   "pygments_lexer": "ipython3",
   "version": "3.8.10"
  }
 },
 "nbformat": 4,
 "nbformat_minor": 5
}
