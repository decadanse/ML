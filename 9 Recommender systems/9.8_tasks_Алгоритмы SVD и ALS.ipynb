{
 "cells": [
  {
   "cell_type": "code",
   "execution_count": 2,
   "id": "64c62ae2-c8f8-4b5c-8e45-8e2d68400d0d",
   "metadata": {},
   "outputs": [],
   "source": [
    "import pandas as pd\n",
    "df = pd.read_csv('data_fin.csv', sep=';')"
   ]
  },
  {
   "cell_type": "code",
   "execution_count": 3,
   "id": "f3161127-86cb-42de-b822-20d058d44848",
   "metadata": {},
   "outputs": [
    {
     "data": {
      "text/plain": [
       "17770"
      ]
     },
     "execution_count": 3,
     "metadata": {},
     "output_type": "execute_result"
    }
   ],
   "source": [
    "df.Movie_Id.nunique()"
   ]
  },
  {
   "cell_type": "code",
   "execution_count": 4,
   "id": "90a242d0-a111-4cc6-b643-59b524e247eb",
   "metadata": {},
   "outputs": [
    {
     "data": {
      "text/plain": [
       "480189"
      ]
     },
     "execution_count": 4,
     "metadata": {},
     "output_type": "execute_result"
    }
   ],
   "source": [
    "df.Cust_Id.nunique()"
   ]
  },
  {
   "cell_type": "code",
   "execution_count": 5,
   "id": "4f3d30f9-eddc-472e-8799-e1a8c373feaa",
   "metadata": {},
   "outputs": [],
   "source": [
    "cust_sample=df.Cust_Id.sample(10000)\n",
    "movie_sample=df.Movie_Id.sample(5000)"
   ]
  },
  {
   "cell_type": "code",
   "execution_count": 6,
   "id": "1528fb49-8a48-4787-8840-726d8aa60b96",
   "metadata": {},
   "outputs": [],
   "source": [
    "import surprise\n",
    "from surprise import Reader, Dataset"
   ]
  },
  {
   "cell_type": "code",
   "execution_count": null,
   "id": "9cfd7125-a7ce-4770-80e0-5a9dd7f69282",
   "metadata": {},
   "outputs": [],
   "source": [
    "reader=Reader(rating_scale=(0.5,5.0))\n",
    "data=Dataset.load_from_df(df[['Cust_Id','Movie_Id','Rating']],reader)"
   ]
  },
  {
   "cell_type": "code",
   "execution_count": null,
   "id": "4eed98bd-a75d-4e4e-b7bc-aa8a22aad666",
   "metadata": {},
   "outputs": [],
   "source": [
    "from surprise import SVD"
   ]
  },
  {
   "cell_type": "code",
   "execution_count": null,
   "id": "0f343666-a58d-4d90-aa2e-2813ff6108ec",
   "metadata": {},
   "outputs": [],
   "source": [
    "#Задаём наш алгоритм и формируем обучающую выборку:\n",
    "\n",
    "svd=SVD()\n",
    "trainingSet=data.build_full_trainset()"
   ]
  },
  {
   "cell_type": "code",
   "execution_count": null,
   "id": "5db9b670-ac2c-4acd-93a7-b5ab97ffea44",
   "metadata": {},
   "outputs": [],
   "source": [
    "#Тренируем наш алгоритм:\n",
    "\n",
    "svd.fit(trainingSet)"
   ]
  },
  {
   "cell_type": "code",
   "execution_count": null,
   "id": "9c4ef654-0cbb-4fbe-b105-aff48a652b54",
   "metadata": {},
   "outputs": [],
   "source": [
    "#Далее мы уже можем получить предсказание:\n",
    "\n",
    "testSet=trainingSet.build_testset()\n",
    "predictions=svd.test(testSet)"
   ]
  },
  {
   "cell_type": "code",
   "execution_count": null,
   "id": "0442d295-29bd-4adf-9e13-e3600491807f",
   "metadata": {},
   "outputs": [],
   "source": [
    "#Подгружаем названия фильмов:\n",
    "\n",
    "titles = pd.read_csv('movie_titles.csv', encoding = \"ISO-8859-1\", \n",
    "                     header = None, \n",
    "                     names = ['Movie_Id', 'Year', 'Name'])"
   ]
  },
  {
   "cell_type": "code",
   "execution_count": null,
   "id": "eb4801b4-7787-4d9c-b5b4-94a1f3628ba7",
   "metadata": {},
   "outputs": [],
   "source": [
    "#Далее можем задать функцию для определения топ-3 рекомендаций:\n",
    "from collections import defaultdict\n",
    " \n",
    "def get_top3_recommendations(predictions, topN = 3):\n",
    "     \n",
    "    top_recs = defaultdict(list)\n",
    "    for uid, iid, true_r, est, _ in predictions:\n",
    "        top_recs[uid].append((iid, est))\n",
    "     \n",
    "    for uid, user_ratings in top_recs.items():\n",
    "        user_ratings.sort(key = lambda x: x[1], reverse = True)\n",
    "        top_recs[uid] = user_ratings[:topN]\n",
    "     \n",
    "    return top_recs"
   ]
  },
  {
   "cell_type": "code",
   "execution_count": null,
   "id": "377e59b8-7a72-4ca6-9762-d4d2bf5de048",
   "metadata": {},
   "outputs": [],
   "source": [
    "top3_recommendations = get_top3_recommendations(predictions)"
   ]
  },
  {
   "cell_type": "code",
   "execution_count": null,
   "id": "13690d58-b2a4-4d63-9795-156c94b1415e",
   "metadata": {},
   "outputs": [],
   "source": [
    "import numpy as np\n",
    "\n",
    "def print_recs(i):\n",
    "    for (a, b) in top3_recommendations[i]:\n",
    "        print(titles[titles.Movie_Id == a]['Name'].values[0], np.round(b,2))"
   ]
  },
  {
   "cell_type": "code",
   "execution_count": null,
   "id": "010fc2d8-4d64-458a-a396-cfde9ac5ea4e",
   "metadata": {},
   "outputs": [],
   "source": [
    "i = 262149\n",
    "print_recs(i)"
   ]
  },
  {
   "cell_type": "code",
   "execution_count": null,
   "id": "5ae8f93a-3cc3-4ac9-b110-1b7a2da0c125",
   "metadata": {},
   "outputs": [],
   "source": [
    "i = np.random.choice(list(top3_recommendations.keys()))\n",
    "\n",
    "print_recs(i)"
   ]
  }
 ],
 "metadata": {
  "kernelspec": {
   "display_name": "Python 3 (ipykernel)",
   "language": "python",
   "name": "python3"
  },
  "language_info": {
   "codemirror_mode": {
    "name": "ipython",
    "version": 3
   },
   "file_extension": ".py",
   "mimetype": "text/x-python",
   "name": "python",
   "nbconvert_exporter": "python",
   "pygments_lexer": "ipython3",
   "version": "3.8.10"
  }
 },
 "nbformat": 4,
 "nbformat_minor": 5
}
