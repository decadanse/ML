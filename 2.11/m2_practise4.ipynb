{
 "cells": [
  {
   "cell_type": "markdown",
   "id": "401bd233-da78-4053-b8c3-012b000e9e3b",
   "metadata": {},
   "source": [
    "task 2.11.6 \n",
    "Загрузите данные train.csv, оставьте в нем только 2 признака: balance_due и payment_amount (признаки должны следовать именно в указанном порядке). \n",
    "Создайте из полученных признаков полиномиальные признаки степени 3. \n",
    "Посчитайте среднее значение для каждого получившегося признака. \n",
    "В качестве ответа укажите индекс признака, который содержит максимальное среднее значение."
   ]
  },
  {
   "cell_type": "code",
   "execution_count": null,
   "id": "4d0b7af2-252d-484b-97db-acd3b7e60700",
   "metadata": {},
   "outputs": [],
   "source": [
    "import numpy as np\n",
    "import pandas as pd\n",
    "%matplotlib inline\n",
    "\n",
    "vis_data = pd.read_csv(\"./train.csv\", \n",
    "                       encoding = 'ISO-8859-1', \n",
    "                       low_memory = False)\n",
    "vis_data = vis_data.drop(['violation_zip_code', 'clean_up_cost'], axis=1)\n",
    "latlons = pd.read_csv(\"./latlons.csv\")\n",
    "vis_data = pd.concat([vis_data, latlons], axis=1)"
   ]
  },
  {
   "cell_type": "code",
   "execution_count": 5,
   "id": "ad753395-2c2d-4dbb-8ae3-e42ceda9d881",
   "metadata": {},
   "outputs": [
    {
     "data": {
      "text/plain": [
       "Index(['ticket_id', 'agency_name', 'inspector_name', 'violator_name',\n",
       "       'violation_street_number', 'violation_street_name',\n",
       "       'mailing_address_str_number', 'mailing_address_str_name', 'city',\n",
       "       'state', 'zip_code', 'non_us_str_code', 'country', 'ticket_issued_date',\n",
       "       'hearing_date', 'violation_code', 'violation_description',\n",
       "       'disposition', 'fine_amount', 'admin_fee', 'state_fee', 'late_fee',\n",
       "       'discount_amount', 'judgment_amount', 'payment_amount', 'balance_due',\n",
       "       'payment_date', 'payment_status', 'collection_status',\n",
       "       'grafitti_status', 'compliance_detail', 'compliance'],\n",
       "      dtype='object')"
      ]
     },
     "execution_count": 5,
     "metadata": {},
     "output_type": "execute_result"
    }
   ],
   "source": [
    "vis_data.columns"
   ]
  },
  {
   "cell_type": "code",
   "execution_count": 59,
   "id": "e752d3fe-0212-45b5-b757-c2936c1fef3d",
   "metadata": {},
   "outputs": [
    {
     "data": {
      "text/plain": [
       "0.0       111510\n",
       "305.0      67281\n",
       "85.0       14092\n",
       "140.0       9324\n",
       "250.0       8967\n",
       "25.0        7692\n",
       "580.0       5673\n",
       "1130.0      4151\n",
       "360.0       3402\n",
       "3880.0      3386\n",
       "10.0        2389\n",
       "Name: balance_due, dtype: int64"
      ]
     },
     "execution_count": 59,
     "metadata": {},
     "output_type": "execute_result"
    }
   ],
   "source": [
    "from sklearn.preprocessing import PolynomialFeatures\n",
    "pf = PolynomialFeatures(3)#полиномиальные признаки степени 3 - создаются строкой ниже\n",
    "poly_features = pf.fit_transform(vis_data[['balance_due', 'payment_amount']])\n",
    "#poly_features\n",
    "vis_data.balance_due.value_counts()[:10]"
   ]
  },
  {
   "cell_type": "code",
   "execution_count": 66,
   "id": "110577d2-7c61-46dc-83be-51265fdfc7b9",
   "metadata": {},
   "outputs": [
    {
     "data": {
      "text/plain": [
       "135853371357.6"
      ]
     },
     "execution_count": 66,
     "metadata": {},
     "output_type": "execute_result"
    }
   ],
   "source": [
    "#средние по строкам. не то, что надо. надо по столбцам. \n",
    "pf_mean_row = []\n",
    "for i in poly_features:{\n",
    "        pf_mean_row.append(i.mean()) #среднее значение каждого признака\n",
    "}\n",
    "max(pf_mean_row)"
   ]
  },
  {
   "cell_type": "code",
   "execution_count": 67,
   "id": "584750cf-1a63-4fe6-9ec2-c184ba989a91",
   "metadata": {},
   "outputs": [],
   "source": [
    "pf_mean_col = poly_features.mean(axis=0)"
   ]
  },
  {
   "cell_type": "code",
   "execution_count": 68,
   "id": "c1ec426c-de34-41b2-8f88-a2360c92cf77",
   "metadata": {},
   "outputs": [
    {
     "data": {
      "text/plain": [
       "6"
      ]
     },
     "execution_count": 68,
     "metadata": {},
     "output_type": "execute_result"
    }
   ],
   "source": [
    "np.argmax(pf_mean_col)"
   ]
  },
  {
   "cell_type": "markdown",
   "id": "e74c576b-9401-48c6-bd42-7c2338a8fbb6",
   "metadata": {},
   "source": [
    "task 2.11.7\n",
    "Загрузите данные train.csv, найдите признак, обозначающий дату, когда был выписан штраф. \n",
    "Найдите, сколько раз штраф был выписан на выходных, и запишите это число в качестве ответа.\n",
    "Выходными считаются дни под номерами 5 и 6."
   ]
  },
  {
   "cell_type": "code",
   "execution_count": 75,
   "id": "0551797d-cb0b-4503-96e6-513d0ad45268",
   "metadata": {},
   "outputs": [
    {
     "data": {
      "text/plain": [
       "'2004-04-26 13:40:00'"
      ]
     },
     "execution_count": 75,
     "metadata": {},
     "output_type": "execute_result"
    }
   ],
   "source": [
    "td = vis_data['ticket_issued_date']\n",
    "td[2]"
   ]
  },
  {
   "cell_type": "code",
   "execution_count": null,
   "id": "00af32b8-6618-4b58-a074-f9af414d86a0",
   "metadata": {},
   "outputs": [],
   "source": []
  }
 ],
 "metadata": {
  "kernelspec": {
   "display_name": "Python 3 (ipykernel)",
   "language": "python",
   "name": "python3"
  },
  "language_info": {
   "codemirror_mode": {
    "name": "ipython",
    "version": 3
   },
   "file_extension": ".py",
   "mimetype": "text/x-python",
   "name": "python",
   "nbconvert_exporter": "python",
   "pygments_lexer": "ipython3",
   "version": "3.8.10"
  }
 },
 "nbformat": 4,
 "nbformat_minor": 5
}
