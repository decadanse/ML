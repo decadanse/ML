{
 "cells": [
  {
   "cell_type": "markdown",
   "id": "5bc40a7f-79bd-49b9-9187-4b7b1987a9cc",
   "metadata": {},
   "source": [
    "task 2.13.5\n",
    "Загрузите данные train.csv, найдите признак, обозначающий баланс. \n",
    "Уберите пропуски из этого признака и найдите выбросы с помощью межквартильного расстояния. \n",
    "Найдите разницу между максимальным и минимальным среди значений, которые остались после удаления выбросов."
   ]
  },
  {
   "cell_type": "code",
   "execution_count": 4,
   "id": "6e653a63-36d6-4f58-ba32-daf54833728d",
   "metadata": {},
   "outputs": [],
   "source": [
    "import numpy as np\n",
    "import pandas as pd\n",
    "from math import radians, sin, cos, asin, sqrt\n",
    "%matplotlib inline\n",
    "\n",
    "vis_data = pd.read_csv(\"./2.13_train.csv\", \n",
    "                       encoding = 'ISO-8859-1', \n",
    "                       low_memory = False)\n",
    "vis_data = vis_data.drop(['violation_zip_code', 'clean_up_cost'], axis=1)"
   ]
  },
  {
   "cell_type": "code",
   "execution_count": 5,
   "id": "3cae7686-85bb-458f-95ca-3d262719b63d",
   "metadata": {},
   "outputs": [
    {
     "data": {
      "text/plain": [
       "Index(['ticket_id', 'agency_name', 'inspector_name', 'violator_name',\n",
       "       'violation_street_number', 'violation_street_name',\n",
       "       'mailing_address_str_number', 'mailing_address_str_name', 'city',\n",
       "       'state', 'zip_code', 'non_us_str_code', 'country', 'ticket_issued_date',\n",
       "       'hearing_date', 'violation_code', 'violation_description',\n",
       "       'disposition', 'fine_amount', 'admin_fee', 'state_fee', 'late_fee',\n",
       "       'discount_amount', 'judgment_amount', 'payment_amount', 'balance_due',\n",
       "       'payment_date', 'payment_status', 'collection_status',\n",
       "       'grafitti_status', 'compliance_detail', 'compliance'],\n",
       "      dtype='object')"
      ]
     },
     "execution_count": 5,
     "metadata": {},
     "output_type": "execute_result"
    }
   ],
   "source": [
    "vis_data.columns"
   ]
  },
  {
   "cell_type": "code",
   "execution_count": 9,
   "id": "35277d54-465d-4d84-bdf9-5a142760aa21",
   "metadata": {},
   "outputs": [],
   "source": [
    "import seaborn as sns"
   ]
  },
  {
   "cell_type": "code",
   "execution_count": 14,
   "id": "35c1fbd7-be7a-4d01-90b9-4905092f60e8",
   "metadata": {},
   "outputs": [
    {
     "name": "stderr",
     "output_type": "stream",
     "text": [
      "/home/dex/.local/lib/python3.8/site-packages/seaborn/_decorators.py:36: FutureWarning: Pass the following variable as a keyword arg: x. From version 0.12, the only valid positional argument will be `data`, and passing other arguments without an explicit keyword will result in an error or misinterpretation.\n",
      "  warnings.warn(\n"
     ]
    },
    {
     "data": {
      "image/png": "[encoded data removed]",
      "text/plain": [
       "<Figure size 432x288 with 1 Axes>"
      ]
     },
     "metadata": {
      "needs_background": "light"
     },
     "output_type": "display_data"
    }
   ],
   "source": [
    "sns.boxplot(vis_data.balance_due, color='yellow');"
   ]
  },
  {
   "cell_type": "code",
   "execution_count": 15,
   "id": "41260733-9027-45bc-babc-cd8ca8654817",
   "metadata": {},
   "outputs": [],
   "source": [
    "#Метод межквартильного расстояния\n",
    "def outliers_iqr(ys): \n",
    "    quartile_1, quartile_3 = np.percentile(ys, [25, 75])\n",
    "    iqr = quartile_3 - quartile_1\n",
    "    lower_bound = quartile_1 - (iqr * 1.5)\n",
    "    upper_bound = quartile_3 + (iqr * 1.5)\n",
    "    return np.where((ys > upper_bound) | (ys < lower_bound))[0]"
   ]
  },
  {
   "cell_type": "code",
   "execution_count": 40,
   "id": "bbcf4969-5c05-44bd-bc65-c12d6b19c9ff",
   "metadata": {},
   "outputs": [
    {
     "data": {
      "text/plain": [
       "array([], dtype=int64)"
      ]
     },
     "execution_count": 40,
     "metadata": {},
     "output_type": "execute_result"
    }
   ],
   "source": [
    "#Найдите выбросы с помощью межквартильного расстояния\n",
    "o = outliers_iqr(vis_data.balance_due.dropna()) #и избавимся от пропусков\n",
    "o"
   ]
  },
  {
   "cell_type": "markdown",
   "id": "46d74b6f-041a-4fa9-9572-b00ce21681ab",
   "metadata": {},
   "source": [
    "Метод поиска выбросов из лекций возвращает индексы выбросов. o - индексы выбросов. Выбросы нужно удалить --> нужно удалить значения по этим индексам."
   ]
  },
  {
   "cell_type": "code",
   "execution_count": 41,
   "id": "a8b5edd3-ccaa-422d-9d05-599597f4d7d2",
   "metadata": {},
   "outputs": [],
   "source": [
    "vis_data.balance_due.dropna()\n",
    "for i in range (0, len(o)):\n",
    "    vis_data.balance_due.pop(o[i])"
   ]
  },
  {
   "cell_type": "code",
   "execution_count": null,
   "id": "22c8ac92-ec9b-435f-b041-bd36e30ac378",
   "metadata": {},
   "outputs": [],
   "source": [
    "# def remove_abnormalities(values, indices):\n",
    "#     return [val for i, val in enumerate(values) if i not in indices]"
   ]
  },
  {
   "cell_type": "code",
   "execution_count": 46,
   "id": "d412c66b-002a-44ea-850e-8e989bae7bec",
   "metadata": {},
   "outputs": [
    {
     "data": {
      "text/plain": [
       "0         305.0\n",
       "1          75.0\n",
       "2           0.0\n",
       "3           0.0\n",
       "4           0.0\n",
       "          ...  \n",
       "250301      0.0\n",
       "250302      0.0\n",
       "250303      0.0\n",
       "250304      0.0\n",
       "250305      0.0\n",
       "Name: balance_due, Length: 240473, dtype: float64"
      ]
     },
     "execution_count": 46,
     "metadata": {},
     "output_type": "execute_result"
    }
   ],
   "source": [
    "vis_data.balance_due"
   ]
  },
  {
   "cell_type": "code",
   "execution_count": 49,
   "id": "5f281bc4-cd1b-4abd-915f-bf6d2bfa7b17",
   "metadata": {},
   "outputs": [],
   "source": [
    "vdbd_max = np.max(vis_data.balance_due)\n",
    "vdbd_min = np.min(vis_data.balance_due)"
   ]
  },
  {
   "cell_type": "code",
   "execution_count": 54,
   "id": "11080ff9-9183-4cd5-85b5-9805511754e5",
   "metadata": {},
   "outputs": [
    {
     "data": {
      "text/plain": [
       "1201.3"
      ]
     },
     "execution_count": 54,
     "metadata": {},
     "output_type": "execute_result"
    }
   ],
   "source": [
    "abs(vdbd_max-vdbd_min) #correct"
   ]
  },
  {
   "cell_type": "code",
   "execution_count": 55,
   "id": "9533623e-2b47-4b62-a14d-f702dc6bd706",
   "metadata": {},
   "outputs": [
    {
     "name": "stderr",
     "output_type": "stream",
     "text": [
      "/home/dex/.local/lib/python3.8/site-packages/seaborn/_decorators.py:36: FutureWarning: Pass the following variable as a keyword arg: x. From version 0.12, the only valid positional argument will be `data`, and passing other arguments without an explicit keyword will result in an error or misinterpretation.\n",
      "  warnings.warn(\n"
     ]
    },
    {
     "data": {
      "image/png": "[encoded data removed]",
      "text/plain": [
       "<Figure size 432x288 with 1 Axes>"
      ]
     },
     "metadata": {
      "needs_background": "light"
     },
     "output_type": "display_data"
    }
   ],
   "source": [
    "sns.boxplot(vis_data.balance_due, color='yellow');"
   ]
  },
  {
   "cell_type": "code",
   "execution_count": null,
   "id": "d0dd3072-5240-4427-8c81-2140fdb705b2",
   "metadata": {},
   "outputs": [],
   "source": []
  }
 ],
 "metadata": {
  "kernelspec": {
   "display_name": "Python 3 (ipykernel)",
   "language": "python",
   "name": "python3"
  },
  "language_info": {
   "codemirror_mode": {
    "name": "ipython",
    "version": 3
   },
   "file_extension": ".py",
   "mimetype": "text/x-python",
   "name": "python",
   "nbconvert_exporter": "python",
   "pygments_lexer": "ipython3",
   "version": "3.8.10"
  }
 },
 "nbformat": 4,
 "nbformat_minor": 5
}
