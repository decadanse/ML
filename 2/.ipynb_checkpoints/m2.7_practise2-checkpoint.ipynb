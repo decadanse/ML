{
 "cells": [
  {
   "cell_type": "code",
   "execution_count": 1,
   "id": "72b93098-8488-4c1c-94d3-ac0471d2cd55",
   "metadata": {},
   "outputs": [],
   "source": [
    "import pandas as pd\n",
    "import numpy as np"
   ]
  },
  {
   "cell_type": "markdown",
   "id": "77af48e1-50f6-4f5c-9ef8-ebf02e668cd8",
   "metadata": {},
   "source": [
    "#task 2.7.3\n",
    "Загрузите данные train.csv, найдите признак, обозначающий баланс. Нормализуйте признак с помощью std-нормализации. Проверьте, что вы нашли нужный признак и нормализовали его подходящим методом. Метод для нормализации принимает матрицу, а не массив. В numpy можно превратить массив в матрицу с помощью reshape(). В качестве ответа укажите минимальное значение в получившемся нормализованном признаке. Ответ округлите до 5 знаков после запятой."
   ]
  },
  {
   "cell_type": "code",
   "execution_count": 2,
   "id": "6f4b8810-bb9b-42a6-ab22-1966842afe3e",
   "metadata": {},
   "outputs": [],
   "source": [
    "#task 2.7.3\n",
    "vis_data = pd.read_csv(\"2.7_train.csv\", encoding = 'ISO-8859-1', low_memory = False)"
   ]
  },
  {
   "cell_type": "code",
   "execution_count": 4,
   "id": "894f599b-29dc-4879-9102-5c7c8d39f4a8",
   "metadata": {},
   "outputs": [
    {
     "data": {
      "text/plain": [
       "Index(['ticket_id', 'agency_name', 'inspector_name', 'violator_name',\n",
       "       'violation_street_number', 'violation_street_name',\n",
       "       'violation_zip_code', 'mailing_address_str_number',\n",
       "       'mailing_address_str_name', 'city', 'state', 'zip_code',\n",
       "       'non_us_str_code', 'country', 'ticket_issued_date', 'hearing_date',\n",
       "       'violation_code', 'violation_description', 'disposition', 'fine_amount',\n",
       "       'admin_fee', 'state_fee', 'late_fee', 'discount_amount',\n",
       "       'clean_up_cost', 'judgment_amount', 'payment_amount', 'balance_due',\n",
       "       'payment_date', 'payment_status', 'collection_status',\n",
       "       'grafitti_status', 'compliance_detail', 'compliance'],\n",
       "      dtype='object')"
      ]
     },
     "execution_count": 4,
     "metadata": {},
     "output_type": "execute_result"
    }
   ],
   "source": [
    "vis_data.columns"
   ]
  },
  {
   "cell_type": "code",
   "execution_count": 6,
   "id": "0b702bb1-8a4f-4b93-857c-f2d910b8e0ca",
   "metadata": {},
   "outputs": [],
   "source": [
    "from sklearn.preprocessing import StandardScaler"
   ]
  },
  {
   "cell_type": "code",
   "execution_count": 14,
   "id": "8791ddb4-99d7-4c3d-bacd-f425aa549986",
   "metadata": {},
   "outputs": [
    {
     "data": {
      "text/plain": [
       "0         305.0\n",
       "1          75.0\n",
       "2           0.0\n",
       "3           0.0\n",
       "4           0.0\n",
       "          ...  \n",
       "250301      0.0\n",
       "250302      0.0\n",
       "250303      0.0\n",
       "250304      0.0\n",
       "250305      0.0\n",
       "Name: balance_due, Length: 250306, dtype: float64"
      ]
     },
     "execution_count": 14,
     "metadata": {},
     "output_type": "execute_result"
    }
   ],
   "source": [
    "vis_data['balance_due']"
   ]
  },
  {
   "cell_type": "code",
   "execution_count": 30,
   "id": "a5211c5f-454c-411b-b8d0-e357346988d6",
   "metadata": {},
   "outputs": [
    {
     "data": {
      "text/plain": [
       "0         305.0\n",
       "1          75.0\n",
       "2           0.0\n",
       "3           0.0\n",
       "4           0.0\n",
       "          ...  \n",
       "250301      0.0\n",
       "250302      0.0\n",
       "250303      0.0\n",
       "250304      0.0\n",
       "250305      0.0\n",
       "Name: balance_due, Length: 250306, dtype: float64"
      ]
     },
     "execution_count": 30,
     "metadata": {},
     "output_type": "execute_result"
    }
   ],
   "source": [
    "balance = vis_data['balance_due']\n",
    "balance"
   ]
  },
  {
   "cell_type": "code",
   "execution_count": 34,
   "id": "fb2753f9-1400-4d7a-b585-853b74f3b725",
   "metadata": {},
   "outputs": [
    {
     "data": {
      "text/plain": [
       "array([[ 0.13613444],\n",
       "       [-0.24315767],\n",
       "       [-0.36683987],\n",
       "       ...,\n",
       "       [-0.36683987],\n",
       "       [-0.36683987],\n",
       "       [-0.36683987]])"
      ]
     },
     "execution_count": 34,
     "metadata": {},
     "output_type": "execute_result"
    }
   ],
   "source": [
    "scaler = StandardScaler()\n",
    "normalized_balance = scaler.fit_transform(balance.values.reshape(-1, 1))#В numpy можно превратить массив в матрицу с помощью reshape().\n",
    "normalized_balance"
   ]
  },
  {
   "cell_type": "code",
   "execution_count": 46,
   "id": "a77b0450-ff7a-419c-a5df-6812bf33da9c",
   "metadata": {},
   "outputs": [
    {
     "data": {
      "text/plain": [
       "array([[ 0.13613],\n",
       "       [-0.24316],\n",
       "       [-0.36684],\n",
       "       ...,\n",
       "       [-0.36684],\n",
       "       [-0.36684],\n",
       "       [-0.36684]])"
      ]
     },
     "execution_count": 46,
     "metadata": {},
     "output_type": "execute_result"
    }
   ],
   "source": [
    "rounded_norm_balance = np.around(normalized_balance, decimals=5) \n",
    "rounded_norm_balance"
   ]
  },
  {
   "cell_type": "code",
   "execution_count": 47,
   "id": "42262f48-e180-4a0c-9597-ba96260ff320",
   "metadata": {},
   "outputs": [
    {
     "data": {
      "text/plain": [
       "-13.14733"
      ]
     },
     "execution_count": 47,
     "metadata": {},
     "output_type": "execute_result"
    }
   ],
   "source": [
    "rounded_norm_balance.min() #this is the correct answer"
   ]
  }
 ],
 "metadata": {
  "kernelspec": {
   "display_name": "Python 3 (ipykernel)",
   "language": "python",
   "name": "python3"
  },
  "language_info": {
   "codemirror_mode": {
    "name": "ipython",
    "version": 3
   },
   "file_extension": ".py",
   "mimetype": "text/x-python",
   "name": "python",
   "nbconvert_exporter": "python",
   "pygments_lexer": "ipython3",
   "version": "3.8.10"
  }
 },
 "nbformat": 4,
 "nbformat_minor": 5
}
