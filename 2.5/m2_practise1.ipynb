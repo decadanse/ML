{
 "cells": [
  {
   "cell_type": "code",
   "execution_count": 1,
   "id": "62e96947-7bda-40e8-8bee-bb9d591236ee",
   "metadata": {},
   "outputs": [],
   "source": [
    "import pandas as pd\n",
    "import numpy as np"
   ]
  },
  {
   "cell_type": "code",
   "execution_count": 3,
   "id": "4c900938-5814-4043-a3ee-20b27434336f",
   "metadata": {},
   "outputs": [],
   "source": [
    "test_data = pd.DataFrame([[1, 2, np.nan], [3, np.nan, 4],\n",
    "                          [0, 1, 2]], columns=['one', 'two', 'three'])\n"
   ]
  },
  {
   "cell_type": "code",
   "execution_count": 9,
   "id": "326a61af-6fa6-47b6-a177-ef85dd2f83d0",
   "metadata": {},
   "outputs": [
    {
     "data": {
      "text/html": [
       "<div>\n",
       "<style scoped>\n",
       "    .dataframe tbody tr th:only-of-type {\n",
       "        vertical-align: middle;\n",
       "    }\n",
       "\n",
       "    .dataframe tbody tr th {\n",
       "        vertical-align: top;\n",
       "    }\n",
       "\n",
       "    .dataframe thead th {\n",
       "        text-align: right;\n",
       "    }\n",
       "</style>\n",
       "<table border=\"1\" class=\"dataframe\">\n",
       "  <thead>\n",
       "    <tr style=\"text-align: right;\">\n",
       "      <th></th>\n",
       "      <th>one</th>\n",
       "      <th>two</th>\n",
       "      <th>three</th>\n",
       "    </tr>\n",
       "  </thead>\n",
       "  <tbody>\n",
       "    <tr>\n",
       "      <th>0</th>\n",
       "      <td>False</td>\n",
       "      <td>False</td>\n",
       "      <td>True</td>\n",
       "    </tr>\n",
       "    <tr>\n",
       "      <th>1</th>\n",
       "      <td>False</td>\n",
       "      <td>True</td>\n",
       "      <td>False</td>\n",
       "    </tr>\n",
       "    <tr>\n",
       "      <th>2</th>\n",
       "      <td>False</td>\n",
       "      <td>False</td>\n",
       "      <td>False</td>\n",
       "    </tr>\n",
       "  </tbody>\n",
       "</table>\n",
       "</div>"
      ],
      "text/plain": [
       "     one    two  three\n",
       "0  False  False   True\n",
       "1  False   True  False\n",
       "2  False  False  False"
      ]
     },
     "execution_count": 9,
     "metadata": {},
     "output_type": "execute_result"
    }
   ],
   "source": [
    "test_data.isna()"
   ]
  },
  {
   "cell_type": "code",
   "execution_count": 10,
   "id": "656b3a9f-17f2-4c10-a745-eda48a8ff572",
   "metadata": {},
   "outputs": [
    {
     "data": {
      "text/html": [
       "<div>\n",
       "<style scoped>\n",
       "    .dataframe tbody tr th:only-of-type {\n",
       "        vertical-align: middle;\n",
       "    }\n",
       "\n",
       "    .dataframe tbody tr th {\n",
       "        vertical-align: top;\n",
       "    }\n",
       "\n",
       "    .dataframe thead th {\n",
       "        text-align: right;\n",
       "    }\n",
       "</style>\n",
       "<table border=\"1\" class=\"dataframe\">\n",
       "  <thead>\n",
       "    <tr style=\"text-align: right;\">\n",
       "      <th></th>\n",
       "      <th>one</th>\n",
       "      <th>two</th>\n",
       "      <th>three</th>\n",
       "    </tr>\n",
       "  </thead>\n",
       "  <tbody>\n",
       "    <tr>\n",
       "      <th>0</th>\n",
       "      <td>1</td>\n",
       "      <td>2.0</td>\n",
       "      <td>-1.0</td>\n",
       "    </tr>\n",
       "    <tr>\n",
       "      <th>1</th>\n",
       "      <td>3</td>\n",
       "      <td>-1.0</td>\n",
       "      <td>4.0</td>\n",
       "    </tr>\n",
       "    <tr>\n",
       "      <th>2</th>\n",
       "      <td>0</td>\n",
       "      <td>1.0</td>\n",
       "      <td>2.0</td>\n",
       "    </tr>\n",
       "  </tbody>\n",
       "</table>\n",
       "</div>"
      ],
      "text/plain": [
       "   one  two  three\n",
       "0    1  2.0   -1.0\n",
       "1    3 -1.0    4.0\n",
       "2    0  1.0    2.0"
      ]
     },
     "execution_count": 10,
     "metadata": {},
     "output_type": "execute_result"
    }
   ],
   "source": [
    "#test_data.dropna(axis=0)\n",
    "test_data.fillna(-1)"
   ]
  },
  {
   "cell_type": "markdown",
   "id": "b5c6dec5-a0c8-40fb-b34d-1a50c309701d",
   "metadata": {
    "tags": []
   },
   "source": [
    "task 2.5.6                                          \n",
    "Загрузите данные train.csv, найдите признак, обозначающий штат. \n",
    "Затем найдите значение, которое встречается чаще всего. \n",
    "Замените пропуски этим значением и запишите получившийся признак в переменную result. "
   ]
  },
  {
   "cell_type": "code",
   "execution_count": 20,
   "id": "1f6b4ddb-30b9-4b3f-a3f9-5a38d982f053",
   "metadata": {},
   "outputs": [],
   "source": [
    "#task 2.5.6\n",
    "vis_data = pd.read_csv(\"train.csv\", encoding = 'ISO-8859-1', low_memory = False)\n",
    "# Напишите ваш код ниже"
   ]
  },
  {
   "cell_type": "code",
   "execution_count": 51,
   "id": "903adf90-7030-4564-8701-b8d664d99664",
   "metadata": {},
   "outputs": [
    {
     "data": {
      "text/plain": [
       "Index(['ticket_id', 'agency_name', 'inspector_name', 'violator_name',\n",
       "       'violation_street_number', 'violation_street_name',\n",
       "       'violation_zip_code', 'mailing_address_str_number',\n",
       "       'mailing_address_str_name', 'city', 'state', 'zip_code',\n",
       "       'non_us_str_code', 'country', 'ticket_issued_date', 'hearing_date',\n",
       "       'violation_code', 'violation_description', 'disposition', 'fine_amount',\n",
       "       'admin_fee', 'state_fee', 'late_fee', 'discount_amount',\n",
       "       'clean_up_cost', 'judgment_amount', 'payment_amount', 'balance_due',\n",
       "       'payment_date', 'payment_status', 'collection_status',\n",
       "       'grafitti_status', 'compliance_detail', 'compliance'],\n",
       "      dtype='object')"
      ]
     },
     "execution_count": 51,
     "metadata": {},
     "output_type": "execute_result"
    }
   ],
   "source": [
    "vis_data.columns#.isna()"
   ]
  },
  {
   "cell_type": "code",
   "execution_count": 53,
   "id": "a5bd31cd-da97-432e-9aed-6eb392afbedd",
   "metadata": {},
   "outputs": [
    {
     "data": {
      "text/plain": [
       "'MI'"
      ]
     },
     "execution_count": 53,
     "metadata": {},
     "output_type": "execute_result"
    }
   ],
   "source": [
    "main_state = vis_data['state'].mode()[0]\n",
    "main_state"
   ]
  },
  {
   "cell_type": "code",
   "execution_count": 54,
   "id": "08fa7ed8-1823-400a-a675-eef07b366a6e",
   "metadata": {},
   "outputs": [],
   "source": [
    "result = vis_data['state'].fillna(main_city)"
   ]
  },
  {
   "cell_type": "code",
   "execution_count": 55,
   "id": "b30f97fb-7b9c-47fa-9a20-a8116570e8ca",
   "metadata": {},
   "outputs": [
    {
     "data": {
      "text/plain": [
       "0         IL\n",
       "1         MI\n",
       "2         MI\n",
       "3         MI\n",
       "4         MI\n",
       "          ..\n",
       "250301    MI\n",
       "250302    MI\n",
       "250303    MI\n",
       "250304    MI\n",
       "250305    MI\n",
       "Name: state, Length: 250306, dtype: object"
      ]
     },
     "execution_count": 55,
     "metadata": {},
     "output_type": "execute_result"
    }
   ],
   "source": [
    "result #this is the correct answer"
   ]
  },
  {
   "cell_type": "code",
   "execution_count": 47,
   "id": "54d9a393-c33e-4275-87a4-ae2770a5a4af",
   "metadata": {},
   "outputs": [],
   "source": [
    "main_city = vis_data['state'].value_counts()"
   ]
  },
  {
   "cell_type": "code",
   "execution_count": 48,
   "id": "33c7c97a-f8d6-4ac1-b2be-7921fae0c70e",
   "metadata": {},
   "outputs": [
    {
     "data": {
      "text/plain": [
       "MI    228601\n",
       "CA      5020\n",
       "TX      2420\n",
       "FL      2237\n",
       "IL      1310\n",
       "SC      1304\n",
       "OH       967\n",
       "NY       673\n",
       "MN       632\n",
       "GA       535\n",
       "NV       484\n",
       "UT       477\n",
       "PA       466\n",
       "NJ       395\n",
       "VA       385\n",
       "NC       353\n",
       "MD       349\n",
       "AZ       329\n",
       "ME       261\n",
       "OK       248\n",
       "AL       215\n",
       "TN       207\n",
       "WA       192\n",
       "MA       182\n",
       "IA       159\n",
       "WI       159\n",
       "OR       153\n",
       "MO       151\n",
       "CO       147\n",
       "KY       146\n",
       "IN       106\n",
       "AR        82\n",
       "LA        81\n",
       "AK        79\n",
       "UK        77\n",
       "NB        77\n",
       "MS        64\n",
       "CT        60\n",
       "DC        58\n",
       "ON        51\n",
       "DE        50\n",
       "KS        37\n",
       "RI        35\n",
       "ID        33\n",
       "SD        33\n",
       "MT        28\n",
       "NM        21\n",
       "BC        17\n",
       "WY        12\n",
       "HI        10\n",
       "NH         9\n",
       "VT         7\n",
       "VI         6\n",
       "WV         6\n",
       "QC         5\n",
       "PR         5\n",
       "QL         3\n",
       "ND         2\n",
       "BL         2\n",
       "Name: state, dtype: int64"
      ]
     },
     "execution_count": 48,
     "metadata": {},
     "output_type": "execute_result"
    }
   ],
   "source": [
    "main_city"
   ]
  },
  {
   "cell_type": "code",
   "execution_count": null,
   "id": "a958bc4c-049e-4de1-9823-7929c80bfb69",
   "metadata": {},
   "outputs": [],
   "source": []
  }
 ],
 "metadata": {
  "kernelspec": {
   "display_name": "Python 3 (ipykernel)",
   "language": "python",
   "name": "python3"
  },
  "language_info": {
   "codemirror_mode": {
    "name": "ipython",
    "version": 3
   },
   "file_extension": ".py",
   "mimetype": "text/x-python",
   "name": "python",
   "nbconvert_exporter": "python",
   "pygments_lexer": "ipython3",
   "version": "3.8.10"
  }
 },
 "nbformat": 4,
 "nbformat_minor": 5
}
