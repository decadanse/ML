{
 "cells": [
  {
   "cell_type": "code",
   "execution_count": 205,
   "id": "edf18211-5e5a-41b8-8ae6-369ab3289d65",
   "metadata": {},
   "outputs": [
    {
     "name": "stdout",
     "output_type": "stream",
     "text": [
      "data.shape = (121674, 6)\n"
     ]
    }
   ],
   "source": [
    "import numpy as np, pandas as pd\n",
    "import matplotlib.pyplot as plt\n",
    "import plotly.graph_objects as go\n",
    "import time, datetime\n",
    "\n",
    "filePath = 'm8.10_EURUSD_1.csv'\n",
    "data = pd.read_csv(filePath)\n",
    "data['ts'] = pd.to_datetime(data.ts)\n",
    "print(f'data.shape = {data.shape}')\n",
    "\n",
    "data.head()\n",
    "\n",
    "df = data.copy()\n",
    "\n",
    "fig = go.Figure(data  = [go.Candlestick(\n",
    "            x=df['ts'],\n",
    "            open  = df['open'],\n",
    "            high  = df['high'],\n",
    "            low   = df['low'],\n",
    "            close = df['close']\n",
    "        )])\n",
    "\n",
    "#fig.show()"
   ]
  },
  {
   "cell_type": "markdown",
   "id": "ff5d9a4a-8f22-453d-96b0-d2718d52d469",
   "metadata": {
    "tags": []
   },
   "source": [
    "#### Задания 8.10.1 - 8.10.5\n",
    "\n",
    "Понизьте разрешение ряда с 1 минуты до 8 часов. Результат округлите до пятого знака после запятой.\n",
    "1. Агрегируйте цену open, взяв её медиану. \n",
    "Укажите результирующую цену open в момент времени 2017-01-02 16:00:00\n",
    "\n",
    "2. Агрегируйте цену close, взяв её среднее значение.\n",
    "Укажите результирующую цену сlose в момент времени 2017-01-02 16:00:00\n",
    "\n",
    "3. Агрегируйте цену high, взяв её максимальное значение.\n",
    "Укажите результирующую цену high в момент времени 2017-01-04 00:00:00\n",
    "\n",
    "4. Агрегируйте цену low, взяв её минимальное значение.\n",
    "Укажите результирующую цену low в момент времени 2017-01-04 00:00:00\n",
    "\n",
    "5. Агрегируйте объём сделок vol, взяв половину от суммы его медианного и среднего значений.\n",
    "Округлите значения до первого знака после запятой.\n",
    "Укажите результирующий объём в момент времени 2017-01-05 08:00:00"
   ]
  },
  {
   "cell_type": "code",
   "execution_count": 194,
   "id": "61c278eb-189a-48ac-b389-03e01ae2a221",
   "metadata": {
    "ExecuteTime": {
     "end_time": "2019-08-11T18:02:19.330763Z",
     "start_time": "2019-08-11T18:02:18.776244Z"
    },
    "tags": []
   },
   "outputs": [
    {
     "name": "stdout",
     "output_type": "stream",
     "text": [
      "len(df) = 121674\n",
      "len(df_resampled) = 1\n",
      "df_resampled price = 1    1.04649\n",
      "Name: open, dtype: float64\n"
     ]
    },
    {
     "data": {
      "text/html": [
       "<div>\n",
       "<style scoped>\n",
       "    .dataframe tbody tr th:only-of-type {\n",
       "        vertical-align: middle;\n",
       "    }\n",
       "\n",
       "    .dataframe tbody tr th {\n",
       "        vertical-align: top;\n",
       "    }\n",
       "\n",
       "    .dataframe thead th {\n",
       "        text-align: right;\n",
       "    }\n",
       "</style>\n",
       "<table border=\"1\" class=\"dataframe\">\n",
       "  <thead>\n",
       "    <tr style=\"text-align: right;\">\n",
       "      <th></th>\n",
       "      <th>ts</th>\n",
       "      <th>open</th>\n",
       "    </tr>\n",
       "  </thead>\n",
       "  <tbody>\n",
       "    <tr>\n",
       "      <th>1</th>\n",
       "      <td>2017-01-02 16:00:00</td>\n",
       "      <td>1.04649</td>\n",
       "    </tr>\n",
       "  </tbody>\n",
       "</table>\n",
       "</div>"
      ],
      "text/plain": [
       "                   ts     open\n",
       "1 2017-01-02 16:00:00  1.04649"
      ]
     },
     "execution_count": 194,
     "metadata": {},
     "output_type": "execute_result"
    }
   ],
   "source": [
    "#1 Агрегируйте цену open, взяв её медиану. Укажите результирующую цену open в момент времени 2017-01-02 16:00:00\n",
    "\n",
    "df1 = df[['ts', 'open']]\n",
    "conversion = {'open' : 'median'}\n",
    "\n",
    "## downsampling будем проводить по переменной времени - ts\n",
    "df1 = df1.set_index('ts')\n",
    "## уменьшаем частоту данных до 8 часа, аггрегируем данные, как описано выше\n",
    "df_resampled = df1.resample('8H').apply(conversion)\n",
    "## возвращаем время ts из индекса в отдельную колонку\n",
    "df1 = df1.reset_index()\n",
    "df_resampled = df_resampled.reset_index()\n",
    "\n",
    "df_resampleddd = df_resampled[df_resampled.ts == '2017-01-02 16:00:00']\n",
    "print(f'len(df) = {len(df1)}')\n",
    "print(f'len(df_resampled) = {len(df_resampleddd)}')\n",
    "print(f'df_resampled price = {df_resampleddd.open}')\n",
    "\n",
    "df_resampleddd.head()\n",
    "# 1.04649 is correct"
   ]
  },
  {
   "cell_type": "code",
   "execution_count": 195,
   "id": "0c3ee99e-5e82-4f2a-8dce-c0668f7fee17",
   "metadata": {},
   "outputs": [
    {
     "name": "stdout",
     "output_type": "stream",
     "text": [
      "len(df_resampled) = 1\n",
      "df_resampled price = 1    1.046375\n",
      "Name: close, dtype: float64\n"
     ]
    }
   ],
   "source": [
    "#2 Агрегируйте цену close, взяв её среднее значение. Укажите результирующую цену сlose в момент времени 2017-01-02 16:00:00\n",
    "\n",
    "df2 = df[['ts', 'close']]\n",
    "conversion = {'close' : 'mean'}\n",
    "\n",
    "## downsampling будем проводить по переменной времени - ts\n",
    "df2 = df2.set_index('ts')\n",
    "## уменьшаем частоту данных до 8 часа, аггрегируем данные, как описано выше\n",
    "df_resampled = df2.resample('8H').apply(conversion)\n",
    "## возвращаем время ts из индекса в отдельную колонку\n",
    "df2 = df2.reset_index()\n",
    "df_resampled = df_resampled.reset_index()\n",
    "\n",
    "df_resampleddd = df_resampled[df_resampled.ts == '2017-01-02 16:00:00']\n",
    "print(f'len(df_resampled) = {len(df_resampleddd)}')\n",
    "print(f'df_resampled price = {df_resampleddd.close}')\n",
    "# 1.046375 is correct"
   ]
  },
  {
   "cell_type": "code",
   "execution_count": 196,
   "id": "08cfef3b-ba86-4c8d-afda-b63b9349a9ba",
   "metadata": {},
   "outputs": [
    {
     "name": "stdout",
     "output_type": "stream",
     "text": [
      "df_resampled price = ts      2017-01-04 00:00:00\n",
      "high                1.04236\n",
      "dtype: object\n"
     ]
    }
   ],
   "source": [
    "#3 Агрегируйте цену high, взяв её максимальное значение. Укажите результирующую цену high в момент времени 2017-01-04 00:00:00\n",
    "\n",
    "df3 = df[['ts', 'high']]\n",
    "conversion = {'high' : 'max'}\n",
    "\n",
    "## downsampling будем проводить по переменной времени - ts\n",
    "df3 = df3.set_index('ts')\n",
    "## уменьшаем частоту данных до 8 часа, аггрегируем данные, как описано выше\n",
    "df_resampled = df3.resample('8H').apply(conversion)\n",
    "## возвращаем время ts из индекса в отдельную колонку\n",
    "df3 = df3.reset_index()\n",
    "df_resampled = df_resampled.reset_index()\n",
    "\n",
    "df_resampleddd = df_resampled[df_resampled.ts == '2017-01-04 00:00:00']\n",
    "print(f'df_resampled price = {df_resampleddd.max()}')\n",
    "# 1.04236 is correct"
   ]
  },
  {
   "cell_type": "code",
   "execution_count": 197,
   "id": "b35b7913-6c1f-4047-978b-a6002395fa44",
   "metadata": {},
   "outputs": [
    {
     "name": "stdout",
     "output_type": "stream",
     "text": [
      "df_resampled price = ts     2017-01-04 00:00:00\n",
      "low                1.03898\n",
      "dtype: object\n"
     ]
    }
   ],
   "source": [
    "#4 Агрегируйте цену low, взяв её минимальное значение. Укажите результирующую цену low в момент времени 2017-01-04 00:00:00\n",
    "\n",
    "df4 = df[['ts', 'low']]\n",
    "conversion = {'low' : 'min'}\n",
    "\n",
    "## downsampling будем проводить по переменной времени - ts\n",
    "df4 = df4.set_index('ts')\n",
    "## уменьшаем частоту данных до 8 часа, аггрегируем данные, как описано выше\n",
    "df_resampled = df4.resample('8H').apply(conversion)\n",
    "## возвращаем время ts из индекса в отдельную колонку\n",
    "df4 = df4.reset_index()\n",
    "df_resampled = df_resampled.reset_index()\n",
    "\n",
    "df_resampleddd = df_resampled[df_resampled.ts == '2017-01-04 00:00:00']\n",
    "print(f'df_resampled price = {df_resampleddd.min()}')\n",
    "# 1.03898 is correct"
   ]
  },
  {
   "cell_type": "code",
   "execution_count": 198,
   "id": "6047bc35-27a2-4c50-a485-65cb25a89b9d",
   "metadata": {},
   "outputs": [],
   "source": [
    "#5\n",
    "def myFunc(value):\n",
    "    return np.round((np.median(value)+np.mean(value)) / 2, 1)"
   ]
  },
  {
   "cell_type": "code",
   "execution_count": 199,
   "id": "8d97922d-8441-42e6-ad47-645c8e341c69",
   "metadata": {},
   "outputs": [
    {
     "name": "stdout",
     "output_type": "stream",
     "text": [
      "df_resampled price = 9    481.3\n",
      "Name: vol, dtype: float64\n"
     ]
    },
    {
     "name": "stderr",
     "output_type": "stream",
     "text": [
      "/home/dex/.local/lib/python3.8/site-packages/numpy/core/fromnumeric.py:3372: RuntimeWarning:\n",
      "\n",
      "Mean of empty slice.\n",
      "\n",
      "/home/dex/.local/lib/python3.8/site-packages/numpy/core/_methods.py:170: RuntimeWarning:\n",
      "\n",
      "invalid value encountered in double_scalars\n",
      "\n"
     ]
    },
    {
     "data": {
      "text/html": [
       "<div>\n",
       "<style scoped>\n",
       "    .dataframe tbody tr th:only-of-type {\n",
       "        vertical-align: middle;\n",
       "    }\n",
       "\n",
       "    .dataframe tbody tr th {\n",
       "        vertical-align: top;\n",
       "    }\n",
       "\n",
       "    .dataframe thead th {\n",
       "        text-align: right;\n",
       "    }\n",
       "</style>\n",
       "<table border=\"1\" class=\"dataframe\">\n",
       "  <thead>\n",
       "    <tr style=\"text-align: right;\">\n",
       "      <th></th>\n",
       "      <th>ts</th>\n",
       "      <th>vol</th>\n",
       "    </tr>\n",
       "  </thead>\n",
       "  <tbody>\n",
       "    <tr>\n",
       "      <th>9</th>\n",
       "      <td>2017-01-05 08:00:00</td>\n",
       "      <td>481.3</td>\n",
       "    </tr>\n",
       "  </tbody>\n",
       "</table>\n",
       "</div>"
      ],
      "text/plain": [
       "                   ts    vol\n",
       "9 2017-01-05 08:00:00  481.3"
      ]
     },
     "execution_count": 199,
     "metadata": {},
     "output_type": "execute_result"
    }
   ],
   "source": [
    "#5 Агрегируйте объём сделок vol, взяв половину от суммы его медианного и среднего значений. Округлите значения до первого знака после запятой. Укажите результирующий объём в момент времени 2017-01-05 08:00:00\n",
    "\n",
    "df5 = df[['ts', 'vol']]\n",
    "conversion = {'vol' : myFunc}\n",
    "\n",
    "## downsampling будем проводить по переменной времени - ts\n",
    "df5 = df5.set_index('ts')\n",
    "## уменьшаем частоту данных до 8 часа, аггрегируем данные, как описано выше\n",
    "df_resampled = df5.resample('8H').apply(conversion)\n",
    "## возвращаем время ts из индекса в отдельную колонку\n",
    "df5 = df5.reset_index()\n",
    "df_resampled = df_resampled.reset_index()\n",
    "\n",
    "df_resampleddd = df_resampled[df_resampled.ts == '2017-01-05 08:00:00']\n",
    "\n",
    "print(f'df_resampled price = {df_resampleddd.vol}')\n",
    "df_resampleddd.head()\n",
    "# 481.3 is correct"
   ]
  },
  {
   "cell_type": "markdown",
   "id": "cab37a22-4929-4d33-abdd-0b2c3ee68d53",
   "metadata": {
    "tags": []
   },
   "source": [
    "#### 8.10.6 - 8.10.8\n",
    "\n",
    "Отфильтруйте ряд, оставив в нём лишь цены до 2017-01-03 00:00:00 включительно.\n",
    "\n",
    "Используя те же агрегирующие функции, при помощи функции resample повысьте разрешение отфильтрованного ряда до 10 секунд.\n",
    "\n",
    "6. Укажите количество отсутствующих данных в колонке open.\n",
    "\n",
    "7. Используя метод pandas.Series.interpolate, линейно проинтерполируйте колонку цен открытия — open.\n",
    "Укажите значение цены открытия в момент времени 2017-01-02 09:00:40, результат округлите до шестого знака после запятой.\n",
    "\n",
    "8. Аналогично проинтерполируйте колонку цен закрытия — close. В качестве метода интерполяции используйте nearest.\n",
    "Укажите значение цены закрытия в момент времени 2017-01-02 09:00:40. Результат округлите до пятого знака после запятой."
   ]
  },
  {
   "cell_type": "code",
   "execution_count": 128,
   "id": "97ab734d-63bf-4dec-911c-433f8abe74d4",
   "metadata": {
    "ExecuteTime": {
     "end_time": "2019-08-11T18:02:19.330763Z",
     "start_time": "2019-08-11T18:02:18.776244Z"
    },
    "tags": []
   },
   "outputs": [
    {
     "name": "stdout",
     "output_type": "stream",
     "text": [
      "nans_how_much = 4508\n"
     ]
    }
   ],
   "source": [
    "#6 Укажите количество отсутствующих данных в колонке open.\n",
    "\n",
    "df6 = df[['ts', 'open']]\n",
    "conversion = {'open' : 'mean'}\n",
    "\n",
    "## downsampling будем проводить по переменной времени - ts\n",
    "df6 = df6.set_index('ts')\n",
    "## повышаем частоту данных до 10 секунд, аггрегируем данные, как описано выше\n",
    "df_resampled = df6.resample('10S').apply(conversion)\n",
    "## возвращаем время ts из индекса в отдельную колонку\n",
    "df6 = df6.reset_index()\n",
    "df_resampled = df_resampled.reset_index()\n",
    "\n",
    "df_resampleddd = df_resampled[df_resampled.ts <= '2017-01-03']\n",
    "nans_how_much = df_resampleddd['open'].isna().sum()\n",
    "print(f'nans_how_much = {nans_how_much}')\n",
    "# 4508 is correct"
   ]
  },
  {
   "cell_type": "code",
   "execution_count": 134,
   "id": "f6622aa1-47be-4c9c-a25a-daf8881a1c13",
   "metadata": {},
   "outputs": [],
   "source": [
    "def myFunc2(value):\n",
    "    return np.round(value.interpolate(), 6)"
   ]
  },
  {
   "cell_type": "code",
   "execution_count": 209,
   "id": "2e5fd873-25a4-4908-bf21-d22ef832ba97",
   "metadata": {},
   "outputs": [
    {
     "data": {
      "text/plain": [
       "1.051683"
      ]
     },
     "execution_count": 211,
     "metadata": {},
     "output_type": "execute_result"
    }
   ],
   "source": [
    "#7 Используя метод pandas.Series.interpolate, линейно проинтерполируйте колонку цен открытия — open. \n",
    "#Укажите значение цены открытия в момент времени 2017-01-02 09:00:40, результат округлите до шестого знака после запятой.\n",
    "\n",
    "df7 = df[['ts', 'open']]\n",
    "\n",
    "conversion = {\n",
    "    'open': 'median',\n",
    "    'close': 'mean',\n",
    "    'high': 'max',\n",
    "    'low': 'min',\n",
    "}\n",
    "\n",
    "df_10s_agg = df8[df8.index <= '2017-01-03'].resample('10s').apply(conversion)\n",
    "res8 = df_10s_agg.open.interpolate()['2017-01-02 09:00:40']\n",
    "np.round(res8, 6)\n",
    "# 1.051683 is correct"
   ]
  },
  {
   "cell_type": "code",
   "execution_count": 208,
   "id": "d780a360-5df7-448d-8f0a-329004a75e69",
   "metadata": {},
   "outputs": [
    {
     "data": {
      "text/plain": [
       "1.05168"
      ]
     },
     "execution_count": 208,
     "metadata": {},
     "output_type": "execute_result"
    }
   ],
   "source": [
    "#8 Аналогично проинтерполируйте колонку цен закрытия — close. В качестве метода интерполяции используйте nearest.\n",
    "#Укажите значение цены закрытия в момент времени 2017-01-02 09:00:40. Результат округлите до пятого знака после запятой.\n",
    "df8 = df.set_index('ts')\n",
    "\n",
    "conversion = {\n",
    "    'open': 'median',\n",
    "    'close': 'mean',\n",
    "    'high': 'max',\n",
    "    'low': 'min',\n",
    "}\n",
    "\n",
    "df_10s_agg = df8[df8.index <= '2017-01-03'].resample('10s').apply(conversion)\n",
    "res8 = df_10s_agg.close.interpolate(method='nearest')['2017-01-02 09:00:40']\n",
    "np.round(res8, 5)\n",
    "# 1.05168 is correct"
   ]
  },
  {
   "cell_type": "code",
   "execution_count": null,
   "id": "ce2c68b7-f227-42b2-a36a-a2e9f53e4ecb",
   "metadata": {},
   "outputs": [],
   "source": []
  },
  {
   "cell_type": "code",
   "execution_count": null,
   "id": "f585c83f-923c-414c-8036-e5a7a53e871f",
   "metadata": {
    "tags": []
   },
   "outputs": [],
   "source": [
    "#Запустите следующий код:\n",
    "\n",
    "df = data.copy()\n",
    "df = df[(df.ts >= '2017-01-05 12:00:00') & (df.ts <= '2017-01-05 13:00:00')]\n",
    "df['unixtime'] = df.ts.astype(np.int64)\n",
    "\n",
    "fig = go.Figure(data  = [go.Candlestick(\n",
    "            x=df['ts'],\n",
    "            open  = df['open'],\n",
    "            high  = df['high'],\n",
    "            low   = df['low'],\n",
    "            close = df['close']\n",
    "        )])\n",
    "\n",
    "# fig.show()\n",
    "\n",
    "# df.head()"
   ]
  },
  {
   "cell_type": "markdown",
   "id": "d8dcf1b5-af07-4edf-8e61-3efc5e3a4e27",
   "metadata": {},
   "source": [
    "#### Задание 8.10.9\n",
    "\n",
    "При помощи функции np.linspace создайте сетку, состоящую из 135 точек во времени (используя колонку unixtime). После чего, используя функцию np.interp, проинтерполируйте значения колонки close на созданной сетке.\n",
    "\n",
    "Укажите среднее значение интерполированного ряда, округлив его до шестого знака после запятой."
   ]
  },
  {
   "cell_type": "code",
   "execution_count": null,
   "id": "3eabe5df-8f3f-4527-b72b-b1ede3172941",
   "metadata": {},
   "outputs": [],
   "source": []
  },
  {
   "cell_type": "code",
   "execution_count": null,
   "id": "c91fdd4c-e4ca-4945-ba30-71607ef8b803",
   "metadata": {},
   "outputs": [],
   "source": [
    "df['unixtime'] = df.ts\n",
    "## преобразуем юниксовое время в таймстемп\n",
    "df['ts'] = pd.to_datetime(df.ts)\n",
    "## возьмём только первый час данных (60 минут)\n",
    "df = df.iloc[:60]\n",
    "\n",
    "\n",
    "## cделаем интерполяционную сетку, 135 значений\n",
    "## np.interp не умеет работать с таймстемпами, поэтому будем использовать\n",
    "## юниксовое время, являющееся просто int\n",
    "ti = np.linspace(df.unixtime.min(), df.unixtime.max(), 135)\n",
    "## интерполируем\n",
    "upsampled = np.interp(ti, df.unixtime, df.close)\n",
    "## переведём интерполяционную сетку в таймстемп\n",
    "ts = pd.to_datetime(ti)\n",
    "\n",
    "np.round(ts.mean(), 6)"
   ]
  },
  {
   "cell_type": "code",
   "execution_count": null,
   "id": "06fd7ad7-822b-448a-bb65-aa37ee5f4cfd",
   "metadata": {},
   "outputs": [],
   "source": []
  }
 ],
 "metadata": {
  "kernelspec": {
   "display_name": "Python 3 (ipykernel)",
   "language": "python",
   "name": "python3"
  },
  "language_info": {
   "codemirror_mode": {
    "name": "ipython",
    "version": 3
   },
   "file_extension": ".py",
   "mimetype": "text/x-python",
   "name": "python",
   "nbconvert_exporter": "python",
   "pygments_lexer": "ipython3",
   "version": "3.8.10"
  }
 },
 "nbformat": 4,
 "nbformat_minor": 5
}
