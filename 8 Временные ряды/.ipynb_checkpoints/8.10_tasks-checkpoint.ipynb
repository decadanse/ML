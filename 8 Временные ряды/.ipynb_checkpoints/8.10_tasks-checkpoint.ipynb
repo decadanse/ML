{
 "cells": [
  {
   "cell_type": "code",
   "execution_count": 79,
   "id": "edf18211-5e5a-41b8-8ae6-369ab3289d65",
   "metadata": {},
   "outputs": [
    {
     "name": "stdout",
     "output_type": "stream",
     "text": [
      "data.shape = (121674, 6)\n"
     ]
    }
   ],
   "source": [
    "import numpy as np, pandas as pd\n",
    "import matplotlib.pyplot as plt\n",
    "import plotly.graph_objects as go\n",
    "import time, datetime\n",
    "\n",
    "filePath = 'm8.10_EURUSD_1.csv'\n",
    "data = pd.read_csv(filePath)\n",
    "data['ts'] = pd.to_datetime(data.ts)\n",
    "print(f'data.shape = {data.shape}')\n",
    "\n",
    "data.head()\n",
    "\n",
    "df = data.copy()\n",
    "\n",
    "fig = go.Figure(data  = [go.Candlestick(\n",
    "            x=df['ts'],\n",
    "            open  = df['open'],\n",
    "            high  = df['high'],\n",
    "            low   = df['low'],\n",
    "            close = df['close']\n",
    "        )])\n",
    "\n",
    "#fig.show()"
   ]
  },
  {
   "cell_type": "markdown",
   "id": "ff5d9a4a-8f22-453d-96b0-d2718d52d469",
   "metadata": {
    "tags": []
   },
   "source": [
    "#### Задания 8.10.1 - 8.10.5\n",
    "\n",
    "Понизьте разрешение ряда с 1 минуты до 8 часов. Результат округлите до пятого знака после запятой.\n",
    "1. Агрегируйте цену open, взяв её медиану. \n",
    "Укажите результирующую цену open в момент времени 2017-01-02 16:00:00\n",
    "\n",
    "2. Агрегируйте цену close, взяв её среднее значение.\n",
    "Укажите результирующую цену сlose в момент времени 2017-01-02 16:00:00\n",
    "\n",
    "3. Агрегируйте цену high, взяв её максимальное значение.\n",
    "Укажите результирующую цену high в момент времени 2017-01-04 00:00:00\n",
    "\n",
    "4. Агрегируйте цену low, взяв её минимальное значение.\n",
    "Укажите результирующую цену low в момент времени 2017-01-04 00:00:00\n",
    "\n",
    "5. Агрегируйте объём сделок vol, взяв половину от суммы его медианного и среднего значений.\n",
    "Округлите значения до первого знака после запятой.\n",
    "Укажите результирующий объём в момент времени 2017-01-05 08:00:00"
   ]
  },
  {
   "cell_type": "code",
   "execution_count": 84,
   "id": "61c278eb-189a-48ac-b389-03e01ae2a221",
   "metadata": {
    "ExecuteTime": {
     "end_time": "2019-08-11T18:02:19.330763Z",
     "start_time": "2019-08-11T18:02:18.776244Z"
    },
    "tags": []
   },
   "outputs": [
    {
     "name": "stdout",
     "output_type": "stream",
     "text": [
      "len(df) = 121674\n",
      "len(df_resampled) = 1\n",
      "df_resampled price = 1    1.04649\n",
      "Name: open, dtype: float64\n"
     ]
    },
    {
     "data": {
      "text/html": [
       "<div>\n",
       "<style scoped>\n",
       "    .dataframe tbody tr th:only-of-type {\n",
       "        vertical-align: middle;\n",
       "    }\n",
       "\n",
       "    .dataframe tbody tr th {\n",
       "        vertical-align: top;\n",
       "    }\n",
       "\n",
       "    .dataframe thead th {\n",
       "        text-align: right;\n",
       "    }\n",
       "</style>\n",
       "<table border=\"1\" class=\"dataframe\">\n",
       "  <thead>\n",
       "    <tr style=\"text-align: right;\">\n",
       "      <th></th>\n",
       "      <th>ts</th>\n",
       "      <th>open</th>\n",
       "    </tr>\n",
       "  </thead>\n",
       "  <tbody>\n",
       "    <tr>\n",
       "      <th>1</th>\n",
       "      <td>2017-01-02 16:00:00</td>\n",
       "      <td>1.04649</td>\n",
       "    </tr>\n",
       "  </tbody>\n",
       "</table>\n",
       "</div>"
      ],
      "text/plain": [
       "                   ts     open\n",
       "1 2017-01-02 16:00:00  1.04649"
      ]
     },
     "execution_count": 84,
     "metadata": {},
     "output_type": "execute_result"
    }
   ],
   "source": [
    "#1 Агрегируйте цену open, взяв её медиану. Укажите результирующую цену open в момент времени 2017-01-02 16:00:00\n",
    "data['ts'] = pd.to_datetime(data.ts)\n",
    "\n",
    "df1 = df[['ts', 'open']]\n",
    "conversion = {'open' : 'median'}\n",
    "\n",
    "## downsampling будем проводить по переменной времени - ts\n",
    "df1 = df1.set_index('ts')\n",
    "## уменьшаем частоту данных до 8 часа, аггрегируем данные, как описано выше\n",
    "df_resampled = df1.resample('8H').apply(conversion)\n",
    "## возвращаем время ts из индекса в отдельную колонку\n",
    "df1 = df1.reset_index()\n",
    "df_resampled = df_resampled.reset_index()\n",
    "\n",
    "df_resampleddd = df_resampled[df_resampled.ts == '2017-01-02 16:00:00']\n",
    "print(f'len(df) = {len(df1)}')\n",
    "print(f'len(df_resampled) = {len(df_resampleddd)}')\n",
    "print(f'df_resampled price = {df_resampleddd.open}')\n",
    "\n",
    "df_resampleddd.head()\n",
    "# 1.04649 is correct"
   ]
  },
  {
   "cell_type": "code",
   "execution_count": 85,
   "id": "0c3ee99e-5e82-4f2a-8dce-c0668f7fee17",
   "metadata": {},
   "outputs": [
    {
     "name": "stdout",
     "output_type": "stream",
     "text": [
      "len(df_resampled) = 1\n",
      "df_resampled price = 1    1.046375\n",
      "Name: close, dtype: float64\n"
     ]
    }
   ],
   "source": [
    "#2 Агрегируйте цену close, взяв её среднее значение. Укажите результирующую цену сlose в момент времени 2017-01-02 16:00:00\n",
    "data['ts'] = pd.to_datetime(data.ts)\n",
    "\n",
    "df2 = df[['ts', 'close']]\n",
    "conversion = {'close' : 'mean'}\n",
    "\n",
    "## downsampling будем проводить по переменной времени - ts\n",
    "df2 = df2.set_index('ts')\n",
    "## уменьшаем частоту данных до 8 часа, аггрегируем данные, как описано выше\n",
    "df_resampled = df2.resample('8H').apply(conversion)\n",
    "## возвращаем время ts из индекса в отдельную колонку\n",
    "df2 = df2.reset_index()\n",
    "df_resampled = df_resampled.reset_index()\n",
    "\n",
    "df_resampleddd = df_resampled[df_resampled.ts == '2017-01-02 16:00:00']\n",
    "print(f'len(df_resampled) = {len(df_resampleddd)}')\n",
    "print(f'df_resampled price = {df_resampleddd.close}')\n",
    "# 1.046375 is correct"
   ]
  },
  {
   "cell_type": "code",
   "execution_count": 87,
   "id": "08cfef3b-ba86-4c8d-afda-b63b9349a9ba",
   "metadata": {},
   "outputs": [
    {
     "name": "stdout",
     "output_type": "stream",
     "text": [
      "df_resampled price = ts      2017-01-04 00:00:00\n",
      "high                1.04236\n",
      "dtype: object\n"
     ]
    }
   ],
   "source": [
    "#3 Агрегируйте цену high, взяв её максимальное значение. Укажите результирующую цену high в момент времени 2017-01-04 00:00:00\n",
    "data['ts'] = pd.to_datetime(data.ts)\n",
    "\n",
    "df3 = df[['ts', 'high']]\n",
    "conversion = {'high' : 'max'}\n",
    "\n",
    "## downsampling будем проводить по переменной времени - ts\n",
    "df3 = df3.set_index('ts')\n",
    "## уменьшаем частоту данных до 8 часа, аггрегируем данные, как описано выше\n",
    "df_resampled = df3.resample('8H').apply(conversion)\n",
    "## возвращаем время ts из индекса в отдельную колонку\n",
    "df3 = df3.reset_index()\n",
    "df_resampled = df_resampled.reset_index()\n",
    "\n",
    "df_resampleddd = df_resampled[df_resampled.ts == '2017-01-04 00:00:00']\n",
    "print(f'df_resampled price = {df_resampleddd.max()}')\n",
    "# 1.04236 is correct"
   ]
  },
  {
   "cell_type": "code",
   "execution_count": 91,
   "id": "b35b7913-6c1f-4047-978b-a6002395fa44",
   "metadata": {},
   "outputs": [
    {
     "name": "stdout",
     "output_type": "stream",
     "text": [
      "df_resampled price = ts     2017-01-04 00:00:00\n",
      "low                1.03898\n",
      "dtype: object\n"
     ]
    }
   ],
   "source": [
    "#4 Агрегируйте цену low, взяв её минимальное значение. Укажите результирующую цену low в момент времени 2017-01-04 00:00:00\n",
    "data['ts'] = pd.to_datetime(data.ts)\n",
    "\n",
    "df4 = df[['ts', 'low']]\n",
    "conversion = {'low' : 'min'}\n",
    "\n",
    "## downsampling будем проводить по переменной времени - ts\n",
    "df4 = df4.set_index('ts')\n",
    "## уменьшаем частоту данных до 8 часа, аггрегируем данные, как описано выше\n",
    "df_resampled = df4.resample('8H').apply(conversion)\n",
    "## возвращаем время ts из индекса в отдельную колонку\n",
    "df4 = df4.reset_index()\n",
    "df_resampled = df_resampled.reset_index()\n",
    "\n",
    "df_resampleddd = df_resampled[df_resampled.ts == '2017-01-04 00:00:00']\n",
    "print(f'df_resampled price = {df_resampleddd.min()}')\n",
    "# 1.03898 is correct"
   ]
  },
  {
   "cell_type": "code",
   "execution_count": 102,
   "id": "6047bc35-27a2-4c50-a485-65cb25a89b9d",
   "metadata": {},
   "outputs": [],
   "source": [
    "#5\n",
    "def myFunc(value):\n",
    "    return np.round((np.median(value)+np.mean(value)) / 2, 1)"
   ]
  },
  {
   "cell_type": "code",
   "execution_count": 112,
   "id": "8d97922d-8441-42e6-ad47-645c8e341c69",
   "metadata": {},
   "outputs": [
    {
     "name": "stdout",
     "output_type": "stream",
     "text": [
      "df_resampled price = 9    481.3\n",
      "Name: vol, dtype: float64\n"
     ]
    },
    {
     "name": "stderr",
     "output_type": "stream",
     "text": [
      "/home/dex/.local/lib/python3.8/site-packages/numpy/core/fromnumeric.py:3372: RuntimeWarning:\n",
      "\n",
      "Mean of empty slice.\n",
      "\n",
      "/home/dex/.local/lib/python3.8/site-packages/numpy/core/_methods.py:170: RuntimeWarning:\n",
      "\n",
      "invalid value encountered in double_scalars\n",
      "\n"
     ]
    },
    {
     "data": {
      "text/html": [
       "<div>\n",
       "<style scoped>\n",
       "    .dataframe tbody tr th:only-of-type {\n",
       "        vertical-align: middle;\n",
       "    }\n",
       "\n",
       "    .dataframe tbody tr th {\n",
       "        vertical-align: top;\n",
       "    }\n",
       "\n",
       "    .dataframe thead th {\n",
       "        text-align: right;\n",
       "    }\n",
       "</style>\n",
       "<table border=\"1\" class=\"dataframe\">\n",
       "  <thead>\n",
       "    <tr style=\"text-align: right;\">\n",
       "      <th></th>\n",
       "      <th>ts</th>\n",
       "      <th>vol</th>\n",
       "    </tr>\n",
       "  </thead>\n",
       "  <tbody>\n",
       "    <tr>\n",
       "      <th>9</th>\n",
       "      <td>2017-01-05 08:00:00</td>\n",
       "      <td>481.3</td>\n",
       "    </tr>\n",
       "  </tbody>\n",
       "</table>\n",
       "</div>"
      ],
      "text/plain": [
       "                   ts    vol\n",
       "9 2017-01-05 08:00:00  481.3"
      ]
     },
     "execution_count": 112,
     "metadata": {},
     "output_type": "execute_result"
    }
   ],
   "source": [
    "#5 Агрегируйте объём сделок vol, взяв половину от суммы его медианного и среднего значений. Округлите значения до первого знака после запятой. Укажите результирующий объём в момент времени 2017-01-05 08:00:00\n",
    "data['ts'] = pd.to_datetime(data.ts)\n",
    "\n",
    "df5 = df[['ts', 'vol']]\n",
    "conversion = {'vol' : myFunc}\n",
    "\n",
    "## downsampling будем проводить по переменной времени - ts\n",
    "df5 = df5.set_index('ts')\n",
    "## уменьшаем частоту данных до 8 часа, аггрегируем данные, как описано выше\n",
    "df_resampled = df5.resample('8H').apply(conversion)\n",
    "## возвращаем время ts из индекса в отдельную колонку\n",
    "df5 = df5.reset_index()\n",
    "df_resampled = df_resampled.reset_index()\n",
    "\n",
    "df_resampleddd = df_resampled[df_resampled.ts == '2017-01-05 08:00:00']\n",
    "\n",
    "print(f'df_resampled price = {df_resampleddd.vol}')\n",
    "df_resampleddd.head()\n",
    "# 481.3 is correct"
   ]
  },
  {
   "cell_type": "markdown",
   "id": "cab37a22-4929-4d33-abdd-0b2c3ee68d53",
   "metadata": {
    "jp-MarkdownHeadingCollapsed": true,
    "tags": []
   },
   "source": [
    "#### 8.10.6 - 8.10.8\n",
    "\n",
    "Отфильтруйте ряд, оставив в нём лишь цены до 2017-01-03 00:00:00 включительно.\n",
    "\n",
    "Используя те же агрегирующие функции, при помощи функции resample повысьте разрешение отфильтрованного ряда до 10 секунд.\n",
    "\n",
    "6. Укажите количество отсутствующих данных в колонке open.\n",
    "\n",
    "7. Используя метод pandas.Series.interpolate, линейно проинтерполируйте колонку цен открытия — open.\n",
    "Укажите значение цены открытия в момент времени 2017-01-02 09:00:40, результат округлите до шестого знака после запятой.\n",
    "\n",
    "8. Аналогично проинтерполируйте колонку цен закрытия — close. В качестве метода интерполяции используйте nearest.\n",
    "Укажите значение цены закрытия в момент времени 2017-01-02 09:00:40. Результат округлите до пятого знака после запятой."
   ]
  },
  {
   "cell_type": "code",
   "execution_count": 84,
   "id": "97ab734d-63bf-4dec-911c-433f8abe74d4",
   "metadata": {
    "ExecuteTime": {
     "end_time": "2019-08-11T18:02:19.330763Z",
     "start_time": "2019-08-11T18:02:18.776244Z"
    },
    "tags": []
   },
   "outputs": [
    {
     "name": "stdout",
     "output_type": "stream",
     "text": [
      "len(df) = 121674\n",
      "len(df_resampled) = 1\n",
      "df_resampled price = 1    1.04649\n",
      "Name: open, dtype: float64\n"
     ]
    },
    {
     "data": {
      "text/html": [
       "<div>\n",
       "<style scoped>\n",
       "    .dataframe tbody tr th:only-of-type {\n",
       "        vertical-align: middle;\n",
       "    }\n",
       "\n",
       "    .dataframe tbody tr th {\n",
       "        vertical-align: top;\n",
       "    }\n",
       "\n",
       "    .dataframe thead th {\n",
       "        text-align: right;\n",
       "    }\n",
       "</style>\n",
       "<table border=\"1\" class=\"dataframe\">\n",
       "  <thead>\n",
       "    <tr style=\"text-align: right;\">\n",
       "      <th></th>\n",
       "      <th>ts</th>\n",
       "      <th>open</th>\n",
       "    </tr>\n",
       "  </thead>\n",
       "  <tbody>\n",
       "    <tr>\n",
       "      <th>1</th>\n",
       "      <td>2017-01-02 16:00:00</td>\n",
       "      <td>1.04649</td>\n",
       "    </tr>\n",
       "  </tbody>\n",
       "</table>\n",
       "</div>"
      ],
      "text/plain": [
       "                   ts     open\n",
       "1 2017-01-02 16:00:00  1.04649"
      ]
     },
     "execution_count": 84,
     "metadata": {},
     "output_type": "execute_result"
    }
   ],
   "source": [
    "#6 Укажите количество отсутствующих данных в колонке open.\n",
    "data['ts'] = pd.to_datetime(data.ts)\n",
    "\n",
    "df6 = df[['ts', 'open']]\n",
    "conversion = {'open' : 'median'}\n",
    "\n",
    "## downsampling будем проводить по переменной времени - ts\n",
    "df6 = df6.set_index('ts')\n",
    "## уменьшаем частоту данных до 8 часа, аггрегируем данные, как описано выше\n",
    "df_resampled = df6.resample('8H').apply(conversion)\n",
    "## возвращаем время ts из индекса в отдельную колонку\n",
    "df6 = df6.reset_index()\n",
    "df_resampled = df_resampled.reset_index()\n",
    "\n",
    "df_resampleddd = df_resampled[df_resampled.ts <= '2017-01-03']\n",
    "print(f'len(df) = {len(df1)}')\n",
    "print(f'len(df_resampled) = {len(df_resampleddd)}')\n",
    "print(f'df_resampled price = {df_resampleddd.open}')\n",
    "\n",
    "df_resampleddd.head()\n",
    "# 1.04649 is correct"
   ]
  },
  {
   "cell_type": "code",
   "execution_count": null,
   "id": "2e5fd873-25a4-4908-bf21-d22ef832ba97",
   "metadata": {},
   "outputs": [],
   "source": []
  },
  {
   "cell_type": "code",
   "execution_count": null,
   "id": "d780a360-5df7-448d-8f0a-329004a75e69",
   "metadata": {},
   "outputs": [],
   "source": []
  },
  {
   "cell_type": "code",
   "execution_count": null,
   "id": "a225befd-36e0-41b0-8da7-a56a0360b7fc",
   "metadata": {},
   "outputs": [],
   "source": []
  },
  {
   "cell_type": "code",
   "execution_count": 20,
   "id": "2f8d1011-e587-457c-a3af-2114d5fb7cec",
   "metadata": {},
   "outputs": [
    {
     "data": {
      "text/plain": [
       "nan"
      ]
     },
     "execution_count": 20,
     "metadata": {},
     "output_type": "execute_result"
    }
   ],
   "source": [
    "df = data.copy()\n",
    "df = df[df.ts < '2017-01-02']\n",
    "df0 = df.set_index('ts')\n",
    "downsampled = df0.resample('8H').apply({\"open\":\"median\",\n",
    "                                \"close\":\"mean\",\n",
    "                                \"high\":\"max\",\n",
    "                                \"low\": \"min\",\n",
    "                                \"vol\": lambda v: np.round((np.median(v)+np.mean(v)) / 2, 1)})\n",
    "downsampled.open.median()#interpolate(\"median\")[:10]"
   ]
  },
  {
   "cell_type": "code",
   "execution_count": null,
   "id": "ce2c68b7-f227-42b2-a36a-a2e9f53e4ecb",
   "metadata": {},
   "outputs": [],
   "source": []
  },
  {
   "cell_type": "code",
   "execution_count": 36,
   "id": "f585c83f-923c-414c-8036-e5a7a53e871f",
   "metadata": {
    "tags": []
   },
   "outputs": [
    {
     "name": "stderr",
     "output_type": "stream",
     "text": [
      "/tmp/ipykernel_16859/1747227067.py:5: FutureWarning:\n",
      "\n",
      "casting datetime64[ns] values to int64 with .astype(...) is deprecated and will raise in a future version. Use .view(...) instead.\n",
      "\n"
     ]
    }
   ],
   "source": [
    "#Запустите следующий код:\n",
    "\n",
    "df = data.copy()\n",
    "df = df[(df.ts >= '2017-01-05 12:00:00') & (df.ts <= '2017-01-05 13:00:00')]\n",
    "df['unixtime'] = df.ts.astype(np.int64)\n",
    "\n",
    "fig = go.Figure(data  = [go.Candlestick(\n",
    "            x=df['ts'],\n",
    "            open  = df['open'],\n",
    "            high  = df['high'],\n",
    "            low   = df['low'],\n",
    "            close = df['close']\n",
    "        )])\n",
    "\n",
    "# fig.show()\n",
    "\n",
    "# df.head()"
   ]
  },
  {
   "cell_type": "code",
   "execution_count": null,
   "id": "26056223-a8a0-421c-8254-c44397acc9e5",
   "metadata": {},
   "outputs": [],
   "source": [
    "#6\n",
    "df = df[df.ts <= ‘2017-01-03’] \n",
    "\n",
    "\n",
    "#Все остальное при df = df[df.ts < ‘2017-01-04’]"
   ]
  },
  {
   "cell_type": "code",
   "execution_count": 27,
   "id": "aaf7c50c-a62f-4c23-bacb-6861d4e322fc",
   "metadata": {},
   "outputs": [
    {
     "ename": "NameError",
     "evalue": "name 'df_resampled2' is not defined",
     "output_type": "error",
     "traceback": [
      "\u001b[0;31m---------------------------------------------------------------------------\u001b[0m",
      "\u001b[0;31mNameError\u001b[0m                                 Traceback (most recent call last)",
      "\u001b[0;32m/tmp/ipykernel_16859/492987675.py\u001b[0m in \u001b[0;36m<module>\u001b[0;34m\u001b[0m\n\u001b[0;32m----> 1\u001b[0;31m \u001b[0mdf_resampled2\u001b[0m\u001b[0;34m[\u001b[0m\u001b[0;34m'close'\u001b[0m\u001b[0;34m]\u001b[0m\u001b[0;34m=\u001b[0m\u001b[0mdf_resampled2\u001b[0m\u001b[0;34m[\u001b[0m\u001b[0;34m'close'\u001b[0m\u001b[0;34m]\u001b[0m\u001b[0;34m.\u001b[0m\u001b[0minterpolate\u001b[0m\u001b[0;34m(\u001b[0m\u001b[0mmethod\u001b[0m\u001b[0;34m=\u001b[0m\u001b[0;34m'nearest'\u001b[0m\u001b[0;34m)\u001b[0m\u001b[0;34m\u001b[0m\u001b[0;34m\u001b[0m\u001b[0m\n\u001b[0m\u001b[1;32m      2\u001b[0m \u001b[0mdf_resampled2\u001b[0m\u001b[0;34m\u001b[0m\u001b[0;34m\u001b[0m\u001b[0m\n",
      "\u001b[0;31mNameError\u001b[0m: name 'df_resampled2' is not defined"
     ]
    }
   ],
   "source": [
    "df_resampled2['close']=df_resampled2['close'].interpolate(method='nearest')\n",
    "df_resampled2"
   ]
  },
  {
   "cell_type": "code",
   "execution_count": 16,
   "id": "cf204c16-9f50-4221-b274-8637ad221bc1",
   "metadata": {},
   "outputs": [
    {
     "name": "stderr",
     "output_type": "stream",
     "text": [
      "/home/dex/.local/lib/python3.8/site-packages/numpy/core/fromnumeric.py:3372: RuntimeWarning:\n",
      "\n",
      "Mean of empty slice.\n",
      "\n",
      "/home/dex/.local/lib/python3.8/site-packages/numpy/core/_methods.py:170: RuntimeWarning:\n",
      "\n",
      "invalid value encountered in double_scalars\n",
      "\n"
     ]
    },
    {
     "data": {
      "text/plain": [
       "ts\n",
       "2017-01-02 09:00:00    1.05187\n",
       "2017-01-02 09:00:10    1.05187\n",
       "2017-01-02 09:00:20    1.05187\n",
       "2017-01-02 09:00:30    1.05187\n",
       "2017-01-02 09:00:40    1.05168\n",
       "2017-01-02 09:00:50    1.05168\n",
       "2017-01-02 09:01:00    1.05168\n",
       "2017-01-02 09:01:10    1.05168\n",
       "2017-01-02 09:01:20    1.05168\n",
       "2017-01-02 09:01:30    1.05168\n",
       "Freq: 10S, Name: close, dtype: float64"
      ]
     },
     "execution_count": 16,
     "metadata": {},
     "output_type": "execute_result"
    }
   ],
   "source": [
    "#8\n",
    "df = data.copy()\n",
    "df = df[df.ts <= '2017-01-03']\n",
    "df0 = df.set_index('ts')\n",
    "df1 = df0.resample('10S').apply({\"open\":\"median\",\n",
    "                                \"close\":\"mean\",\n",
    "                                \"high\":\"max\",\n",
    "                                \"low\": \"min\",\n",
    "                                \"vol\": lambda v: np.round((np.median(v)+np.mean(v)) / 2, 1)})\n",
    "df1.close.interpolate(\"nearest\")[:10]"
   ]
  },
  {
   "cell_type": "markdown",
   "id": "d8dcf1b5-af07-4edf-8e61-3efc5e3a4e27",
   "metadata": {},
   "source": [
    "#### Задание 8.10.9\n",
    "\n",
    "При помощи функции np.linspace создайте сетку, состоящую из 135 точек во времени (используя колонку unixtime). После чего, используя функцию np.interp, проинтерполируйте значения колонки close на созданной сетке.\n",
    "\n",
    "Укажите среднее значение интерполированного ряда, округлив его до шестого знака после запятой."
   ]
  },
  {
   "cell_type": "code",
   "execution_count": null,
   "id": "3eabe5df-8f3f-4527-b72b-b1ede3172941",
   "metadata": {},
   "outputs": [],
   "source": []
  }
 ],
 "metadata": {
  "kernelspec": {
   "display_name": "Python 3 (ipykernel)",
   "language": "python",
   "name": "python3"
  },
  "language_info": {
   "codemirror_mode": {
    "name": "ipython",
    "version": 3
   },
   "file_extension": ".py",
   "mimetype": "text/x-python",
   "name": "python",
   "nbconvert_exporter": "python",
   "pygments_lexer": "ipython3",
   "version": "3.8.10"
  }
 },
 "nbformat": 4,
 "nbformat_minor": 5
}
