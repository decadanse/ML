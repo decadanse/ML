{
 "cells": [
  {
   "cell_type": "code",
   "execution_count": null,
   "id": "80896ae3-d551-4152-ba12-ef57e193d315",
   "metadata": {},
   "outputs": [
    {
     "name": "stdout",
     "output_type": "stream",
     "text": [
      "data.shape = (121674, 6)\n"
     ]
    }
   ],
   "source": [
    "import numpy as np, pandas as pd\n",
    "import matplotlib.pyplot as plt\n",
    "import plotly.graph_objects as go\n",
    "import time, datetime\n",
    "\n",
    "filePath = 'm8.10_EURUSD_1.csv'\n",
    "data = pd.read_csv(filePath)\n",
    "data['ts'] = pd.to_datetime(data.ts)\n",
    "print(f'data.shape = {data.shape}')\n",
    "\n",
    "data.head()\n",
    "\n",
    "df = data.copy()\n",
    "\n",
    "fig = go.Figure(data  = [go.Candlestick(\n",
    "            x=df['ts'],\n",
    "            open  = df['open'],\n",
    "            high  = df['high'],\n",
    "            low   = df['low'],\n",
    "            close = df['close']\n",
    "        )])\n",
    "\n",
    "fig.show()"
   ]
  },
  {
   "cell_type": "code",
   "execution_count": null,
   "id": "350c2ec4-7579-4a3e-8f72-487a3a5ae17a",
   "metadata": {},
   "outputs": [],
   "source": []
  }
 ],
 "metadata": {
  "kernelspec": {
   "display_name": "Python 3 (ipykernel)",
   "language": "python",
   "name": "python3"
  },
  "language_info": {
   "codemirror_mode": {
    "name": "ipython",
    "version": 3
   },
   "file_extension": ".py",
   "mimetype": "text/x-python",
   "name": "python",
   "nbconvert_exporter": "python",
   "pygments_lexer": "ipython3",
   "version": "3.8.10"
  }
 },
 "nbformat": 4,
 "nbformat_minor": 5
}
