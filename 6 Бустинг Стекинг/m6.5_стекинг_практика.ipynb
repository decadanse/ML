{
 "cells": [
  {
   "cell_type": "code",
   "execution_count": 35,
   "id": "49719a12-d7b2-44aa-98c8-c39f68de252d",
   "metadata": {},
   "outputs": [],
   "source": [
    "import pandas as pd\n",
    "import numpy as np\n",
    "\n",
    "from sklearn.ensemble import (AdaBoostClassifier, GradientBoostingClassifier,\n",
    "                              RandomForestClassifier, ExtraTreesClassifier)\n",
    "from sklearn.linear_model import LogisticRegression\n",
    "from sklearn.tree import DecisionTreeClassifier\n",
    "from sklearn.base import clone\n",
    "from sklearn.neighbors import KNeighborsClassifier\n",
    "\n",
    "from sklearn.model_selection import train_test_split, KFold, StratifiedKFold\n",
    "from sklearn.metrics import f1_score\n",
    "from sklearn.datasets import load_digits\n",
    "\n",
    "from sklearn.metrics import accuracy_score\n",
    "from sklearn.neighbors import KNeighborsClassifier \n",
    "\n",
    "from tqdm import tqdm\n",
    "\n",
    "from sklearn.model_selection import RandomizedSearchCV\n",
    "from scipy.stats.distributions import randint"
   ]
  },
  {
   "cell_type": "code",
   "execution_count": 4,
   "id": "e77af662-db4b-4c49-b33d-c5c92e0c7938",
   "metadata": {},
   "outputs": [],
   "source": [
    "dataset = load_digits()\n",
    "X, y = dataset['data'], dataset['target']\n",
    "\n",
    "X_train, X_test, y_train, y_test = train_test_split(X, y, random_state=42, test_size=0.2)"
   ]
  },
  {
   "cell_type": "markdown",
   "id": "a6730a6a-283c-4dad-a232-926e30a72496",
   "metadata": {},
   "source": [
    "#### Задание 6.6.1\n",
    "\n",
    "\n",
    "В скринкасте мы разобрали схему генерации признаков в стекинге, когда для тестовой выборки алгоритм заново переобучался на всей тренировочной выборке. Реализуйте схему, когда вместо этого производится агрегация ответов всех обученных на фолдах классификаторов на тестовой выборке при помощи усреднения.\n",
    "Логика решения:\n",
    "\n",
    "1) Создадим X_meta_test, заполним его нулями (по аналогии с X_meta_train);\n",
    "\n",
    "2) Далее на каждом шаге, где мы обучаем folded_clf.fit (X_fold_train, y_fold_train) и его предсказания на X_fold_predict запихиваем в X_meta_train[predict_fold_index], добавим ещё одну строку, где в X_meta_test будем добавлять предсказания вероятностей folded_clf на X_test. Их можно сразу складывать друг с другом или сохранить много массивов, тогда в конце их нужно будет все сложить, а потом делить на количество сплитов (количество массивов равно количеству сплитов в кросс-валидации);\n",
    "\n",
    "3) После цикла останется только усреднить все эти массивы — это и будет наш X_meta_test.\n",
    "\n",
    "За основу нужно взять следующий код:"
   ]
  },
  {
   "cell_type": "code",
   "execution_count": 5,
   "id": "fe77a69a-44f5-4447-b077-a68fcd3fb3ca",
   "metadata": {},
   "outputs": [],
   "source": [
    "def compute_meta_feature_mean(clf, X_train, X_test, y_train, cv):\n",
    "    \"\"\"    Эта функция подсчитывает признаки для мета-классификатора.     Они являются вероятностями классов при решении задачи многоклассовой классификации.    :arg clf: классификатор    :args X_train, y_train: обучающая выборка    :arg X_test: признаки тестовой выборки    :arg cv: класс, генерирующий фолды (KFold)    :returns X_meta_train, X_meta_test: новые признаки для обучающей и тестовой выборок    \"\"\"\n",
    "    n_classes = len(np.unique(y_train))\n",
    "    X_meta_train = np.zeros((len(X_train), n_classes), dtype=np.float32)\n",
    "    for train_fold_index, predict_fold_index in cv.split(X_train):\n",
    "        X_fold_train, X_fold_predict = X_train[train_fold_index], X_train[predict_fold_index]\n",
    "        y_fold_train = y_train[train_fold_index]\n",
    "\n",
    "        folded_clf = clone(clf)\n",
    "        folded_clf.fit(X_fold_train, y_fold_train)\n",
    "\n",
    "        X_meta_train[predict_fold_index] = folded_clf.predict_proba(X_fold_predict)\n",
    "\n",
    "    meta_clf = clone(clf)\n",
    "    meta_clf.fit(X_train, y_train)\n",
    "\n",
    "    X_meta_test = meta_clf.predict_proba(X_test)\n",
    "\n",
    "    return X_meta_train, X_meta_test"
   ]
  },
  {
   "cell_type": "code",
   "execution_count": 10,
   "id": "6dc3459b-06c2-4fd5-9253-e95eaef8844b",
   "metadata": {},
   "outputs": [],
   "source": [
    "def compute_meta_feature_mean(clf, X_train, X_test, y_train, cv):\n",
    "    \"\"\"\n",
    "    Эта функция подсчитывает признаки для мета-классификатора. \n",
    "    Они являются вероятностями классов при решении задачи многоклассовой классификации.\n",
    "\n",
    "    :arg clf: классификатор\n",
    "    :args X_train, y_train: обучающая выборка\n",
    "    :arg X_test: признаки тестовой выборки\n",
    "    :arg cv: класс, генерирующий фолды (KFold)\n",
    "\n",
    "    :returns X_meta_train, X_meta_test: новые признаки для обучающей и тестовой выборок\n",
    "    \"\"\"\n",
    "# Напишите ваш код ниже   \n",
    "    n_classes = len(np.unique(y_train))\n",
    "    X_meta_train = np.zeros((len(X_train), n_classes), dtype=np.float32)\n",
    "    X_meta_test = 0\n",
    "    i = 0\n",
    "    for train_fold_index, predict_fold_index in cv.split(X_train):\n",
    "        X_fold_train, X_fold_predict = X_train[train_fold_index], X_train[predict_fold_index]\n",
    "        y_fold_train = y_train[train_fold_index]\n",
    "\n",
    "        folded_clf = clone(clf)\n",
    "        folded_clf.fit(X_fold_train, y_fold_train)\n",
    "\n",
    "        X_meta_train[predict_fold_index] = folded_clf.predict_proba(X_fold_predict)\n",
    "        X_meta_test = X_meta_test + folded_clf.predict_proba(X_test)\n",
    "        i = i+1\n",
    "\n",
    "    meta_clf = clone(clf)\n",
    "    meta_clf.fit(X_train, y_train)\n",
    "\n",
    "    X_meta_test = X_meta_test/i\n",
    "    \n",
    "    return X_meta_train, X_meta_test "
   ]
  },
  {
   "cell_type": "markdown",
   "id": "2e3fa597-e6e4-425b-b4bd-95de45bed3bb",
   "metadata": {},
   "source": [
    "code above is correct"
   ]
  },
  {
   "cell_type": "code",
   "execution_count": 12,
   "id": "7f2e8385-be48-442b-a083-2b76bf5ea743",
   "metadata": {},
   "outputs": [],
   "source": [
    "#Решение от автора:\n",
    "def compute_meta_feature_mean(clf, X_train, X_test, y_train, cv):\n",
    "    n_classes = len(np.unique(y_train))\n",
    "    X_meta_train = np.zeros((len(X_train), n_classes), dtype=np.float32)\n",
    "    X_meta_test = np.zeros((len(X_test), n_classes), dtype=np.float32)\n",
    "    \n",
    "    for train_fold_index, predict_fold_index in cv.split(X_train):        \n",
    "        X_fold_train, X_fold_predict = X_train[train_fold_index], X_train[predict_fold_index]\n",
    "        y_fold_train = y_train[train_fold_index]\n",
    "        \n",
    "        folded_clf = clone(clf)\n",
    "        folded_clf.fit(X_fold_train, y_fold_train)\n",
    "        X_meta_train[predict_fold_index] = folded_clf.predict_proba(X_fold_predict)\n",
    "        \n",
    "        # We sum all of the predictions across folds and then divide the sum by the number of folds\n",
    "        X_meta_test += folded_clf.predict_proba(X_test)\n",
    "    \n",
    "    X_meta_test /= cv.n_splits\n",
    "    return X_meta_train, X_meta_test   \n",
    "         "
   ]
  },
  {
   "cell_type": "markdown",
   "id": "1d9f0580-59d8-46eb-a178-b2214b048d23",
   "metadata": {},
   "source": [
    "Для следующих заданий используйте этот код:"
   ]
  },
  {
   "cell_type": "code",
   "execution_count": 14,
   "id": "b3977897-d438-4c75-ac44-910a9b9e85b4",
   "metadata": {},
   "outputs": [],
   "source": [
    "def compute_meta_feature(clf, X_train, X_test, y_train, cv):\n",
    "    \n",
    "    n_classes = len(np.unique(y_train))\n",
    "    X_meta_train = np.zeros((len(y_train), n_classes), dtype=np.float32)\n",
    "\n",
    "    splits = cv.split(X_train)\n",
    "    for train_fold_index, predict_fold_index in splits:\n",
    "        X_fold_train, X_fold_predict = X_train[train_fold_index], X_train[predict_fold_index]\n",
    "        y_fold_train = y_train[train_fold_index]\n",
    "        \n",
    "        folded_clf = clone(clf)\n",
    "        folded_clf.fit(X_fold_train, y_fold_train)\n",
    "        \n",
    "        X_meta_train[predict_fold_index] = folded_clf.predict_proba(X_fold_predict)\n",
    "    \n",
    "    meta_clf = clone(clf)\n",
    "    meta_clf.fit(X_train, y_train)\n",
    "    \n",
    "    X_meta_test = meta_clf.predict_proba(X_test)\n",
    "    \n",
    "    return X_meta_train, X_meta_test"
   ]
  },
  {
   "cell_type": "code",
   "execution_count": 15,
   "id": "eab1d98c-944a-4a79-8a0f-27f384e68af5",
   "metadata": {},
   "outputs": [],
   "source": [
    "def generate_meta_features(classifiers, X_train, X_test, y_train, cv):\n",
    "   \n",
    "    features = [\n",
    "        compute_meta_feature(clf, X_train, X_test, y_train, cv)\n",
    "        for clf in tqdm(classifiers)\n",
    "    ]\n",
    "    \n",
    "    stacked_features_train = np.hstack([\n",
    "        features_train for features_train, features_test in features\n",
    "    ])\n",
    "\n",
    "    stacked_features_test = np.hstack([\n",
    "        features_test for features_train, features_test in features\n",
    "    ])\n",
    "    \n",
    "    return stacked_features_train, stacked_features_test"
   ]
  },
  {
   "cell_type": "code",
   "execution_count": 16,
   "id": "8085ddb2-372c-4a20-801b-76a459395426",
   "metadata": {},
   "outputs": [],
   "source": [
    "cv = KFold(n_splits=10, shuffle=True, random_state=42)\n",
    "\n",
    "def compute_metric(clf, X_train=X_train, y_train=y_train, X_test=X_test):\n",
    "    clf.fit(X_train, y_train)\n",
    "    y_test_pred = clf.predict(X_test)\n",
    "    return np.round(f1_score(y_test, y_test_pred, average='macro'), 6)"
   ]
  },
  {
   "cell_type": "markdown",
   "id": "83ef0eeb-e9d9-4a97-975a-36dcf9460c01",
   "metadata": {},
   "source": [
    "#### Задание 6.6.2\n",
    "\n",
    "Используйте функцию generate_meta_features для стекинга следующих алгоритмов:\n",
    "\n",
    "- логистическая регрессия с L1-регуляризацией, C=0.001, солвер — 'saga', схема работы мультиклассовой классификации — one-vs-rest, максимальное допустимое количество итераций — 2000\n",
    "    \n",
    "- логистическая регрессия с L2-регуляризацией, C=0.001, солвер — 'saga', схема работы мультиклассовой классификации — multinomial, максимальное допустимое количество итераций — 2000\n",
    "    \n",
    "- случайный лес из 300 деревьев\n",
    "    \n",
    "- градиентный бустинг из 200 деревьев\n",
    "\n",
    "Как мета-алгоритм используйте логистическую регрессию без регуляризации со схемой работы мультиклассовой классификации — auto и солвером 'lbfgs'.\n",
    "Посчитайте качество при помощи передачи новых признаков в функцию compute_metric."
   ]
  },
  {
   "cell_type": "code",
   "execution_count": 43,
   "id": "93dc07bd-76fa-4d55-867e-3cb3a9db6d4b",
   "metadata": {
    "tags": []
   },
   "outputs": [
    {
     "name": "stderr",
     "output_type": "stream",
     "text": [
      "\n",
      "\n",
      "  0%|                                                     | 0/4 [00:00<?, ?it/s]\u001b[A\u001b[A\n",
      "\n",
      " 25%|███████████▎                                 | 1/4 [00:38<01:56, 38.75s/it]\u001b[A\u001b[A\n",
      "\n",
      " 50%|██████████████████████▌                      | 2/4 [00:40<00:55, 27.66s/it]\u001b[A\u001b[A\n",
      "\n",
      " 75%|█████████████████████████████████▊           | 3/4 [00:52<00:22, 22.83s/it]\u001b[A\u001b[A\n",
      "\n",
      "100%|█████████████████████████████████████████████| 4/4 [03:10<00:00, 57.47s/it]\u001b[A\u001b[A"
     ]
    }
   ],
   "source": [
    "cv = KFold(n_splits=10, shuffle=True, random_state=42)\n",
    "\n",
    "stacked_features_train, stacked_features_test = generate_meta_features([\n",
    "    LogisticRegression(C=0.001, penalty='l1', solver='saga', max_iter=2000),\n",
    "    LogisticRegression(C=0.001, penalty='l2', solver='saga', max_iter=2000),  \n",
    "    RandomForestClassifier(n_estimators=300, n_jobs=-1),\n",
    "    GradientBoostingClassifier(n_estimators=200)\n",
    "], X_train, X_test, y_train, cv)"
   ]
  },
  {
   "cell_type": "code",
   "execution_count": 41,
   "id": "a9bdaee3-5578-4906-a4d4-ff1aaa9eefcc",
   "metadata": {
    "colab": {
     "base_uri": "https://localhost:8080/",
     "height": 35
    },
    "id": "B-wCuCCdHZef",
    "outputId": "1a3137a3-815b-47ea-9fa1-639d4b2bebc2"
   },
   "outputs": [
    {
     "data": {
      "text/plain": [
       "0.9888888888888889"
      ]
     },
     "execution_count": 41,
     "metadata": {},
     "output_type": "execute_result"
    }
   ],
   "source": [
    "np.random.seed(42)\n",
    "clf = LogisticRegression(multi_class='auto', solver='lbfgs')\n",
    "clf.fit(stacked_features_train, y_train)\n",
    "accuracy_score(clf.predict(stacked_features_test), y_test)"
   ]
  },
  {
   "cell_type": "code",
   "execution_count": 45,
   "id": "f3b8ead9-c008-4392-b7b0-4fe385b07f29",
   "metadata": {},
   "outputs": [
    {
     "data": {
      "text/plain": [
       "0.986327"
      ]
     },
     "execution_count": 45,
     "metadata": {},
     "output_type": "execute_result"
    }
   ],
   "source": [
    "compute_metric(LogisticRegression(multi_class='auto', solver='lbfgs'), X_train=stacked_features_train, y_train=y_train, X_test=stacked_features_test)"
   ]
  },
  {
   "cell_type": "markdown",
   "id": "6b216e0d-78e0-4801-8ca3-4f7feded705e",
   "metadata": {},
   "source": [
    "    0.9833333333333333 is correct\n",
    "    0.986327 is also correct"
   ]
  },
  {
   "cell_type": "markdown",
   "id": "5134ba78-29f1-4d76-8eff-0dae1b2713f6",
   "metadata": {},
   "source": [
    "#### Задание 6.6.3\n",
    "\n",
    "Используйте функцию generate_meta_features для стекинга следующих алгоритмов:\n",
    "\n",
    "- метод ближайшего соседа (k-NN) со стандартными параметрами; # https://proglib.io/p/metod-k-blizhayshih-sosedey-k-nearest-neighbour-2021-07-19\n",
    "- случайный лес из 300 экстремальных деревьев.\n",
    "\n",
    "Как мета-алгоритм используйте логистическую регрессию без регуляризации со схемой работы мультиклассовой классификации — auto и солвером 'lbfgs'.\n",
    "Посчитайте качество при помощи передачи новых признаков в функцию compute_metric."
   ]
  },
  {
   "cell_type": "code",
   "execution_count": 48,
   "id": "f0665653-3493-4b62-84b8-31a1cd834743",
   "metadata": {
    "tags": []
   },
   "outputs": [
    {
     "name": "stderr",
     "output_type": "stream",
     "text": [
      "\n",
      "\n",
      "  0%|                                                     | 0/2 [00:00<?, ?it/s]\u001b[A\u001b[A\n",
      "\n",
      " 50%|██████████████████████▌                      | 1/2 [00:00<00:00,  7.94it/s]\u001b[A\u001b[A\n",
      "\n",
      "100%|█████████████████████████████████████████████| 2/2 [00:11<00:00,  3.51s/it]\u001b[A\u001b[A"
     ]
    }
   ],
   "source": [
    "cv = KFold(n_splits=10, shuffle=True, random_state=42)\n",
    "\n",
    "stacked_features_train, stacked_features_test = generate_meta_features([\n",
    "    KNeighborsClassifier(), \n",
    "    RandomForestClassifier(n_estimators=300, n_jobs=-1)\n",
    "], X_train, X_test, y_train, cv)"
   ]
  },
  {
   "cell_type": "code",
   "execution_count": 36,
   "id": "0b6247f9-2287-492f-b01f-6e462447fc93",
   "metadata": {
    "colab": {
     "base_uri": "https://localhost:8080/",
     "height": 35
    },
    "id": "B-wCuCCdHZef",
    "outputId": "1a3137a3-815b-47ea-9fa1-639d4b2bebc2"
   },
   "outputs": [
    {
     "data": {
      "text/plain": [
       "0.9861111111111112"
      ]
     },
     "execution_count": 36,
     "metadata": {},
     "output_type": "execute_result"
    }
   ],
   "source": [
    "np.random.seed(42)\n",
    "clf = LogisticRegression(multi_class='auto', solver='lbfgs')\n",
    "clf.fit(stacked_features_train, y_train)\n",
    "accuracy_score(clf.predict(stacked_features_test), y_test)"
   ]
  },
  {
   "cell_type": "code",
   "execution_count": 49,
   "id": "38adc893-88c2-4aec-9e78-15a2d9b1009d",
   "metadata": {},
   "outputs": [
    {
     "data": {
      "text/plain": [
       "0.990099"
      ]
     },
     "execution_count": 49,
     "metadata": {},
     "output_type": "execute_result"
    }
   ],
   "source": [
    "compute_metric(LogisticRegression(multi_class='auto', solver='lbfgs'), X_train=stacked_features_train, y_train=y_train, X_test=stacked_features_test)"
   ]
  },
  {
   "cell_type": "markdown",
   "id": "7e425313-32c9-47db-878f-c03cda63bf11",
   "metadata": {},
   "source": [
    "    0.9861111111111112 is correct\n",
    "    0.990099 is also correct"
   ]
  },
  {
   "cell_type": "markdown",
   "id": "137320d9-92c4-4320-8b66-1059877f2474",
   "metadata": {},
   "source": [
    "#### Задание 6.6.4\n",
    "\n",
    "Используйте функцию generate_meta_features для стекинга следующих алгоритмов:\n",
    "\n",
    "- логистическая регрессия с L1-регуляризацией, C=0.001, солвер — 'saga', схема работы мультиклассовой классификации — one-vs-rest, максимально допустимое количество итераций — 2000;\n",
    "- метод ближайшего соседа со стандартными параметрами;\n",
    "- случайный лес из 300 экстремальных деревьев;\n",
    "- AdaBoost со стандартными параметрами.\n",
    "\n",
    "Как мета-алгоритм используйте логистическую регрессию без регуляризации со схемой работы мультиклассовой классификации — auto и солвером 'lbfgs'.\n",
    "Посчитайте качество при помощи передачи новых признаков в функцию compute_metric."
   ]
  },
  {
   "cell_type": "code",
   "execution_count": 50,
   "id": "eadb5129-8bb7-44ee-b128-196e8a056a84",
   "metadata": {
    "tags": []
   },
   "outputs": [
    {
     "name": "stderr",
     "output_type": "stream",
     "text": [
      "\n",
      "\n",
      "  0%|                                                     | 0/4 [00:00<?, ?it/s]\u001b[A\u001b[A\n",
      "\n",
      " 25%|███████████▎                                 | 1/4 [00:39<01:57, 39.29s/it]\u001b[A\u001b[A\n",
      "\n",
      " 50%|██████████████████████▌                      | 2/4 [00:39<00:55, 27.54s/it]\u001b[A\u001b[A\n",
      "\n",
      " 75%|█████████████████████████████████▊           | 3/4 [00:51<00:22, 22.99s/it]\u001b[A\u001b[A\n",
      "\n",
      "100%|█████████████████████████████████████████████| 4/4 [00:54<00:00, 17.01s/it]\u001b[A\u001b[A"
     ]
    }
   ],
   "source": [
    "cv = KFold(n_splits=10, shuffle=True, random_state=42)\n",
    "\n",
    "stacked_features_train, stacked_features_test = generate_meta_features([\n",
    "    LogisticRegression(C=0.001, penalty='l1', solver='saga', max_iter=2000),\n",
    "    KNeighborsClassifier(),  \n",
    "    RandomForestClassifier(n_estimators=300, n_jobs=-1),\n",
    "    AdaBoostClassifier()\n",
    "], X_train, X_test, y_train, cv)"
   ]
  },
  {
   "cell_type": "code",
   "execution_count": 39,
   "id": "2ab8537a-0451-4188-b33d-2452349979b8",
   "metadata": {
    "colab": {
     "base_uri": "https://localhost:8080/",
     "height": 35
    },
    "id": "B-wCuCCdHZef",
    "outputId": "1a3137a3-815b-47ea-9fa1-639d4b2bebc2",
    "tags": []
   },
   "outputs": [
    {
     "data": {
      "text/plain": [
       "0.9888888888888889"
      ]
     },
     "execution_count": 39,
     "metadata": {},
     "output_type": "execute_result"
    }
   ],
   "source": [
    "np.random.seed(42)\n",
    "clf = LogisticRegression(multi_class='auto', solver='lbfgs')\n",
    "clf.fit(stacked_features_train, y_train)\n",
    "compute_metric(clf.predict(stacked_features_test), y_test)"
   ]
  },
  {
   "cell_type": "code",
   "execution_count": 51,
   "id": "a835f314-8298-49c1-8c57-803370605f26",
   "metadata": {},
   "outputs": [
    {
     "data": {
      "text/plain": [
       "0.987798"
      ]
     },
     "execution_count": 51,
     "metadata": {},
     "output_type": "execute_result"
    }
   ],
   "source": [
    "compute_metric(LogisticRegression(multi_class='auto', solver='lbfgs'), X_train=stacked_features_train, y_train=y_train, X_test=stacked_features_test)"
   ]
  },
  {
   "cell_type": "markdown",
   "id": "fbd3eacb-2603-4be8-84f0-1a26a969497f",
   "metadata": {},
   "source": [
    "    0.9888888888888889 is correct\n",
    "    0.987798 is also correct"
   ]
  },
  {
   "cell_type": "markdown",
   "id": "401aa3b4-c771-49ce-8ed5-f0f4c58b9e92",
   "metadata": {},
   "source": [
    "#### Задание 6.6.5\n",
    "\n",
    "Используйте функцию generate_meta_features для стекинга следующих алгоритмов:\n",
    "\n",
    "- случайный лес из 300 деревьев;\n",
    "- случайный лес из 300 экстремальных деревьев.\n",
    "\n",
    "Для генерации фолдов используйте класс StratifiedKFold, который позволяет делать так называемые стратифицированные разбиения (в каждом фолде будет одинаковое соотношение классов).\n",
    "Для корректной работы необходимо подправить код в функции compute_meta_feature. Как мета-алгоритм используйте логистическую регрессию без регуляризации со схемой работы мультиклассовой классификации — auto и солвером 'lbfgs'.\n",
    "Посчитайте качество при помощи передачи новых признаков в функцию compute_metric. Количество фолдов = 10"
   ]
  },
  {
   "cell_type": "code",
   "execution_count": 52,
   "id": "8ed7b096-12cc-4083-b36b-79f60077b417",
   "metadata": {},
   "outputs": [],
   "source": [
    "from sklearn.model_selection import StratifiedKFold"
   ]
  },
  {
   "cell_type": "code",
   "execution_count": 78,
   "id": "3c0dcb3f-3e85-4e1b-a81b-0fcbc79eba59",
   "metadata": {},
   "outputs": [],
   "source": [
    "def compute_meta_feature(clf, X_train, X_test, y_train, cv):\n",
    "    \n",
    "    n_classes = len(np.unique(y_train))\n",
    "    X_meta_train = np.zeros((len(y_train), n_classes), dtype=np.float32)\n",
    "\n",
    "    # skf = StratifiedKFold(n_splits=10)\n",
    "    # skf.split(X_train, y_train)    \n",
    "    splits = cv.split(X_train, y_train)\n",
    "    for train_fold_index, predict_fold_index in splits:\n",
    "        X_fold_train, X_fold_predict = X_train[train_fold_index], X_train[predict_fold_index]\n",
    "        y_fold_train = y_train[train_fold_index]\n",
    "        \n",
    "        folded_clf = clone(clf)\n",
    "        folded_clf.fit(X_fold_train, y_fold_train)\n",
    "        \n",
    "        X_meta_train[predict_fold_index] = folded_clf.predict_proba(X_fold_predict)\n",
    "    \n",
    "    meta_clf = clone(clf)\n",
    "    meta_clf.fit(X_train, y_train)\n",
    "    \n",
    "    X_meta_test = meta_clf.predict_proba(X_test)\n",
    "    \n",
    "    return X_meta_train, X_meta_test"
   ]
  },
  {
   "cell_type": "code",
   "execution_count": 79,
   "id": "a51c1960-cdd5-4c99-bf9c-3b843a31c2f8",
   "metadata": {
    "tags": []
   },
   "outputs": [
    {
     "name": "stderr",
     "output_type": "stream",
     "text": [
      "\n",
      "\n",
      "\n",
      "\n",
      "  0%|                                                     | 0/2 [00:00<?, ?it/s]\u001b[A\u001b[A\u001b[A\u001b[A\n",
      "\n",
      "\n",
      "\n",
      " 50%|██████████████████████▌                      | 1/2 [00:12<00:12, 12.59s/it]\u001b[A\u001b[A\u001b[A\u001b[A\n",
      "\n",
      "\n",
      "\n",
      "100%|█████████████████████████████████████████████| 2/2 [00:21<00:00, 11.62s/it]\u001b[A\u001b[A\u001b[A\u001b[A"
     ]
    }
   ],
   "source": [
    "cv = StratifiedKFold(n_splits=10)\n",
    "\n",
    "stacked_features_train, stacked_features_test = generate_meta_features([\n",
    "    RandomForestClassifier(n_estimators=300, n_jobs=-1), # n_jobs=-1 means using all processors. \n",
    "    ExtraTreesClassifier(n_estimators=300, n_jobs=-1)\n",
    "], X_train, X_test, y_train, cv)"
   ]
  },
  {
   "cell_type": "code",
   "execution_count": 80,
   "id": "74bc751d-f95d-4f3a-a542-ebefd3e5a588",
   "metadata": {},
   "outputs": [
    {
     "data": {
      "text/plain": [
       "0.984745"
      ]
     },
     "execution_count": 80,
     "metadata": {},
     "output_type": "execute_result"
    }
   ],
   "source": [
    "compute_metric(LogisticRegression(multi_class='auto', solver='lbfgs'), X_train=stacked_features_train, y_train=y_train, X_test=stacked_features_test)"
   ]
  },
  {
   "cell_type": "markdown",
   "id": "43d6d422-93e1-4607-877e-c1a216862865",
   "metadata": {},
   "source": [
    "0.981296 is correct"
   ]
  },
  {
   "cell_type": "code",
   "execution_count": 36,
   "id": "c5a09bc7-6441-4d70-b742-6003e819dad5",
   "metadata": {
    "colab": {
     "base_uri": "https://localhost:8080/",
     "height": 35
    },
    "id": "B-wCuCCdHZef",
    "outputId": "1a3137a3-815b-47ea-9fa1-639d4b2bebc2"
   },
   "outputs": [
    {
     "data": {
      "text/plain": [
       "0.9861111111111112"
      ]
     },
     "execution_count": 36,
     "metadata": {},
     "output_type": "execute_result"
    }
   ],
   "source": [
    "np.random.seed(42)\n",
    "clf = LogisticRegression(multi_class='auto', solver='lbfgs')\n",
    "clf.fit(stacked_features_train, y_train)\n",
    "accuracy_score(clf.predict(stacked_features_test), y_test)"
   ]
  },
  {
   "cell_type": "markdown",
   "id": "23f95f31-0f93-4e30-bd08-bce721317993",
   "metadata": {},
   "source": [
    "0.9861111111111112 is also correct"
   ]
  },
  {
   "cell_type": "markdown",
   "id": "ada01125-484c-4642-a693-00324e8d4f25",
   "metadata": {},
   "source": [
    "#### Задание 6.6.6\n",
    "\n",
    "В задании 6.6.5 измените 10 фолдов на 20. Укажите полученное качество."
   ]
  },
  {
   "cell_type": "code",
   "execution_count": 73,
   "id": "12145c66-0be7-42df-911b-e7c183673b57",
   "metadata": {},
   "outputs": [],
   "source": [
    "def compute_meta_feature(clf, X_train, X_test, y_train, cv):\n",
    "    \n",
    "    n_classes = len(np.unique(y_train))\n",
    "    X_meta_train = np.zeros((len(y_train), n_classes), dtype=np.float32)\n",
    "\n",
    "    # skf = StratifiedKFold(n_splits=20)\n",
    "    # skf.split(X_train, y_train)\n",
    "    splits = cv.split(X_train, y_train)\n",
    "    \n",
    "    for train_fold_index, predict_fold_index in splits:\n",
    "        X_fold_train, X_fold_predict = X_train[train_fold_index], X_train[predict_fold_index]\n",
    "        y_fold_train = y_train[train_fold_index]\n",
    "        \n",
    "        folded_clf = clone(clf)\n",
    "        folded_clf.fit(X_fold_train, y_fold_train)\n",
    "        \n",
    "        X_meta_train[predict_fold_index] = folded_clf.predict_proba(X_fold_predict)\n",
    "    \n",
    "    meta_clf = clone(clf)\n",
    "    meta_clf.fit(X_train, y_train)\n",
    "    \n",
    "    X_meta_test = meta_clf.predict_proba(X_test)\n",
    "    \n",
    "    return X_meta_train, X_meta_test"
   ]
  },
  {
   "cell_type": "code",
   "execution_count": 74,
   "id": "5723be1b-45d6-419f-a95d-2886cc1fa6da",
   "metadata": {
    "tags": []
   },
   "outputs": [
    {
     "name": "stderr",
     "output_type": "stream",
     "text": [
      "\n",
      "\n",
      "\n",
      "\n",
      "  0%|                                                     | 0/2 [00:00<?, ?it/s]\u001b[A\u001b[A\u001b[A\u001b[A\n",
      "\n",
      "\n",
      "\n",
      " 50%|██████████████████████▌                      | 1/2 [00:22<00:22, 22.29s/it]\u001b[A\u001b[A\u001b[A\u001b[A\n",
      "\n",
      "\n",
      "\n",
      "100%|█████████████████████████████████████████████| 2/2 [00:40<00:00, 20.92s/it]\u001b[A\u001b[A\u001b[A\u001b[A"
     ]
    }
   ],
   "source": [
    "cv = StratifiedKFold(n_splits=20)\n",
    "\n",
    "stacked_features_train, stacked_features_test = generate_meta_features([\n",
    "    RandomForestClassifier(n_estimators=300, n_jobs=-1), # n_jobs=-1 means using all processors. \n",
    "    ExtraTreesClassifier(n_estimators=300, n_jobs=-1)\n",
    "], X_train, X_test, y_train, cv)"
   ]
  },
  {
   "cell_type": "code",
   "execution_count": 75,
   "id": "eab60479-e003-4d08-a95d-eb4ecaee17c6",
   "metadata": {
    "tags": []
   },
   "outputs": [
    {
     "data": {
      "text/plain": [
       "0.983602"
      ]
     },
     "execution_count": 75,
     "metadata": {},
     "output_type": "execute_result"
    }
   ],
   "source": [
    "compute_metric(LogisticRegression(multi_class='auto', solver='lbfgs'), X_train=stacked_features_train, y_train=y_train, X_test=stacked_features_test)"
   ]
  },
  {
   "cell_type": "markdown",
   "id": "f4d082cc-5b01-4e56-93f5-1e49bcb1be84",
   "metadata": {},
   "source": [
    "    0.980988 is correct\n",
    "    0.983602 is alco correct"
   ]
  },
  {
   "cell_type": "markdown",
   "id": "5636f811-bb44-414b-a971-4183395f751b",
   "metadata": {},
   "source": [
    "#### Задание 6.6.7\n",
    "\n",
    "В задании 6.6.6 укажите количество фолдов равным 5 и поменяйте мета-алгоритм на случайный лес со стандартными параметрами. Укажите полученное качество."
   ]
  },
  {
   "cell_type": "code",
   "execution_count": 76,
   "id": "a71e6dbd-07d1-42f5-90ef-ef4fa29117c5",
   "metadata": {
    "tags": []
   },
   "outputs": [
    {
     "name": "stderr",
     "output_type": "stream",
     "text": [
      "\n",
      "\n",
      "\n",
      "\n",
      "  0%|                                                     | 0/2 [00:00<?, ?it/s]\u001b[A\u001b[A\u001b[A\u001b[A\n",
      "\n",
      "\n",
      "\n",
      " 50%|██████████████████████▌                      | 1/2 [00:06<00:06,  6.24s/it]\u001b[A\u001b[A\u001b[A\u001b[A\n",
      "\n",
      "\n",
      "\n",
      "100%|█████████████████████████████████████████████| 2/2 [00:11<00:00,  5.95s/it]\u001b[A\u001b[A\u001b[A\u001b[A"
     ]
    }
   ],
   "source": [
    "cv = StratifiedKFold(n_splits=5)\n",
    "\n",
    "stacked_features_train, stacked_features_test = generate_meta_features([\n",
    "    RandomForestClassifier(n_estimators=300, n_jobs=-1), # n_jobs=-1 means using all processors. \n",
    "    ExtraTreesClassifier(n_estimators=300, n_jobs=-1)\n",
    "], X_train, X_test, y_train, cv)"
   ]
  },
  {
   "cell_type": "code",
   "execution_count": 77,
   "id": "56e82378-a078-4f61-9199-9db2a20f941c",
   "metadata": {},
   "outputs": [
    {
     "data": {
      "text/plain": [
       "0.985118"
      ]
     },
     "execution_count": 77,
     "metadata": {},
     "output_type": "execute_result"
    }
   ],
   "source": [
    "compute_metric(RandomForestClassifier(), X_train=stacked_features_train, y_train=y_train, X_test=stacked_features_test)"
   ]
  },
  {
   "cell_type": "markdown",
   "id": "b9316cd1-27f0-4cb3-83ef-da206195a988",
   "metadata": {},
   "source": [
    "0.985118 is correct"
   ]
  },
  {
   "cell_type": "markdown",
   "id": "42da960a-c99b-43c0-8953-d4aea1dc3cc2",
   "metadata": {},
   "source": [
    "#### Задание 6.6.8\n",
    "\n",
    "В задании 6.6.5 поменяйте мета-алгоритм на метод ближайших соседей (k-NN) со стандартными параметрами. Укажите полученное качество."
   ]
  },
  {
   "cell_type": "code",
   "execution_count": 83,
   "id": "5349bda8-fe33-402c-8c53-9fa36a56b16b",
   "metadata": {
    "tags": []
   },
   "outputs": [
    {
     "name": "stderr",
     "output_type": "stream",
     "text": [
      "\n",
      "\n",
      "\n",
      "\n",
      "  0%|                                                     | 0/2 [00:00<?, ?it/s]\u001b[A\u001b[A\u001b[A\u001b[A\n",
      "\n",
      "\n",
      "\n",
      " 50%|██████████████████████▌                      | 1/2 [00:11<00:11, 11.61s/it]\u001b[A\u001b[A\u001b[A\u001b[A\n",
      "\n",
      "\n",
      "\n",
      "100%|█████████████████████████████████████████████| 2/2 [00:21<00:00, 11.07s/it]\u001b[A\u001b[A\u001b[A\u001b[A"
     ]
    }
   ],
   "source": [
    "cv = StratifiedKFold(n_splits=10)\n",
    "\n",
    "stacked_features_train, stacked_features_test = generate_meta_features([\n",
    "    RandomForestClassifier(n_estimators=300, n_jobs=-1), # n_jobs=-1 means using all processors. \n",
    "    ExtraTreesClassifier(n_estimators=300, n_jobs=-1)\n",
    "], X_train, X_test, y_train, cv)"
   ]
  },
  {
   "cell_type": "code",
   "execution_count": 84,
   "id": "d858d924-6e43-4197-8157-752729cff485",
   "metadata": {},
   "outputs": [
    {
     "data": {
      "text/plain": [
       "0.98762"
      ]
     },
     "execution_count": 84,
     "metadata": {},
     "output_type": "execute_result"
    }
   ],
   "source": [
    "compute_metric(KNeighborsClassifier(), X_train=stacked_features_train, y_train=y_train, X_test=stacked_features_test)"
   ]
  },
  {
   "cell_type": "markdown",
   "id": "883720d0-4fcd-42ad-8dff-287b2df536a7",
   "metadata": {},
   "source": [
    "0.98762 is correct"
   ]
  },
  {
   "cell_type": "markdown",
   "id": "5150a6cb-0379-4279-9855-370378064969",
   "metadata": {},
   "source": [
    "#### Задание 6.6.9\n",
    "\n",
    "В задании 6.6.6 поменяйте мета-алгоритм на градиентный бустинг со стандартными параметрами. Укажите полученное качество."
   ]
  },
  {
   "cell_type": "code",
   "execution_count": 91,
   "id": "5043d81a-113b-4993-88d0-dcdec7430339",
   "metadata": {
    "tags": []
   },
   "outputs": [
    {
     "name": "stderr",
     "output_type": "stream",
     "text": [
      "\n",
      "\n",
      "\n",
      "\n",
      "  0%|                                                     | 0/2 [00:00<?, ?it/s]\u001b[A\u001b[A\u001b[A\u001b[A\n",
      "\n",
      "\n",
      "\n",
      " 50%|██████████████████████▌                      | 1/2 [00:13<00:13, 13.63s/it]\u001b[A\u001b[A\u001b[A\u001b[A\n",
      "\n",
      "\n",
      "\n",
      "100%|█████████████████████████████████████████████| 2/2 [00:22<00:00, 12.33s/it]\u001b[A\u001b[A\u001b[A\u001b[A"
     ]
    }
   ],
   "source": [
    "cv = StratifiedKFold(n_splits=10, shuffle=True, random_state=42) \n",
    "\n",
    "stacked_features_train, stacked_features_test = generate_meta_features([\n",
    "    RandomForestClassifier(n_estimators=300, n_jobs=-1, random_state=42), # n_jobs=-1 means using all processors. \n",
    "    ExtraTreesClassifier(n_estimators=300, n_jobs=-1, random_state=42)\n",
    "], X_train, X_test, y_train, cv)"
   ]
  },
  {
   "cell_type": "code",
   "execution_count": 92,
   "id": "4f3c0a15-c52c-47e5-b038-933586c8cdfd",
   "metadata": {},
   "outputs": [
    {
     "data": {
      "text/plain": [
       "0.981895"
      ]
     },
     "execution_count": 92,
     "metadata": {},
     "output_type": "execute_result"
    }
   ],
   "source": [
    "clf = GradientBoostingClassifier(random_state=42)\n",
    "compute_metric(clf, X_train=stacked_features_train, y_train=y_train, X_test=stacked_features_test)"
   ]
  },
  {
   "cell_type": "markdown",
   "id": "d180d1ea-6943-4aa6-b97a-c98153428136",
   "metadata": {},
   "source": [
    "    0.984554 is correct\n",
    "    0.986593 is also correct\n",
    "    0.989765 is also correct\n",
    "    0.981895 is also correct"
   ]
  },
  {
   "cell_type": "markdown",
   "id": "a409228e-95de-4519-a803-394e42218d13",
   "metadata": {},
   "source": [
    "#### Задание 6.6.10\n",
    "\n",
    "Используйте функцию generate_meta_features для стекинга следующих алгоритмов:\n",
    "\n",
    "- случайный лес из 300 деревьев, критерий Джини, максимальная глубина — 24;\n",
    "- случайный лес из 300 экстремальных деревьев.\n",
    "\n",
    "Для генерации фолдов используйте класс StratifiedKFold, который позволяет делать так называемые стратифицированные разбиения (в каждом фолде будет одинаковое соотношение классов).\n",
    "Для генерации фолдов используйте класс StratifiedKFold и исправленный вами ранее код в функции compute_meta_feature.\n",
    "Выполните разбиение на 3 фолда.\n",
    "Как мета-алгортм используйте случайный лес из 100 экстремальных деревьев. Посчитайте качество при помощи передачи новых признаков в функцию compute_metric."
   ]
  },
  {
   "cell_type": "code",
   "execution_count": 93,
   "id": "168351bf-5273-4377-99fe-ebae45bb45b0",
   "metadata": {
    "tags": []
   },
   "outputs": [
    {
     "name": "stderr",
     "output_type": "stream",
     "text": [
      "\n",
      "\n",
      "\n",
      "\n",
      "  0%|                                                     | 0/2 [00:00<?, ?it/s]\u001b[A\u001b[A\u001b[A\u001b[A\n",
      "\n",
      "\n",
      "\n",
      " 50%|██████████████████████▌                      | 1/2 [00:04<00:04,  4.46s/it]\u001b[A\u001b[A\u001b[A\u001b[A\n",
      "\n",
      "\n",
      "\n",
      "100%|█████████████████████████████████████████████| 2/2 [00:07<00:00,  4.10s/it]\u001b[A\u001b[A\u001b[A\u001b[A"
     ]
    }
   ],
   "source": [
    "cv = StratifiedKFold(n_splits=3, shuffle=True, random_state=42) \n",
    "\n",
    "stacked_features_train, stacked_features_test = generate_meta_features([\n",
    "    RandomForestClassifier(n_estimators=300, criterion='gini', max_depth=24, n_jobs=-1, random_state=42), # n_jobs=-1 means using all processors. \n",
    "    ExtraTreesClassifier(n_estimators=300, n_jobs=-1, random_state=42)\n",
    "], X_train, X_test, y_train, cv)"
   ]
  },
  {
   "cell_type": "code",
   "execution_count": 94,
   "id": "a9b7a6ce-0dc9-477f-9c4b-d84d519b27c5",
   "metadata": {},
   "outputs": [
    {
     "data": {
      "text/plain": [
       "0.986498"
      ]
     },
     "execution_count": 94,
     "metadata": {},
     "output_type": "execute_result"
    }
   ],
   "source": [
    "clf = ExtraTreesClassifier(n_estimators=100, n_jobs=-1, random_state=42)\n",
    "compute_metric(clf, X_train=stacked_features_train, y_train=y_train, X_test=stacked_features_test)"
   ]
  },
  {
   "cell_type": "markdown",
   "id": "be4b50c5-1482-4147-a64a-2329ba4aa2c0",
   "metadata": {},
   "source": [
    "0.986498 is correct"
   ]
  },
  {
   "cell_type": "markdown",
   "id": "a98f0422-a886-4455-a75d-c843b4ef82b9",
   "metadata": {
    "tags": []
   },
   "source": [
    "#### Задание 6.6.11\n",
    "\n",
    "Обучите на тренировочной выборке следующие алгоритмы:\n",
    "\n",
    "- случайный лес из 300 деревьев, критерий Джини, максимальная глубина — 24;\n",
    "- случайный лес из 300 экстремальных деревьев;\n",
    "- логистическую регрессию со стандартными параметрами.\n",
    "\n",
    "Усредните их ответы на тестовой выборке методом сложения предсказаний и затем взятия функции argmax: answer = (prediction1 + prediction2 + prediction3).argmax(axis = 1). Посчитайте качество, аналогично функции compute_metric (F1-score с макро-усреднением, округленный до 6 знака)."
   ]
  },
  {
   "cell_type": "markdown",
   "id": "8b4e4dbf-044f-4f95-953c-d3d56ce625e1",
   "metadata": {},
   "source": [
    "expert: \n",
    "нам нужно усреднить ответы алгоритмов. Усреднением здесь мы добиваемся большей точности предсказаний.\n",
    "Однако усреднять здесь (в случае задачи классификации) нужно не метки классов, возвращаемые методом predict() (что некорректно: допустим, три наши алгоритма дали такие предсказания меток классов: 1, 1 и 7 - усреднение меток здесь даёт ответ 3, что противоречит здравому смыслу).\n",
    "\"Усреднять\" нужно \"сырые\" ответы - вероятности принадлежности классов, возвращаемые методом predict_proba()  : вернёт таблицу с числом столбцов равным числу классов - в нашем случае 10. По столбцам будут расположены вероятности принадлежности объекта к классам.Это делается следующим образом: для каждого объекта мы складываем вероятности, выданные алгоритмами и делим их на количество (усредняем). В качестве предсказания мы берём класс, для которого получившаяся вероятность максимальна.В коде это может выглядеть так:"
   ]
  },
  {
   "cell_type": "code",
   "execution_count": 105,
   "id": "5b2d4eb4-ba86-4ad5-86c1-8f8dbd338ffd",
   "metadata": {},
   "outputs": [
    {
     "name": "stdout",
     "output_type": "stream",
     "text": [
      "0.976259\n"
     ]
    },
    {
     "name": "stderr",
     "output_type": "stream",
     "text": [
      "/home/dex/.local/lib/python3.8/site-packages/sklearn/linear_model/_logistic.py:814: ConvergenceWarning: lbfgs failed to converge (status=1):\n",
      "STOP: TOTAL NO. of ITERATIONS REACHED LIMIT.\n",
      "\n",
      "Increase the number of iterations (max_iter) or scale the data as shown in:\n",
      "    https://scikit-learn.org/stable/modules/preprocessing.html\n",
      "Please also refer to the documentation for alternative solver options:\n",
      "    https://scikit-learn.org/stable/modules/linear_model.html#logistic-regression\n",
      "  n_iter_i = _check_optimize_result(\n"
     ]
    }
   ],
   "source": [
    "def compute_predicts(classifiers, X_train, y_train, X_test):\n",
    "    predicts = []\n",
    "    for clf in classifiers:\n",
    "        clf.fit(X_train, y_train)\n",
    "        predicts.append(clf.predict_proba(X_test))\n",
    "    return predicts\n",
    "\n",
    "\n",
    "\n",
    "\n",
    "predicts = compute_predicts([ \n",
    "    RandomForestClassifier(n_estimators=300, criterion='gini', max_depth=24, n_jobs=-1, random_state=42),\n",
    "    ExtraTreesClassifier(n_estimators=300, n_jobs=-1, random_state=42), \n",
    "    LogisticRegression()\n",
    "], X_train, y_train, X_test)\n",
    "\n",
    "y_test_pred = np.sum(predicts, axis=0).argmax(axis=1) #argmax() как раз и используется, чтобы получить индекс столбца, для которого вероятность максимальна.\n",
    "\n",
    "#P.S. я использую np.sum()  вместо np.mean() , но тут разницы нет, поскольку мне нужен лишь _индекс_ максимального элемента в строке, \n",
    "#а он не измениться, если весь массив умножить/разделить на какое-то (положительное) число\n",
    "\n",
    "print(np.round(f1_score(y_test, y_test_pred, average='macro'), 6))"
   ]
  },
  {
   "cell_type": "markdown",
   "id": "7091c5d2-4fba-4094-9d52-a2065da8a185",
   "metadata": {},
   "source": [
    "my version below:"
   ]
  },
  {
   "cell_type": "code",
   "execution_count": 102,
   "id": "73e7d2c1-3345-4fd8-9b6a-92dd7b8475a0",
   "metadata": {},
   "outputs": [
    {
     "name": "stderr",
     "output_type": "stream",
     "text": [
      "/home/dex/.local/lib/python3.8/site-packages/sklearn/linear_model/_logistic.py:814: ConvergenceWarning: lbfgs failed to converge (status=1):\n",
      "STOP: TOTAL NO. of ITERATIONS REACHED LIMIT.\n",
      "\n",
      "Increase the number of iterations (max_iter) or scale the data as shown in:\n",
      "    https://scikit-learn.org/stable/modules/preprocessing.html\n",
      "Please also refer to the documentation for alternative solver options:\n",
      "    https://scikit-learn.org/stable/modules/linear_model.html#logistic-regression\n",
      "  n_iter_i = _check_optimize_result(\n"
     ]
    }
   ],
   "source": [
    "rfc = RandomForestClassifier(n_estimators=300, criterion='gini', max_depth=24, n_jobs=-1, random_state=42)\n",
    "rfc.fit(X_train, y_train)\n",
    "y_pred_1 = rfc.predict_proba(X_test)\n",
    "\n",
    "etc = ExtraTreesClassifier(n_estimators=300, n_jobs=-1, random_state=42)\n",
    "etc.fit(X_train, y_train)\n",
    "y_pred_2 = etc.predict_proba(X_test)\n",
    "\n",
    "lr = LogisticRegression(random_state=42)\n",
    "lr.fit(X_train, y_train)\n",
    "y_pred_3 = lr.predict_proba(X_test)\n"
   ]
  },
  {
   "cell_type": "code",
   "execution_count": 104,
   "id": "563f48ea-0272-4692-9f3c-434eeca872c0",
   "metadata": {},
   "outputs": [
    {
     "data": {
      "text/plain": [
       "0.976259"
      ]
     },
     "execution_count": 104,
     "metadata": {},
     "output_type": "execute_result"
    }
   ],
   "source": [
    "answer = (y_pred_1 + y_pred_2 + y_pred_3).argmax(axis = 1)\n",
    "np.round(f1_score(y_test, answer, average='macro'), 6)"
   ]
  },
  {
   "cell_type": "markdown",
   "id": "cb9ed5d7-4e5e-402a-9655-e15fa37dc76e",
   "metadata": {},
   "source": [
    "0.976259 is correct"
   ]
  }
 ],
 "metadata": {
  "kernelspec": {
   "display_name": "Python 3 (ipykernel)",
   "language": "python",
   "name": "python3"
  },
  "language_info": {
   "codemirror_mode": {
    "name": "ipython",
    "version": 3
   },
   "file_extension": ".py",
   "mimetype": "text/x-python",
   "name": "python",
   "nbconvert_exporter": "python",
   "pygments_lexer": "ipython3",
   "version": "3.8.10"
  }
 },
 "nbformat": 4,
 "nbformat_minor": 5
}
