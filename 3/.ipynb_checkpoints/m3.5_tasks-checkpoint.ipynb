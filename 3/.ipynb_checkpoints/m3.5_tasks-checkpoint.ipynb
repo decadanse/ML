{
 "cells": [
  {
   "cell_type": "markdown",
   "id": "7fd767f6-4e59-40bc-8679-56495a2d5584",
   "metadata": {},
   "source": [
    "m3.2_linear regression"
   ]
  },
  {
   "cell_type": "code",
   "execution_count": 1,
   "id": "182d138d-2932-44b1-9499-58eb9a4631e2",
   "metadata": {
    "tags": []
   },
   "outputs": [],
   "source": [
    "import pandas as pd\n",
    "import numpy as np\n",
    "import matplotlib.pyplot as plt"
   ]
  },
  {
   "cell_type": "code",
   "execution_count": 2,
   "id": "f98acf14-496e-4127-970d-731e010a1854",
   "metadata": {},
   "outputs": [],
   "source": [
    "myData = pd.read_csv('3.2_mycar.csv')"
   ]
  },
  {
   "cell_type": "code",
   "execution_count": 3,
   "id": "b6bc0889-319a-446a-8f5e-0f7d43b0bd1d",
   "metadata": {},
   "outputs": [],
   "source": [
    "X = myData.iloc[:,:-1].values\n",
    "Y = myData.iloc[:,1].values"
   ]
  },
  {
   "cell_type": "code",
   "execution_count": 4,
   "id": "a4f34141-12bf-4b1e-b3b8-008308532f3d",
   "metadata": {},
   "outputs": [],
   "source": [
    "from sklearn.model_selection import train_test_split"
   ]
  },
  {
   "cell_type": "markdown",
   "id": "4d41b6a6-916a-4672-93d9-f91d36532a1d",
   "metadata": {},
   "source": [
    "получаем независимые и зависимые переменные из обучающей и тестовой выборки. Размер тестовой выборки задаем 0,3."
   ]
  },
  {
   "cell_type": "code",
   "execution_count": 6,
   "id": "323e3d4f-d566-4db6-83c5-4f5d33840ba0",
   "metadata": {},
   "outputs": [],
   "source": [
    "X_train, X_test, Y_train, Y_test = train_test_split(X, Y, test_size= 0.3)"
   ]
  },
  {
   "cell_type": "markdown",
   "id": "495dc558-d5e0-4168-bdf8-7881bd159b68",
   "metadata": {},
   "source": [
    "обучим модель:"
   ]
  },
  {
   "cell_type": "code",
   "execution_count": 8,
   "id": "e54be430-df7d-4036-aca7-47d0604fcb67",
   "metadata": {},
   "outputs": [
    {
     "data": {
      "text/plain": [
       "LinearRegression()"
      ]
     },
     "execution_count": 8,
     "metadata": {},
     "output_type": "execute_result"
    }
   ],
   "source": [
    "from sklearn.linear_model import LinearRegression\n",
    "myModel = LinearRegression() #Обозначаем, что наша модель - линейная регрессия\n",
    "myModel.fit(X_train,Y_train) #обучаем модель на обучающих данных"
   ]
  },
  {
   "cell_type": "code",
   "execution_count": 9,
   "id": "d3289e7f-6f0c-47d5-92d4-31b2b32b1828",
   "metadata": {},
   "outputs": [
    {
     "data": {
      "text/plain": [
       "array([23.35, 68.2 , 38.3 , 65.21, 20.36, 35.31, 35.31, 29.33, 47.27,\n",
       "       26.34, 14.38, 53.25, 47.27,  5.41, 38.3 ])"
      ]
     },
     "execution_count": 9,
     "metadata": {},
     "output_type": "execute_result"
    }
   ],
   "source": [
    "y_pred = myModel.predict(X_test)\n",
    "y_pred"
   ]
  },
  {
   "cell_type": "markdown",
   "id": "b5fabde6-f8b5-42b9-8b9e-d15c08993c3c",
   "metadata": {},
   "source": [
    "3.3 tasks - below"
   ]
  },
  {
   "cell_type": "markdown",
   "id": "8c2d89be-9d25-4850-9b8a-45693e67781b",
   "metadata": {},
   "source": [
    "3.3.1 "
   ]
  },
  {
   "cell_type": "code",
   "execution_count": 23,
   "id": "7cad59ea-5654-495c-8d85-0c1963b75fcb",
   "metadata": {},
   "outputs": [
    {
     "name": "stdout",
     "output_type": "stream",
     "text": [
      "1\n",
      "0\n",
      "9\n",
      "1\n"
     ]
    }
   ],
   "source": [
    "A = [1,3,2,5] #prognose value\n",
    "B = [2,3,-1,4] #true value\n",
    "n = 4\n",
    "ab = 0\n",
    "for i in range(0,4):\n",
    "    ab += (A[i]-B[i])**2\n",
    "    print((A[i]-B[i])**2)"
   ]
  },
  {
   "cell_type": "code",
   "execution_count": 24,
   "id": "24dcf394-3713-4e5e-8663-1660f65ad029",
   "metadata": {},
   "outputs": [
    {
     "data": {
      "text/plain": [
       "2.75"
      ]
     },
     "execution_count": 24,
     "metadata": {},
     "output_type": "execute_result"
    }
   ],
   "source": [
    "MSE = (1/n)*ab\n",
    "MSE #correct"
   ]
  },
  {
   "cell_type": "markdown",
   "id": "ddef7526-d351-46d6-a28c-44980d80f132",
   "metadata": {},
   "source": [
    "3.4 tasks - below\n",
    "\n",
    "Для каких данных лучше использовать OLS?\n",
    "- Если в обучающей выборке мало признаков (верно)\n",
    "\n",
    "(альфа - это темп обучения)"
   ]
  },
  {
   "cell_type": "markdown",
   "id": "10762bd1-11a2-4f74-94f4-7a7e6d96d158",
   "metadata": {},
   "source": [
    "#### 3.4.2 Найдите следующий шаг градиентного спуска. Текущая модель: y=2x; Темп обучения (learning rate): 1/6; Ответ будет выглядеть как y=kx+b, где k и b вы считаете самостоятельно. "
   ]
  },
  {
   "cell_type": "markdown",
   "id": "d9c58bc5-45ce-4fcb-b099-d0f93a0b3c40",
   "metadata": {},
   "source": [
    "y = betta1*x + betta2\n",
    "y = 2x + 0 --> betta_k_minus_one = np.array([[2],[0]])"
   ]
  },
  {
   "cell_type": "code",
   "execution_count": 173,
   "id": "7be255ea-3e1b-4641-a576-2f3bc53a3511",
   "metadata": {},
   "outputs": [],
   "source": [
    "x = np.array([1,2]) #матрица признаков\n",
    "x = np.array([[1,1], [2,1]]) #матрица признаков - добавим к  столбец единицу, чтобы учесть слагаемое betta2\n",
    "x1 = (1,1)\n",
    "y = (2,5)\n",
    "y = np.array([2,5])\n",
    "alfa = 1/6\n",
    "#betta = (x.transpose()*x)^(-1) *x.transpose()*y"
   ]
  },
  {
   "cell_type": "code",
   "execution_count": 181,
   "id": "94b8ca51-f3dc-41fd-a656-1729076fb798",
   "metadata": {},
   "outputs": [],
   "source": [
    "summa = 0\n",
    "betta_k_minus_one = np.array([2,0])\n",
    "for i in range(0,2):\n",
    "    summa += x[i].transpose() * (sum(x[i]*betta_k_minus_one) - y[i])"
   ]
  },
  {
   "cell_type": "code",
   "execution_count": 182,
   "id": "933537f4-7ede-448c-8e5b-4523380f31d7",
   "metadata": {},
   "outputs": [
    {
     "data": {
      "text/plain": [
       "array([-2, -1])"
      ]
     },
     "execution_count": 182,
     "metadata": {},
     "output_type": "execute_result"
    }
   ],
   "source": [
    "summa"
   ]
  },
  {
   "cell_type": "code",
   "execution_count": 179,
   "id": "5772be52-9197-4e4f-a309-be59040c63a6",
   "metadata": {},
   "outputs": [
    {
     "data": {
      "text/plain": [
       "array([2.33333333, 0.16666667])"
      ]
     },
     "execution_count": 179,
     "metadata": {},
     "output_type": "execute_result"
    }
   ],
   "source": [
    "betta_k_minus_one + ([1/3, 1/6])"
   ]
  },
  {
   "cell_type": "code",
   "execution_count": 185,
   "id": "c2295b7e-87b6-4b4b-b80d-784e7813ab42",
   "metadata": {},
   "outputs": [
    {
     "data": {
      "text/plain": [
       "array([2.33333333, 0.16666667])"
      ]
     },
     "execution_count": 185,
     "metadata": {},
     "output_type": "execute_result"
    }
   ],
   "source": [
    "n = 2\n",
    "betta_k = betta_k_minus_one - 2*alfa*(1/n)*summa\n",
    "betta_k #correct"
   ]
  },
  {
   "cell_type": "markdown",
   "id": "35228340-d5ec-47c6-bb5e-2544f7c93af2",
   "metadata": {},
   "source": [
    "then betta1 = 7/3 = 2.33333333, betta2 = 1/6 = 0.16666667\n",
    "- then y = 7/3*x +1/6"
   ]
  },
  {
   "cell_type": "markdown",
   "id": "8a3caaac-72a9-4757-b01d-38d990aaa627",
   "metadata": {},
   "source": [
    "#### 3.4.5 Чему равен коэффициент детерминации на этих данных? Укажите число с точностью до сотых:"
   ]
  },
  {
   "cell_type": "code",
   "execution_count": 216,
   "id": "fad886b4-4d29-41a9-89bc-4202ea59d170",
   "metadata": {},
   "outputs": [],
   "source": [
    "fi_list = [1,3,2,5] #prognosed value\n",
    "yi_list = [2,3,-1,4] #true value"
   ]
  },
  {
   "cell_type": "code",
   "execution_count": 217,
   "id": "7e4ed03a-c71f-4029-8657-c97dd5eaf03c",
   "metadata": {},
   "outputs": [
    {
     "data": {
      "text/plain": [
       "0.2142857142857143"
      ]
     },
     "execution_count": 217,
     "metadata": {},
     "output_type": "execute_result"
    }
   ],
   "source": [
    "#v1\n",
    "###\n",
    "y_mean = sum(yi_list)/float(len(yi_list))\n",
    "ss_tot = sum((yi-y_mean)**2 for yi in yi_list)\n",
    "ss_err = sum((yi-fi)**2 for yi,fi in zip(yi_list,fi_list))\n",
    "r2 = 1 - (ss_err/ss_tot)\n",
    "###\n",
    "r2 #correct"
   ]
  },
  {
   "cell_type": "code",
   "execution_count": 212,
   "id": "66388316-9673-4f13-bd8a-81bcf16965eb",
   "metadata": {},
   "outputs": [],
   "source": [
    "#Коэффициент детерминации\n",
    "SS_res = ss_err\n",
    "SS_tot = ss_tot"
   ]
  },
  {
   "cell_type": "code",
   "execution_count": 213,
   "id": "9df294f4-920f-4d8c-bc73-6730da120027",
   "metadata": {},
   "outputs": [
    {
     "data": {
      "text/plain": [
       "0.2142857142857143"
      ]
     },
     "execution_count": 213,
     "metadata": {},
     "output_type": "execute_result"
    }
   ],
   "source": [
    "R_square = 1 - SS_res/SS_tot #доля дисперсии зависимой переменной\n",
    "R_square"
   ]
  }
 ],
 "metadata": {
  "kernelspec": {
   "display_name": "Python 3 (ipykernel)",
   "language": "python",
   "name": "python3"
  },
  "language_info": {
   "codemirror_mode": {
    "name": "ipython",
    "version": 3
   },
   "file_extension": ".py",
   "mimetype": "text/x-python",
   "name": "python",
   "nbconvert_exporter": "python",
   "pygments_lexer": "ipython3",
   "version": "3.8.10"
  }
 },
 "nbformat": 4,
 "nbformat_minor": 5
}
